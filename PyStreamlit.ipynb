{
 "cells": [
  {
   "cell_type": "code",
   "execution_count": null,
   "id": "4ca4027f",
   "metadata": {},
   "outputs": [],
   "source": [
    "# Import Python Packages\n",
    "\n",
    "import pandas as pd\n",
    "import streamlit as st\n",
    "from snowflake.snowpark.context import get_active_session\n",
    "import altair as alt\n"
   ]
  },
  {
   "cell_type": "code",
   "execution_count": null,
   "id": "312e9d64",
   "metadata": {},
   "outputs": [],
   "source": [
    "\n",
    "# Get the Current Credentials\n",
    "session = get_active_session()\n"
   ]
  },
  {
   "cell_type": "code",
   "execution_count": null,
   "id": "8fcbd8bd",
   "metadata": {},
   "outputs": [],
   "source": [
    "\n",
    "# Streamlit App\n",
    "st.title(\":snowflake: Tasty Bytes Streamlit App :snowflake:\")\n",
    "st.write(\n",
    "    \"\"\"Tasty Bytes is a fictitious, global food truck network, that is on a mission to serve unique food options with high quality items in a safe, convenient and cost effective way. In order to drive\n",
    "forward on their mission, Tasty Bytes is beginning to leverage the Snowflake Data Cloud.\n",
    "    \"\"\"\n",
    ")\n"
   ]
  },
  {
   "cell_type": "code",
   "execution_count": null,
   "id": "83222513",
   "metadata": {},
   "outputs": [],
   "source": [
    "\n",
    "st.divider()\n"
   ]
  },
  {
   "cell_type": "code",
   "execution_count": null,
   "id": "a9eecf9e",
   "metadata": {},
   "outputs": [],
   "source": [
    "\n",
    "\n",
    "@st.cache_data\n",
    "def get_city_sales_data(city_names: list, start_year: int = 2020, end_year: int = 2023):\n",
    "    sql = f\"\"\"\n",
    "        SELECT\n",
    "            date,\n",
    "            primary_city,\n",
    "            SUM(order_total) AS sum_orders\n",
    "        FROM tasty_bytes.analytics.orders_v\n",
    "        WHERE primary_city in ({city_names})\n",
    "            and year(date) between {start_year} and {end_year}\n",
    "        GROUP BY date, primary_city\n",
    "        ORDER BY date DESC\n",
    "    \"\"\"\n",
    "    sales_data = session.sql(sql).to_pandas()\n",
    "    return sales_data, sql\n"
   ]
  },
  {
   "cell_type": "code",
   "execution_count": null,
   "id": "73986eb0",
   "metadata": {},
   "outputs": [],
   "source": [
    "\n",
    "@st.cache_data\n",
    "def get_unique_cities():\n",
    "    sql = \"\"\"\n",
    "        SELECT DISTINCT primary_city\n",
    "        FROM tasty_bytes.analytics.orders_v\n",
    "        ORDER BY primary_city\n",
    "    \"\"\"\n",
    "    city_data = session.sql(sql).to_pandas()\n",
    "    return city_data\n",
    "\n",
    "def get_city_sales_chart(sales_data: pd.DataFrame):\n",
    "    sales_data[\"SUM_ORDERS\"] = pd.to_numeric(sales_data[\"SUM_ORDERS\"])\n",
    "    sales_data[\"DATE\"] = pd.to_datetime(sales_data[\"DATE\"])\n",
    "\n",
    "    # Create an Altair chart object\n",
    "    chart = (\n",
    "        alt.Chart(sales_data)\n",
    "        .mark_line(point=False, tooltip=True)\n",
    "        .encode(\n",
    "            alt.X(\"DATE\", title=\"Date\"),\n",
    "            alt.Y(\"SUM_ORDERS\", title=\"Total Orders Sum USD\"),\n",
    "            color=\"PRIMARY_CITY\",\n",
    "        )\n",
    "    )\n",
    "    return chart\n",
    "\n"
   ]
  },
  {
   "cell_type": "code",
   "execution_count": null,
   "id": "cb6c88e0",
   "metadata": {},
   "outputs": [],
   "source": [
    "\n",
    "def format_sql(sql):\n",
    "    # Remove padded space for visual purposes\n",
    "    return sql.replace(\"\\n        \", \"\\n\")\n",
    "\n",
    "\n",
    "first_col, second_col = st.columns(2, gap=\"large\")\n"
   ]
  },
  {
   "cell_type": "code",
   "execution_count": null,
   "id": "fdd58ec3",
   "metadata": {},
   "outputs": [],
   "source": [
    "\n",
    "with first_col:\n",
    "    start_year, end_year = st.select_slider(\n",
    "        \"Select date range you want to filter the chart on below:\",\n",
    "        options=range(2020, 2024),\n",
    "        value=(2020, 2023),\n",
    "    )\n"
   ]
  },
  {
   "cell_type": "code",
   "execution_count": null,
   "id": "0c8809cf",
   "metadata": {},
   "outputs": [],
   "source": [
    "with second_col:\n",
    "    selected_city = st.multiselect(\n",
    "        label=\"Select cities below that you want added to the chart below:\",\n",
    "        options=get_unique_cities()[\"PRIMARY_CITY\"].tolist(),\n",
    "        default=\"San Mateo\",\n",
    "    )\n",
    "if len(selected_city) == 0:\n",
    "    city_selection = \"\"\n",
    "else:\n",
    "    city_selection = selected_city\n",
    "city_selection_list = (\"'\" + \"','\".join(city_selection) + \"'\") if city_selection else \"\"\n"
   ]
  },
  {
   "cell_type": "code",
   "execution_count": null,
   "id": "49a04147",
   "metadata": {},
   "outputs": [],
   "source": [
    "\n",
    "sales_data, sales_sql = get_city_sales_data(city_selection_list, start_year, end_year)\n",
    "sales_fig = get_city_sales_chart(sales_data)\n",
    "\n"
   ]
  },
  {
   "cell_type": "code",
   "execution_count": null,
   "id": "314fedd7",
   "metadata": {},
   "outputs": [],
   "source": [
    "\n",
    "chart_tab, dataframe_tab, query_tab = st.tabs([\"Chart\", \"Raw Data\", \"SQL Query\"])\n",
    "chart_tab.altair_chart(sales_fig, use_container_width=True)\n",
    "dataframe_tab.dataframe(sales_data, use_container_width=True)\n",
    "query_tab.code(format_sql(sales_sql), \"sql\")\n",
    "\n"
   ]
  }
 ],
 "metadata": {
  "language_info": {
   "name": "python"
  }
 },
 "nbformat": 4,
 "nbformat_minor": 5
}
