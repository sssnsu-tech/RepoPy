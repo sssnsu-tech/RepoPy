{
 "cells": [
  {
   "cell_type": "markdown",
   "id": "33bd05da-6e36-4ebd-91df-37099c05bd71",
   "metadata": {},
   "source": [
    "<p style=\"text-align:center\">\n",
    "    <a href=\"https://skills.network\" target=\"_blank\">\n",
    "    <img src=\"https://cf-courses-data.s3.us.cloud-object-storage.appdomain.cloud/assets/logos/SN_web_lightmode.png\" width=\"300\" alt=\"Skills Network Logo\">\n",
    "    </a>\n",
    "</p>\n"
   ]
  },
  {
   "cell_type": "markdown",
   "id": "4ba2a6e3-61c6-4741-b043-68c3087d2778",
   "metadata": {},
   "source": [
    "# **Hands-on lab: Exploratory Data Analysis - Laptops Pricing dataset**\n",
    "\n",
    "Estimated time needed: **45** minutes\n",
    "\n",
    "In this lab, you will use the skills acquired throughout the module, to explore the effect of different features on the price of laptops. \n"
   ]
  },
  {
   "cell_type": "markdown",
   "id": "796acc7b-a7fe-4160-ba03-26abff862de8",
   "metadata": {},
   "source": [
    "# Objectives\n",
    "\n",
    "After completing this lab you will be able to:\n",
    "\n",
    " - Visualize individual feature patterns\n",
    " - Run descriptive statistical analysis on the dataset\n",
    " - Use groups and pivot tables to find the effect of categorical variables on price\n",
    " - Use Pearson Correlation to measure the interdependence between variables\n"
   ]
  },
  {
   "cell_type": "markdown",
   "id": "6f2135b4-a30a-4b0e-aa5a-fb89143d6b88",
   "metadata": {},
   "source": [
    "# Setup\n"
   ]
  },
  {
   "cell_type": "markdown",
   "id": "55e6aab3-7dd4-4494-a032-cb3ca24f331f",
   "metadata": {},
   "source": [
    "For this lab, we will be using the following libraries:\n",
    "\n",
    "* `skillsnetwork` for downloading the data\n",
    "*   [`pandas`](https://pandas.pydata.org/?utm_medium=Exinfluencer&utm_source=Exinfluencer&utm_content=000026UJ&utm_term=10006555&utm_id=NA-SkillsNetwork-Channel-SkillsNetworkCoursesIBMML0187ENSkillsNetwork31430127-2021-01-01) for managing the data.\n",
    "*   [`numpy`](https://numpy.org/?utm_medium=Exinfluencer&utm_source=Exinfluencer&utm_content=000026UJ&utm_term=10006555&utm_id=NA-SkillsNetwork-Channel-SkillsNetworkCoursesIBMML0187ENSkillsNetwork31430127-2021-01-01) for mathematical operations.\n",
    "*   [`scipy`](https://docs.scipy.org/doc/scipy/?utm_medium=Exinfluencer&utm_source=Exinfluencer&utm_content=000026UJ&utm_term=10006555&utm_id=NA-SkillsNetwork-Channel-SkillsNetworkCoursesIBMML0187ENSkillsNetwork31430127-2021-01-01) for statistical operations.\n",
    "*   [`seaborn`](https://seaborn.pydata.org/?utm_medium=Exinfluencer&utm_source=Exinfluencer&utm_content=000026UJ&utm_term=10006555&utm_id=NA-SkillsNetwork-Channel-SkillsNetworkCoursesIBMML0187ENSkillsNetwork31430127-2021-01-01) for visualizing the data.\n",
    "*   [`matplotlib`](https://matplotlib.org/?utm_medium=Exinfluencer&utm_source=Exinfluencer&utm_content=000026UJ&utm_term=10006555&utm_id=NA-SkillsNetwork-Channel-SkillsNetworkCoursesIBMML0187ENSkillsNetwork31430127-2021-01-01) for additional plotting tools.\n"
   ]
  },
  {
   "cell_type": "markdown",
   "id": "8102adb0-2a0a-4b48-8b0e-c624157d4eb9",
   "metadata": {},
   "source": [
    "# Install Required Libraries\n",
    "\n",
    "You can install the required libraries by simply running the `pip install` command with a `%` sign before it. For this environment, `seaborn` library requires installation.\n"
   ]
  },
  {
   "cell_type": "code",
   "execution_count": 2,
   "id": "5ee4ddd3-51c9-44c6-a5ef-dc8111d73287",
   "metadata": {},
   "outputs": [
    {
     "name": "stdout",
     "output_type": "stream",
     "text": [
      "Requirement already satisfied: seaborn in c:\\users\\sssns\\appdata\\local\\programs\\python\\python311\\lib\\site-packages (0.13.2)\n",
      "Requirement already satisfied: numpy!=1.24.0,>=1.20 in c:\\users\\sssns\\appdata\\local\\programs\\python\\python311\\lib\\site-packages (from seaborn) (2.3.3)\n",
      "Requirement already satisfied: pandas>=1.2 in c:\\users\\sssns\\appdata\\local\\programs\\python\\python311\\lib\\site-packages (from seaborn) (2.3.3)\n",
      "Requirement already satisfied: matplotlib!=3.6.1,>=3.4 in c:\\users\\sssns\\appdata\\local\\programs\\python\\python311\\lib\\site-packages (from seaborn) (3.10.7)\n",
      "Requirement already satisfied: contourpy>=1.0.1 in c:\\users\\sssns\\appdata\\local\\programs\\python\\python311\\lib\\site-packages (from matplotlib!=3.6.1,>=3.4->seaborn) (1.3.3)\n",
      "Requirement already satisfied: cycler>=0.10 in c:\\users\\sssns\\appdata\\local\\programs\\python\\python311\\lib\\site-packages (from matplotlib!=3.6.1,>=3.4->seaborn) (0.12.1)\n",
      "Requirement already satisfied: fonttools>=4.22.0 in c:\\users\\sssns\\appdata\\local\\programs\\python\\python311\\lib\\site-packages (from matplotlib!=3.6.1,>=3.4->seaborn) (4.60.1)\n",
      "Requirement already satisfied: kiwisolver>=1.3.1 in c:\\users\\sssns\\appdata\\local\\programs\\python\\python311\\lib\\site-packages (from matplotlib!=3.6.1,>=3.4->seaborn) (1.4.9)\n",
      "Requirement already satisfied: packaging>=20.0 in c:\\users\\sssns\\appdata\\local\\programs\\python\\python311\\lib\\site-packages (from matplotlib!=3.6.1,>=3.4->seaborn) (24.2)\n",
      "Requirement already satisfied: pillow>=8 in c:\\users\\sssns\\appdata\\local\\programs\\python\\python311\\lib\\site-packages (from matplotlib!=3.6.1,>=3.4->seaborn) (11.3.0)\n",
      "Requirement already satisfied: pyparsing>=3 in c:\\users\\sssns\\appdata\\local\\programs\\python\\python311\\lib\\site-packages (from matplotlib!=3.6.1,>=3.4->seaborn) (3.2.5)\n",
      "Requirement already satisfied: python-dateutil>=2.7 in c:\\users\\sssns\\appdata\\local\\programs\\python\\python311\\lib\\site-packages (from matplotlib!=3.6.1,>=3.4->seaborn) (2.9.0.post0)\n",
      "Requirement already satisfied: pytz>=2020.1 in c:\\users\\sssns\\appdata\\local\\programs\\python\\python311\\lib\\site-packages (from pandas>=1.2->seaborn) (2025.2)\n",
      "Requirement already satisfied: tzdata>=2022.7 in c:\\users\\sssns\\appdata\\local\\programs\\python\\python311\\lib\\site-packages (from pandas>=1.2->seaborn) (2025.2)\n",
      "Requirement already satisfied: six>=1.5 in c:\\users\\sssns\\appdata\\local\\programs\\python\\python311\\lib\\site-packages (from python-dateutil>=2.7->matplotlib!=3.6.1,>=3.4->seaborn) (1.17.0)\n",
      "Note: you may need to restart the kernel to use updated packages.\n"
     ]
    }
   ],
   "source": [
    "%pip install seaborn"
   ]
  },
  {
   "cell_type": "markdown",
   "id": "2a8d3df3-9080-4566-a535-d35e4b37b1e8",
   "metadata": {},
   "source": [
    "### Importing Required Libraries\n",
    "\n",
    "_We recommend you import all required libraries in one place (here):_\n"
   ]
  },
  {
   "cell_type": "code",
   "execution_count": 3,
   "id": "c2f29b87-def3-468a-ab63-1770db3fc657",
   "metadata": {},
   "outputs": [],
   "source": [
    "import numpy as np\n",
    "import pandas as pd\n",
    "import matplotlib.pyplot as plt\n",
    "import seaborn as sns\n",
    "from scipy import stats\n",
    "%matplotlib inline"
   ]
  },
  {
   "cell_type": "markdown",
   "id": "591cf75b-5071-420b-8537-a40e9a5389ca",
   "metadata": {},
   "source": [
    "# Import the dataset\n",
    "\n",
    "You should download the modified version of the data set from the last module. \n",
    "Run the following code block to download the CSV file to this environment.\n",
    "\n",
    "\n",
    "The functions below will download the dataset into your browser:\n"
   ]
  },
  {
   "cell_type": "code",
   "execution_count": 4,
   "id": "9e0ccb76-b90d-4cbd-9784-8e2f1cf84fe7",
   "metadata": {},
   "outputs": [],
   "source": [
    "try:\n",
    "    from pyodide.http import pyfetch  # available only in Pyodide\n",
    "except ImportError:\n",
    "    pyfetch = None\n",
    "\n",
    "async def download(url, filename):\n",
    "    if pyfetch is not None:\n",
    "        resp = await pyfetch(url)\n",
    "        data = await resp.bytes()\n",
    "    else:\n",
    "        import httpx\n",
    "        async with httpx.AsyncClient(follow_redirects=True, timeout=60) as client:\n",
    "            r = await client.get(url)\n",
    "            r.raise_for_status()\n",
    "            data = r.content\n",
    "    with open(filename, \"wb\") as f:\n",
    "        f.write(data)"
   ]
  },
  {
   "cell_type": "code",
   "execution_count": 5,
   "id": "06cac0e5-1872-417e-8ad1-5e250d2840e6",
   "metadata": {},
   "outputs": [],
   "source": [
    "filepath=\"https://cf-courses-data.s3.us.cloud-object-storage.appdomain.cloud/IBMDeveloperSkillsNetwork-DA0101EN-Coursera/laptop_pricing_dataset_mod2.csv\""
   ]
  },
  {
   "cell_type": "code",
   "execution_count": 8,
   "id": "24859532-848b-4cf4-baca-1a28dc6887d7",
   "metadata": {},
   "outputs": [],
   "source": [
    "import os\n",
    "\n",
    "os.makedirs(\"../src/lab4\", exist_ok=True)\n",
    "await download(filepath, \"../src/lab4/laptops.csv\")\n",
    "file_name=\"../src/lab4/laptops.csv\""
   ]
  },
  {
   "cell_type": "markdown",
   "id": "85a84c25-79de-4fd1-806c-d5199dff62f7",
   "metadata": {},
   "source": [
    "Import the file to a pandas dataframe.\n"
   ]
  },
  {
   "cell_type": "code",
   "execution_count": 9,
   "id": "3f97f3a1-8feb-46ac-8ac5-5808efa7423e",
   "metadata": {},
   "outputs": [],
   "source": [
    "df = pd.read_csv(file_name, header=0)"
   ]
  },
  {
   "cell_type": "markdown",
   "id": "70e69e0e-ffb8-4674-933a-828369e63fb3",
   "metadata": {},
   "source": [
    "> Note: This version of the lab is working on JupyterLite, which requires the dataset to be downloaded to the interface. While working on the downloaded version of this notebook on their local machines, the learners can simply **skip the steps above**, and simply use the URL directly in the `pandas.read_csv()` function. You can uncomment and run the statements in the cell below.\n"
   ]
  },
  {
   "cell_type": "code",
   "execution_count": null,
   "id": "eddb4ba9-f41d-4d5e-8adb-68c760912cf3",
   "metadata": {},
   "outputs": [],
   "source": [
    "#filepath=\"https://cf-courses-data.s3.us.cloud-object-storage.appdomain.cloud/IBMDeveloperSkillsNetwork-DA0101EN-Coursera/laptop_pricing_dataset_mod2.csv\"\n",
    "#df = pd.read_csv(filepath, header=None)"
   ]
  },
  {
   "cell_type": "markdown",
   "id": "17d10d29-d49f-4dc3-8eca-e93200d202db",
   "metadata": {},
   "source": [
    "Print the first 5 entries of the dataset to confirm loading.\n"
   ]
  },
  {
   "cell_type": "code",
   "execution_count": 10,
   "id": "fc281aa0-8ef1-4411-8650-21986e366028",
   "metadata": {},
   "outputs": [
    {
     "data": {
      "text/html": [
       "<div>\n",
       "<style scoped>\n",
       "    .dataframe tbody tr th:only-of-type {\n",
       "        vertical-align: middle;\n",
       "    }\n",
       "\n",
       "    .dataframe tbody tr th {\n",
       "        vertical-align: top;\n",
       "    }\n",
       "\n",
       "    .dataframe thead th {\n",
       "        text-align: right;\n",
       "    }\n",
       "</style>\n",
       "<table border=\"1\" class=\"dataframe\">\n",
       "  <thead>\n",
       "    <tr style=\"text-align: right;\">\n",
       "      <th></th>\n",
       "      <th>Unnamed: 0.1</th>\n",
       "      <th>Unnamed: 0</th>\n",
       "      <th>Manufacturer</th>\n",
       "      <th>Category</th>\n",
       "      <th>GPU</th>\n",
       "      <th>OS</th>\n",
       "      <th>CPU_core</th>\n",
       "      <th>Screen_Size_inch</th>\n",
       "      <th>CPU_frequency</th>\n",
       "      <th>RAM_GB</th>\n",
       "      <th>Storage_GB_SSD</th>\n",
       "      <th>Weight_pounds</th>\n",
       "      <th>Price</th>\n",
       "      <th>Price-binned</th>\n",
       "      <th>Screen-Full_HD</th>\n",
       "      <th>Screen-IPS_panel</th>\n",
       "    </tr>\n",
       "  </thead>\n",
       "  <tbody>\n",
       "    <tr>\n",
       "      <th>0</th>\n",
       "      <td>0</td>\n",
       "      <td>0</td>\n",
       "      <td>Acer</td>\n",
       "      <td>4</td>\n",
       "      <td>2</td>\n",
       "      <td>1</td>\n",
       "      <td>5</td>\n",
       "      <td>14.0</td>\n",
       "      <td>0.551724</td>\n",
       "      <td>8</td>\n",
       "      <td>256</td>\n",
       "      <td>3.52800</td>\n",
       "      <td>978</td>\n",
       "      <td>Low</td>\n",
       "      <td>0</td>\n",
       "      <td>1</td>\n",
       "    </tr>\n",
       "    <tr>\n",
       "      <th>1</th>\n",
       "      <td>1</td>\n",
       "      <td>1</td>\n",
       "      <td>Dell</td>\n",
       "      <td>3</td>\n",
       "      <td>1</td>\n",
       "      <td>1</td>\n",
       "      <td>3</td>\n",
       "      <td>15.6</td>\n",
       "      <td>0.689655</td>\n",
       "      <td>4</td>\n",
       "      <td>256</td>\n",
       "      <td>4.85100</td>\n",
       "      <td>634</td>\n",
       "      <td>Low</td>\n",
       "      <td>1</td>\n",
       "      <td>0</td>\n",
       "    </tr>\n",
       "    <tr>\n",
       "      <th>2</th>\n",
       "      <td>2</td>\n",
       "      <td>2</td>\n",
       "      <td>Dell</td>\n",
       "      <td>3</td>\n",
       "      <td>1</td>\n",
       "      <td>1</td>\n",
       "      <td>7</td>\n",
       "      <td>15.6</td>\n",
       "      <td>0.931034</td>\n",
       "      <td>8</td>\n",
       "      <td>256</td>\n",
       "      <td>4.85100</td>\n",
       "      <td>946</td>\n",
       "      <td>Low</td>\n",
       "      <td>1</td>\n",
       "      <td>0</td>\n",
       "    </tr>\n",
       "    <tr>\n",
       "      <th>3</th>\n",
       "      <td>3</td>\n",
       "      <td>3</td>\n",
       "      <td>Dell</td>\n",
       "      <td>4</td>\n",
       "      <td>2</td>\n",
       "      <td>1</td>\n",
       "      <td>5</td>\n",
       "      <td>13.3</td>\n",
       "      <td>0.551724</td>\n",
       "      <td>8</td>\n",
       "      <td>128</td>\n",
       "      <td>2.69010</td>\n",
       "      <td>1244</td>\n",
       "      <td>Low</td>\n",
       "      <td>0</td>\n",
       "      <td>1</td>\n",
       "    </tr>\n",
       "    <tr>\n",
       "      <th>4</th>\n",
       "      <td>4</td>\n",
       "      <td>4</td>\n",
       "      <td>HP</td>\n",
       "      <td>4</td>\n",
       "      <td>2</td>\n",
       "      <td>1</td>\n",
       "      <td>7</td>\n",
       "      <td>15.6</td>\n",
       "      <td>0.620690</td>\n",
       "      <td>8</td>\n",
       "      <td>256</td>\n",
       "      <td>4.21155</td>\n",
       "      <td>837</td>\n",
       "      <td>Low</td>\n",
       "      <td>1</td>\n",
       "      <td>0</td>\n",
       "    </tr>\n",
       "  </tbody>\n",
       "</table>\n",
       "</div>"
      ],
      "text/plain": [
       "   Unnamed: 0.1  Unnamed: 0 Manufacturer  Category  GPU  OS  CPU_core  \\\n",
       "0             0           0         Acer         4    2   1         5   \n",
       "1             1           1         Dell         3    1   1         3   \n",
       "2             2           2         Dell         3    1   1         7   \n",
       "3             3           3         Dell         4    2   1         5   \n",
       "4             4           4           HP         4    2   1         7   \n",
       "\n",
       "   Screen_Size_inch  CPU_frequency  RAM_GB  Storage_GB_SSD  Weight_pounds  \\\n",
       "0              14.0       0.551724       8             256        3.52800   \n",
       "1              15.6       0.689655       4             256        4.85100   \n",
       "2              15.6       0.931034       8             256        4.85100   \n",
       "3              13.3       0.551724       8             128        2.69010   \n",
       "4              15.6       0.620690       8             256        4.21155   \n",
       "\n",
       "   Price Price-binned  Screen-Full_HD  Screen-IPS_panel  \n",
       "0    978          Low               0                 1  \n",
       "1    634          Low               1                 0  \n",
       "2    946          Low               1                 0  \n",
       "3   1244          Low               0                 1  \n",
       "4    837          Low               1                 0  "
      ]
     },
     "execution_count": 10,
     "metadata": {},
     "output_type": "execute_result"
    }
   ],
   "source": [
    "df.head(5)"
   ]
  },
  {
   "cell_type": "code",
   "execution_count": null,
   "metadata": {},
   "outputs": [],
   "source": []
  },
  {
   "cell_type": "code",
   "execution_count": null,
   "metadata": {},
   "outputs": [],
   "source": []
  },
  {
   "cell_type": "markdown",
   "id": "65a401ea-9b22-4dfb-80ee-8fff0efca6da",
   "metadata": {},
   "source": [
    "# Task 1 - Visualize individual feature patterns\n",
    "\n",
    "### Continuous valued features\n",
    "Generate regression plots for each of the parameters \"CPU_frequency\", \"Screen_Size_inch\" and \"Weight_pounds\" against \"Price\". Also, print the value of correlation of each feature with \"Price\".\n"
   ]
  },
  {
   "cell_type": "code",
   "execution_count": 14,
   "id": "4a7832ab-3239-4e4b-a352-db24f5d366c9",
   "metadata": {},
   "outputs": [
    {
     "data": {
      "image/png": "[encoded data removed]",
      "text/plain": [
       "<Figure size 1000x600 with 1 Axes>"
      ]
     },
     "metadata": {},
     "output_type": "display_data"
    }
   ],
   "source": [
    "# Write your code below and press Shift+Enter to execute\n",
    "# CPU_frequency plot    \n",
    "plt.figure(figsize=(10,6))  \n",
    "sns.histplot(df['CPU_frequency'], bins=20, kde=True)\n",
    "plt.title('Distribution of CPU Frequency')\n",
    "plt.xlabel('CPU Frequency (GHz)')\n",
    "plt.ylabel('Frequency')\n",
    "plt.show()  "
   ]
  },
  {
   "cell_type": "markdown",
   "id": "5b1a2adc-9fee-4479-84fd-0af7186f6d17",
   "metadata": {},
   "source": [
    "<details>\n",
    "    <summary>Click here for Solution</summary>\n",
    "\n",
    "```python\n",
    "sns.regplot(x=\"CPU_frequency\", y=\"Price\", data=df)\n",
    "plt.ylim(0,)\n",
    "```\n",
    "\n",
    "</details>\n"
   ]
  },
  {
   "cell_type": "code",
   "execution_count": 13,
   "id": "a77bcef7-bff0-424f-9124-d47e7b048e7a",
   "metadata": {},
   "outputs": [
    {
     "data": {
      "image/png": "[encoded data removed]",
      "text/plain": [
       "<Figure size 1000x600 with 1 Axes>"
      ]
     },
     "metadata": {},
     "output_type": "display_data"
    }
   ],
   "source": [
    "# Write your code below and press Shift+Enter to execute\n",
    "# Screen_Size_inch plot\n",
    "plt.figure(figsize=(10,6))  \n",
    "sns.histplot(df['Screen_Size_inch'], bins=20, kde=True)\n",
    "plt.title('Distribution of Screen Size (inch)')\n",
    "plt.xlabel('Screen Size (inch)')\n",
    "plt.ylabel('Frequency')\n",
    "plt.show()"
   ]
  },
  {
   "cell_type": "markdown",
   "id": "322dd79a-a16f-4e9a-a4a8-c221cd833bf2",
   "metadata": {},
   "source": [
    "<details>\n",
    "    <summary>Click here for Solution</summary>\n",
    "\n",
    "```python\n",
    "sns.regplot(x=\"Screen_Size_inch\", y=\"Price\", data=df)\n",
    "plt.ylim(0,)\n",
    "```\n",
    "\n",
    "</details>\n"
   ]
  },
  {
   "cell_type": "code",
   "execution_count": null,
   "id": "2f820bee-53e9-4b22-8df4-d55958e6f984",
   "metadata": {},
   "outputs": [
    {
     "data": {
      "image/png": "[encoded data removed]",
      "text/plain": [
       "<Figure size 1000x600 with 1 Axes>"
      ]
     },
     "metadata": {},
     "output_type": "display_data"
    }
   ],
   "source": [
    "# Write your code below and press Shift+Enter to execute\n",
    "# Weight_pounds plot    \n",
    "plt.figure(figsize=(10,6))  \n",
    "sns.histplot(df['Weight_pounds'], bins=20, kde=True)\n",
    "plt.title('Distribution of Weight (pounds)')\n",
    "plt.xlabel('Weight (pounds)')\n",
    "plt.ylabel('Frequency')\n",
    "plt.show()  "
   ]
  },
  {
   "cell_type": "markdown",
   "id": "bfd4507c-b5c9-439c-9c6c-62d3a4609b41",
   "metadata": {},
   "source": [
    "<details>\n",
    "    <summary>Click here for Solution</summary>\n",
    "\n",
    "```python\n",
    "sns.regplot(x=\"Weight_pounds\", y=\"Price\", data=df)\n",
    "plt.ylim(0,)\n",
    "```\n",
    "\n",
    "</details>\n"
   ]
  },
  {
   "cell_type": "code",
   "execution_count": null,
   "id": "68df63bf-b134-498e-ba0b-9c1390b1a330",
   "metadata": {},
   "outputs": [],
   "source": [
    "# Correlation values of the three attributes with Price\n"
   ]
  },
  {
   "cell_type": "markdown",
   "id": "936f726b-fc05-40f6-8043-b640cce598cc",
   "metadata": {},
   "source": [
    "<details>\n",
    "    <summary>Click here for Solution</summary>\n",
    "\n",
    "```python\n",
    "for param in [\"CPU_frequency\", \"Screen_Size_inch\",\"Weight_pounds\"]:\n",
    "    print(f\"Correlation of Price and {param} is \", df[[param,\"Price\"]].corr())\n",
    "```\n",
    "\n",
    "</details>\n"
   ]
  },
  {
   "cell_type": "markdown",
   "id": "a5c813b8-a017-4461-86ca-f5f25d282df8",
   "metadata": {},
   "source": [
    "Interpretation: \"CPU_frequency\" has a 36% positive correlation with the price of the laptops. The other two parameters have weak correlation with price.\n"
   ]
  },
  {
   "cell_type": "markdown",
   "id": "7c7a6a61-ab98-4204-ac40-96cb05921748",
   "metadata": {},
   "source": [
    "### Categorical features\n",
    "Generate Box plots for the different feature that hold categorical values. These features would be \"Category\", \"GPU\", \"OS\", \"CPU_core\", \"RAM_GB\", \"Storage_GB_SSD\"\n"
   ]
  },
  {
   "cell_type": "code",
   "execution_count": null,
   "id": "49292083-d28c-4864-bbd5-73592bed608b",
   "metadata": {},
   "outputs": [],
   "source": [
    "# Write your code below and press Shift+Enter to execute\n",
    "# Category Box plot\n"
   ]
  },
  {
   "cell_type": "markdown",
   "id": "9f50a9bf-6218-402a-a3c9-864983b2279b",
   "metadata": {},
   "source": [
    "<details>\n",
    "    <summary>Click here for Solution</summary>\n",
    "    \n",
    "```python\n",
    "sns.boxplot(x=\"Category\", y=\"Price\", data=df)\n",
    "```\n",
    "\n",
    "</details>\n"
   ]
  },
  {
   "cell_type": "code",
   "execution_count": null,
   "id": "3114fdfc-032c-407e-a956-f53846c2b7ec",
   "metadata": {},
   "outputs": [],
   "source": [
    "# Write your code below and press Shift+Enter to execute\n",
    "# GPU Box plot\n"
   ]
  },
  {
   "cell_type": "markdown",
   "id": "4804fc5b-7014-48fc-a0bf-a81788786bfb",
   "metadata": {},
   "source": [
    "<details>\n",
    "    <summary>Click here for Solution</summary>\n",
    "    \n",
    "```python\n",
    "sns.boxplot(x=\"GPU\", y=\"Price\", data=df)\n",
    "```\n",
    "\n",
    "</details>\n"
   ]
  },
  {
   "cell_type": "code",
   "execution_count": null,
   "id": "604c9a58-71d1-4007-a4b1-2eed04308b6f",
   "metadata": {},
   "outputs": [],
   "source": [
    "# Write your code below and press Shift+Enter to execute\n",
    "# OS Box plot"
   ]
  },
  {
   "cell_type": "markdown",
   "id": "62214e70-416d-45fe-8e35-b450ba4580ba",
   "metadata": {},
   "source": [
    "<details>\n",
    "    <summary>Click here for Solution</summary>\n",
    "    \n",
    "```python\n",
    "sns.boxplot(x=\"OS\", y=\"Price\", data=df)\n",
    "```\n",
    "\n",
    "</details>\n"
   ]
  },
  {
   "cell_type": "code",
   "execution_count": null,
   "id": "b902e552-4f62-41f5-834f-af84803d15a4",
   "metadata": {},
   "outputs": [],
   "source": [
    "# Write your code below and press Shift+Enter to execute\n",
    "# CPU_core Box plot"
   ]
  },
  {
   "cell_type": "markdown",
   "id": "2ff93240-20b7-4d05-b5dc-3f98a6f94f12",
   "metadata": {},
   "source": [
    "<details>\n",
    "    <summary>Click here for Solution</summary>\n",
    "    \n",
    "```python\n",
    "sns.boxplot(x=\"CPU_core\", y=\"Price\", data=df)\n",
    "```\n",
    "\n",
    "</details>\n"
   ]
  },
  {
   "cell_type": "code",
   "execution_count": null,
   "id": "63f234be-235a-4214-bbb0-4b948ff7ad65",
   "metadata": {},
   "outputs": [],
   "source": [
    "# Write your code below and press Shift+Enter to execute\n",
    "# RAM_GB Box plot"
   ]
  },
  {
   "cell_type": "markdown",
   "id": "7cfd8499-ff61-4baf-abd8-2d32e61df26b",
   "metadata": {},
   "source": [
    "<details>\n",
    "    <summary>Click here for Solution</summary>\n",
    "    \n",
    "```python\n",
    "sns.boxplot(x=\"RAM_GB\", y=\"Price\", data=df)\n",
    "```\n",
    "\n",
    "</details>\n"
   ]
  },
  {
   "cell_type": "code",
   "execution_count": 18,
   "id": "d78284a9-828c-4b7c-b11f-66f0d6c540fb",
   "metadata": {},
   "outputs": [
    {
     "data": {
      "image/png": "[encoded data removed]",
      "text/plain": [
       "<Figure size 1000x600 with 1 Axes>"
      ]
     },
     "metadata": {},
     "output_type": "display_data"
    }
   ],
   "source": [
    "# Write your code below and press Shift+Enter to execute\n",
    "# Storage_GB_SSD Box plot\n",
    "plt.figure(figsize=(10,6))  \n",
    "sns.boxplot(x=df['Storage_GB_SSD'], y=df['Price'], data=df)\n",
    "plt.title('Box Plot of Storage (GB) SSD')\n",
    "plt.xlabel('Storage (GB) SSD')\n",
    "plt.show()"
   ]
  },
  {
   "cell_type": "markdown",
   "id": "f67e85bf-5314-4623-a727-183299343cf2",
   "metadata": {},
   "source": [
    "<details>\n",
    "    <summary>Click here for Solution</summary>\n",
    "    \n",
    "```python\n",
    "sns.boxplot(x=\"Storage_GB_SSD\", y=\"Price\", data=df)\n",
    "```\n",
    "\n",
    "</details>\n"
   ]
  },
  {
   "cell_type": "markdown",
   "id": "7bebbd7c-be5c-4dc3-ac00-eb0b25f84822",
   "metadata": {},
   "source": [
    "# Task 2 - Descriptive Statistical Analysis\n"
   ]
  },
  {
   "cell_type": "markdown",
   "id": "426044c0-ce9e-4fe1-9d47-3a6b87ecdcbf",
   "metadata": {},
   "source": [
    "Generate the statistical description of all the features being used in the data set. Include \"object\" data types as well.\n"
   ]
  },
  {
   "cell_type": "code",
   "execution_count": 20,
   "id": "8337c1ca-6586-4b69-8a85-7221686da1a6",
   "metadata": {},
   "outputs": [
    {
     "data": {
      "text/html": [
       "<div>\n",
       "<style scoped>\n",
       "    .dataframe tbody tr th:only-of-type {\n",
       "        vertical-align: middle;\n",
       "    }\n",
       "\n",
       "    .dataframe tbody tr th {\n",
       "        vertical-align: top;\n",
       "    }\n",
       "\n",
       "    .dataframe thead th {\n",
       "        text-align: right;\n",
       "    }\n",
       "</style>\n",
       "<table border=\"1\" class=\"dataframe\">\n",
       "  <thead>\n",
       "    <tr style=\"text-align: right;\">\n",
       "      <th></th>\n",
       "      <th>Manufacturer</th>\n",
       "      <th>Price-binned</th>\n",
       "    </tr>\n",
       "  </thead>\n",
       "  <tbody>\n",
       "    <tr>\n",
       "      <th>count</th>\n",
       "      <td>238</td>\n",
       "      <td>238</td>\n",
       "    </tr>\n",
       "    <tr>\n",
       "      <th>unique</th>\n",
       "      <td>11</td>\n",
       "      <td>3</td>\n",
       "    </tr>\n",
       "    <tr>\n",
       "      <th>top</th>\n",
       "      <td>Dell</td>\n",
       "      <td>Low</td>\n",
       "    </tr>\n",
       "    <tr>\n",
       "      <th>freq</th>\n",
       "      <td>71</td>\n",
       "      <td>160</td>\n",
       "    </tr>\n",
       "  </tbody>\n",
       "</table>\n",
       "</div>"
      ],
      "text/plain": [
       "       Manufacturer Price-binned\n",
       "count           238          238\n",
       "unique           11            3\n",
       "top            Dell          Low\n",
       "freq             71          160"
      ]
     },
     "execution_count": 20,
     "metadata": {},
     "output_type": "execute_result"
    }
   ],
   "source": [
    "# Write your code below and press Shift+Enter to execute\n",
    "# Storage_GB_HDD Box plot   \n",
    "df.describe()\n",
    "df.describe(include='object')"
   ]
  },
  {
   "cell_type": "markdown",
   "id": "8d816d79-9cfa-41c7-a3db-3ff62f15816c",
   "metadata": {},
   "source": [
    "<details>\n",
    "<summary>Click here for Solution</summary>\n",
    "\n",
    "```python\n",
    "print(df.describe())\n",
    "print(df.describe(include=['object']))\n",
    "```\n",
    "\n",
    "</details>\n"
   ]
  },
  {
   "cell_type": "markdown",
   "id": "5047af06-c6cf-4c0f-ae7a-91e5f7fe5798",
   "metadata": {},
   "source": [
    "# Task 3 - GroupBy and Pivot Tables\n",
    "\n",
    "Group the parameters \"GPU\", \"CPU_core\" and \"Price\" to make a pivot table and visualize this connection using the pcolor plot.\n"
   ]
  },
  {
   "cell_type": "code",
   "execution_count": 28,
   "id": "17639427-2358-4ec7-ab93-59f26d0819c3",
   "metadata": {},
   "outputs": [],
   "source": [
    "# Write your code below and press Shift+Enter to execute\n",
    "# Create the group\n",
    "group1 = df[[\"GPU\",\"CPU_core\",\"Price\"]]\n"
   ]
  },
  {
   "cell_type": "code",
   "execution_count": null,
   "metadata": {},
   "outputs": [],
   "source": [
    "group_res1 = group1.groupby([\"GPU\",\"CPU_core\"], as_index=False).mean().sort_values(by=\"Price\", ascending=False)"
   ]
  },
  {
   "cell_type": "code",
   "execution_count": 31,
   "metadata": {},
   "outputs": [
    {
     "name": "stdout",
     "output_type": "stream",
     "text": [
      "   GPU  CPU_core        Price\n",
      "2    1         7  1167.941176\n",
      "8    3         7  1945.097561\n",
      "5    2         7  1744.621622\n",
      "7    3         5  1220.680000\n",
      "1    1         5   998.500000\n",
      "4    2         5  1462.197674\n",
      "0    1         3   769.250000\n",
      "3    2         3   785.076923\n",
      "6    3         3   784.000000\n"
     ]
    }
   ],
   "source": [
    "print(group_res1)"
   ]
  },
  {
   "cell_type": "markdown",
   "id": "7d3a63c0-5400-4de8-b8aa-54a9dc72cd19",
   "metadata": {},
   "source": [
    "<details>\n",
    "<summary>Click here for Solution</summary>\n",
    "\n",
    "```python\n",
    "df_gptest = df[['GPU','CPU_core','Price']]\n",
    "grouped_test1 = df_gptest.groupby(['GPU','CPU_core'],as_index=False).mean()\n",
    "print(grouped_test1)\n",
    "```\n",
    "\n",
    "</details>\n"
   ]
  },
  {
   "cell_type": "code",
   "execution_count": 33,
   "id": "089510d2-d30c-49b9-9f9e-471b1464ec03",
   "metadata": {},
   "outputs": [
    {
     "data": {
      "text/html": [
       "<div>\n",
       "<style scoped>\n",
       "    .dataframe tbody tr th:only-of-type {\n",
       "        vertical-align: middle;\n",
       "    }\n",
       "\n",
       "    .dataframe tbody tr th {\n",
       "        vertical-align: top;\n",
       "    }\n",
       "\n",
       "    .dataframe thead th {\n",
       "        text-align: right;\n",
       "    }\n",
       "</style>\n",
       "<table border=\"1\" class=\"dataframe\">\n",
       "  <thead>\n",
       "    <tr style=\"text-align: right;\">\n",
       "      <th>CPU_core</th>\n",
       "      <th>3</th>\n",
       "      <th>5</th>\n",
       "      <th>7</th>\n",
       "    </tr>\n",
       "    <tr>\n",
       "      <th>GPU</th>\n",
       "      <th></th>\n",
       "      <th></th>\n",
       "      <th></th>\n",
       "    </tr>\n",
       "  </thead>\n",
       "  <tbody>\n",
       "    <tr>\n",
       "      <th>1</th>\n",
       "      <td>769.250000</td>\n",
       "      <td>998.500000</td>\n",
       "      <td>1167.941176</td>\n",
       "    </tr>\n",
       "    <tr>\n",
       "      <th>2</th>\n",
       "      <td>785.076923</td>\n",
       "      <td>1462.197674</td>\n",
       "      <td>1744.621622</td>\n",
       "    </tr>\n",
       "    <tr>\n",
       "      <th>3</th>\n",
       "      <td>784.000000</td>\n",
       "      <td>1220.680000</td>\n",
       "      <td>1945.097561</td>\n",
       "    </tr>\n",
       "  </tbody>\n",
       "</table>\n",
       "</div>"
      ],
      "text/plain": [
       "CPU_core           3            5            7\n",
       "GPU                                           \n",
       "1         769.250000   998.500000  1167.941176\n",
       "2         785.076923  1462.197674  1744.621622\n",
       "3         784.000000  1220.680000  1945.097561"
      ]
     },
     "execution_count": 33,
     "metadata": {},
     "output_type": "execute_result"
    }
   ],
   "source": [
    "# Write your code below and press Shift+Enter to execute\n",
    "# Create the Pivot table\n",
    "group1.pivot_table(index=\"GPU\", columns=\"CPU_core\", values=\"Price\")"
   ]
  },
  {
   "cell_type": "markdown",
   "id": "c3d7cf11-50fc-4c94-a9b0-fdd5e5d3d220",
   "metadata": {},
   "source": [
    "<details>\n",
    "<summary>Click here for Solution</summary>\n",
    "\n",
    "```python\n",
    "grouped_pivot = grouped_test1.pivot(index='GPU',columns='CPU_core')\n",
    "print(grouped_pivot)\n",
    "```\n",
    "\n",
    "</details>\n"
   ]
  },
  {
   "cell_type": "code",
   "execution_count": 36,
   "id": "d3cd3ee0-73c7-49f3-8a20-d78b8144df2c",
   "metadata": {},
   "outputs": [],
   "source": [
    "# Write your code below and press Shift+Enter to execute\n",
    "# Create the Plot\n",
    "import matplotlib.pyplot as plt\n"
   ]
  },
  {
   "cell_type": "code",
   "execution_count": 39,
   "metadata": {},
   "outputs": [
    {
     "data": {
      "text/plain": [
       "<matplotlib.collections.PolyQuadMesh at 0x1a2ab815950>"
      ]
     },
     "execution_count": 39,
     "metadata": {},
     "output_type": "execute_result"
    },
    {
     "data": {
      "image/png": "[encoded data removed]",
      "text/plain": [
       "<Figure size 640x480 with 1 Axes>"
      ]
     },
     "metadata": {},
     "output_type": "display_data"
    }
   ],
   "source": [
    "# matplotlib's boxplot does not support x and y keyword arguments for DataFrame columns.\n",
    "# Use seaborn's boxplot for categorical boxplots:\n",
    "plt.pcolor(group_res1, cmap='RdBu')\n"
   ]
  },
  {
   "cell_type": "markdown",
   "id": "06d84128-2978-4c0c-b1c7-bd9328541840",
   "metadata": {},
   "source": [
    "<details>\n",
    "<summary>Click here for Solution</summary>\n",
    "\n",
    "```python\n",
    "fig, ax = plt.subplots()\n",
    "im = ax.pcolor(grouped_pivot, cmap='RdBu')\n",
    "\n",
    "#label names\n",
    "row_labels = grouped_pivot.columns.levels[1]\n",
    "col_labels = grouped_pivot.index\n",
    "\n",
    "#move ticks and labels to the center\n",
    "ax.set_xticks(np.arange(grouped_pivot.shape[1]) + 0.5, minor=False)\n",
    "ax.set_yticks(np.arange(grouped_pivot.shape[0]) + 0.5, minor=False)\n",
    "\n",
    "#insert labels\n",
    "ax.set_xticklabels(row_labels, minor=False)\n",
    "ax.set_yticklabels(col_labels, minor=False)\n",
    "\n",
    "fig.colorbar(im)\n",
    "```\n",
    "\n",
    "</details>\n"
   ]
  },
  {
   "cell_type": "markdown",
   "id": "ea726f95-03eb-4a1c-958e-cbf950290716",
   "metadata": {},
   "source": [
    "# Task 4 - Pearson Correlation and p-values\n",
    "\n",
    "Use the `scipy.stats.pearsonr()` function to evaluate the Pearson Coefficient and the p-values for each parameter tested above. This will help you determine the parameters most likely to have a strong effect on the price of the laptops.\n"
   ]
  },
  {
   "cell_type": "code",
   "execution_count": null,
   "id": "e3e5373b-9922-41cf-8b3a-3b7eb3ea7c45",
   "metadata": {},
   "outputs": [
    {
     "data": {
      "text/plain": [
       "PearsonRResult(statistic=np.float64(0.5492972971857844), pvalue=np.float64(3.681560628842808e-20))"
      ]
     },
     "execution_count": 42,
     "metadata": {},
     "output_type": "execute_result"
    }
   ],
   "source": [
    "# Write your code below and press Shift+Enter to execute\n",
    "stats.pearsonr(df['RAM_GB'], df['Price'])"
   ]
  },
  {
   "cell_type": "code",
   "execution_count": 43,
   "metadata": {},
   "outputs": [
    {
     "name": "stdout",
     "output_type": "stream",
     "text": [
      "RAM_GB\n",
      "The Pearson Correlation Coefficient for  RAM_GB  is 0.5492972971857844  with a P-value of P = 3.681560628842808e-20\n",
      "CPU_frequency\n",
      "The Pearson Correlation Coefficient for  CPU_frequency  is 0.36666555892588604  with a P-value of P = 5.502463350713339e-09\n",
      "Storage_GB_SSD\n",
      "The Pearson Correlation Coefficient for  Storage_GB_SSD  is 0.243420755218103  with a P-value of P = 0.00014898923191724144\n",
      "Screen_Size_inch\n",
      "The Pearson Correlation Coefficient for  Screen_Size_inch  is -0.11064420817118266  with a P-value of P = 0.0885339784683062\n",
      "Weight_pounds\n",
      "The Pearson Correlation Coefficient for  Weight_pounds  is -0.05031225837751549  with a P-value of P = 0.43976938534338894\n",
      "CPU_core\n",
      "The Pearson Correlation Coefficient for  CPU_core  is 0.4593977773355115  with a P-value of P = 7.912950127009359e-14\n",
      "OS\n",
      "The Pearson Correlation Coefficient for  OS  is -0.22172980114827384  with a P-value of P = 0.000569664255924674\n",
      "GPU\n",
      "The Pearson Correlation Coefficient for  GPU  is 0.2882981988881427  with a P-value of P = 6.166949698364559e-06\n",
      "Category\n",
      "The Pearson Correlation Coefficient for  Category  is 0.28624275581264125  with a P-value of P = 7.225696235806605e-06\n"
     ]
    }
   ],
   "source": [
    "for param in ['RAM_GB','CPU_frequency','Storage_GB_SSD','Screen_Size_inch','Weight_pounds','CPU_core','OS','GPU','Category']:\n",
    "    pearson_coef, p_value = stats.pearsonr(df[param], df['Price'])\n",
    "    print(param)\n",
    "    print(\"The Pearson Correlation Coefficient for \",param,\" is\", pearson_coef, \" with a P-value of P =\", p_value)"
   ]
  },
  {
   "cell_type": "markdown",
   "id": "879c3477-c047-4581-b9ed-629fe6a46dba",
   "metadata": {},
   "source": [
    "<details>\n",
    "<summary>Click here for Solution</summary>\n",
    "\n",
    "```python\n",
    "for param in ['RAM_GB','CPU_frequency','Storage_GB_SSD','Screen_Size_inch','Weight_pounds','CPU_core','OS','GPU','Category']:\n",
    "    pearson_coef, p_value = stats.pearsonr(df[param], df['Price'])\n",
    "    print(param)\n",
    "    print(\"The Pearson Correlation Coefficient for \",param,\" is\", pearson_coef, \" with a P-value of P =\", p_value)\n",
    "```\n",
    "\n",
    "</details>\n"
   ]
  },
  {
   "cell_type": "markdown",
   "id": "8cbe80b9-e0b5-463c-a8ff-ab183e4ec1f2",
   "metadata": {},
   "source": [
    "# Congratulations! You have completed the lab\n"
   ]
  },
  {
   "cell_type": "markdown",
   "id": "1ab2436c-eaf9-4c36-961c-ca9ffa7cf657",
   "metadata": {},
   "source": [
    "## Authors\n"
   ]
  },
  {
   "cell_type": "markdown",
   "id": "3949ccce-9787-495d-a4f5-b8b0fbc8eab1",
   "metadata": {},
   "source": [
    "[Abhishek Gagneja](https://www.coursera.org/instructor/~129186572)\n",
    "\n",
    "[Vicky Kuo](https://author.skills.network/instructors/vicky_kuo)\n"
   ]
  },
  {
   "cell_type": "markdown",
   "id": "3bd72d06-8a49-427c-96ca-2869517467ce",
   "metadata": {},
   "source": [
    "Copyright © 2023 IBM Corporation. All rights reserved.\n"
   ]
  },
  {
   "cell_type": "markdown",
   "id": "30e03ca5-66b7-4cfe-be97-c7d33f920c42",
   "metadata": {},
   "source": [
    "<!--## Change Log\n"
   ]
  },
  {
   "cell_type": "markdown",
   "id": "e5ac61cb-a512-4bc8-921e-2d7247981fe3",
   "metadata": {},
   "source": [
    "<!--|Date (YYYY-MM-DD)|Version|Changed By|Change Description|\n",
    "|-|-|-|-|\n",
    "|2023-09-15|0.1|Abhishek Gagneja|Initial Version Created|\n",
    "|2023-09-18|0.2|Vicky Kuo|Reviewed and Revised|--!>\n"
   ]
  }
 ],
 "metadata": {
  "kernelspec": {
   "display_name": "Python 3",
   "language": "python",
   "name": "python3"
  },
  "language_info": {
   "codemirror_mode": {
    "name": "ipython",
    "version": 3
   },
   "file_extension": ".py",
   "mimetype": "text/x-python",
   "name": "python",
   "nbconvert_exporter": "python",
   "pygments_lexer": "ipython3",
   "version": "3.11.9"
  },
  "prev_pub_hash": "994068b9b31eebd811cd3cd4ab9c182933da07fdbb4b8c586d6f7feb600d87e8"
 },
 "nbformat": 4,
 "nbformat_minor": 4
}
