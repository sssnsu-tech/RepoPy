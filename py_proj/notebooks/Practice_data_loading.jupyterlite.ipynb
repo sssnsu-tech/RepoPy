{
 "cells": [
  {
   "cell_type": "markdown",
   "id": "9cd813fd-3918-4c37-982e-136d59a988f0",
   "metadata": {},
   "source": [
    "<p style=\"text-align:center\">\n",
    "    <a href=\"https://skills.network\" target=\"_blank\">\n",
    "    <img src=\"https://cf-courses-data.s3.us.cloud-object-storage.appdomain.cloud/assets/logos/SN_web_lightmode.png\" width=\"300\" alt=\"Skills Network Logo\">\n",
    "    </a>\n",
    "</p>\n"
   ]
  },
  {
   "cell_type": "markdown",
   "id": "75b2b483-0781-428a-9037-39ec98115948",
   "metadata": {},
   "source": [
    "# **Hands-on Practice Lab: Importing Dataset - Laptops Pricing**\n",
    "\n",
    "Estimated time needed: **20** minutes\n",
    "\n",
    "In this lab, you will practice the process of loading and drawing basic insights on a dataset as learnt through the module. You are being provided with a fresh dataset on 'Laptop Pricing' which will be used for all the practice labs throughout the course.\n"
   ]
  },
  {
   "cell_type": "markdown",
   "id": "4e92e27f-9c77-4d09-89f0-470289c7ebcf",
   "metadata": {},
   "source": [
    "# Objectives\n",
    "\n",
    "After completing this lab you will be able to:\n",
    "\n",
    " - Import a dataset from a CSV file to a Pandas dataframe\n",
    " - Develop some basic insights about the dataset\n"
   ]
  },
  {
   "cell_type": "markdown",
   "id": "d6ff46b4-9d95-4c23-8fde-debe41528d3f",
   "metadata": {},
   "source": [
    "# Setup\n"
   ]
  },
  {
   "cell_type": "markdown",
   "id": "93de71d6-9378-4dfd-bad6-006da601ae01",
   "metadata": {},
   "source": [
    "For this lab, we will be using the following libraries:\n",
    "\n",
    "* `skillsnetwork` for downloading the daataset\n",
    "\n",
    "*   [`pandas`](https://pandas.pydata.org/?utm_medium=Exinfluencer&utm_source=Exinfluencer&utm_content=000026UJ&utm_term=10006555&utm_id=NA-SkillsNetwork-Channel-SkillsNetworkCoursesIBMML0187ENSkillsNetwork31430127-2021-01-01) for managing the data.\n",
    "*   [`numpy`](https://numpy.org/?utm_medium=Exinfluencer&utm_source=Exinfluencer&utm_content=000026UJ&utm_term=10006555&utm_id=NA-SkillsNetwork-Channel-SkillsNetworkCoursesIBMML0187ENSkillsNetwork31430127-2021-01-01) for mathematical operations.\n"
   ]
  },
  {
   "cell_type": "markdown",
   "id": "d9165be1-69a2-4509-a8c7-2aa18d489cf9",
   "metadata": {},
   "source": [
    "### Importing Required Libraries\n"
   ]
  },
  {
   "cell_type": "code",
   "execution_count": 1,
   "id": "ed0e459b-ffa1-410b-a3ab-033ecf5058e0",
   "metadata": {},
   "outputs": [],
   "source": [
    "import pandas as pd\n",
    "import numpy as np"
   ]
  },
  {
   "cell_type": "code",
   "execution_count": 2,
   "metadata": {},
   "outputs": [],
   "source": [
    "try:\n",
    "    from pyodide.http import pyfetch  # available only in Pyodide\n",
    "except ImportError:\n",
    "    pyfetch = None\n",
    "\n",
    "async def download(url, filename):\n",
    "    if pyfetch is not None:\n",
    "        resp = await pyfetch(url)\n",
    "        data = await resp.bytes()\n",
    "    else:\n",
    "        import httpx\n",
    "        async with httpx.AsyncClient(follow_redirects=True, timeout=60) as client:\n",
    "            r = await client.get(url)\n",
    "            r.raise_for_status()\n",
    "            data = r.content\n",
    "    with open(filename, \"wb\") as f:\n",
    "        f.write(data)"
   ]
  },
  {
   "cell_type": "markdown",
   "id": "89d2bf01-0820-483e-9bef-c49597b6be51",
   "metadata": {},
   "source": [
    "The functions below will download the dataset into your browser:\n"
   ]
  },
  {
   "cell_type": "code",
   "execution_count": null,
   "id": "5b8a6864-dd64-4e98-a7b8-521faf9dbb2a",
   "metadata": {},
   "outputs": [],
   "source": [
    "from pyodide.http import pyfetch\n",
    "\n",
    "async def download(url, filename):\n",
    "    response = await pyfetch(url)\n",
    "    if response.status == 200:\n",
    "        with open(filename, \"wb\") as f:\n",
    "            f.write(await response.bytes())"
   ]
  },
  {
   "cell_type": "code",
   "execution_count": 3,
   "id": "dc978ed6-9577-41a8-9c98-21d2c0311cc8",
   "metadata": {},
   "outputs": [],
   "source": [
    "file_path = \"https://cf-courses-data.s3.us.cloud-object-storage.appdomain.cloud/IBMDeveloperSkillsNetwork-DA0101EN-Coursera/laptop_pricing_dataset_base.csv\""
   ]
  },
  {
   "cell_type": "markdown",
   "id": "7976ad37-0dac-436a-ae9d-c16c5cf1ec5b",
   "metadata": {},
   "source": [
    "To obtain the dataset, utilize the download() function as defined above:\n"
   ]
  },
  {
   "cell_type": "code",
   "execution_count": null,
   "id": "a93b5a4c-e3f6-4769-b149-567c62e87d34",
   "metadata": {},
   "outputs": [],
   "source": [
    "from pathlib import Path\n",
    "\n"
   ]
  },
  {
   "cell_type": "code",
   "execution_count": 7,
   "metadata": {},
   "outputs": [],
   "source": [
    "await download(file_path, \"../src/laptops.csv\")\n",
    "file_name = \"../src/laptops.csv\"  # relative to the notebook folder"
   ]
  },
  {
   "cell_type": "code",
   "execution_count": 9,
   "id": "54e33d1d-3584-4a8b-89e6-55174790ad61",
   "metadata": {},
   "outputs": [],
   "source": [
    "df = pd.read_csv(file_name)"
   ]
  },
  {
   "cell_type": "markdown",
   "id": "fc45a909-3ae3-4dfe-892d-621828969fef",
   "metadata": {},
   "source": [
    "> Note: This version of the lab is working on JupyterLite, which requires the dataset to be downloaded to the interface. While working on the downloaded version of this notebook on their local machines, the learners can simply **skip the steps above**, and simply use the URL directly in the `pandas.read_csv()` function. You can uncomment and run the statements in the cell below.\n"
   ]
  },
  {
   "cell_type": "code",
   "execution_count": null,
   "id": "466fc562-6ddc-41f5-888d-e4d9c3182f82",
   "metadata": {},
   "outputs": [],
   "source": [
    "#filepath = \"https://cf-courses-data.s3.us.cloud-object-storage.appdomain.cloud/IBMDeveloperSkillsNetwork-DA0101EN-Coursera/laptop_pricing_dataset_base.csv\"\n",
    "#df = pd.read_csv(filepath, header=None)"
   ]
  },
  {
   "cell_type": "markdown",
   "id": "b636e68d-4665-4ece-b72e-4d99028fb689",
   "metadata": {},
   "source": [
    "<h1> Task #1: </h1>\n",
    "<h3>Load the dataset to a pandas dataframe named 'df'</h3>\n",
    "Print the first 5 entries of the dataset to confirm loading.\n"
   ]
  },
  {
   "cell_type": "code",
   "execution_count": 11,
   "id": "a065a4eb-1208-44ae-a86e-30dee1a35e55",
   "metadata": {},
   "outputs": [
    {
     "name": "stdout",
     "output_type": "stream",
     "text": [
      "     0   1          2   3   4   5       6    7   8    9     10    11\n",
      "0  Acer   4  IPS Panel   2   1   5   35.56  1.6   8  256   1.6   978\n",
      "1  Dell   3    Full HD   1   1   3  39.624  2.0   4  256   2.2   634\n",
      "2  Dell   3    Full HD   1   1   7  39.624  2.7   8  256   2.2   946\n",
      "3  Dell   4  IPS Panel   2   1   5  33.782  1.6   8  128  1.22  1244\n",
      "4    HP   4    Full HD   2   1   7  39.624  1.8   8  256  1.91   837\n"
     ]
    }
   ],
   "source": [
    "# Write your code below and press Shift+Enter to execute.\n",
    "df=pd.read_csv(\"../src/laptops.csv\",header=None)\n",
    "print(df.head(5))"
   ]
  },
  {
   "cell_type": "markdown",
   "id": "42e8d376-8bd1-4915-8667-a4eea8425927",
   "metadata": {},
   "source": [
    "<details><summary>Click here for solution</summary>\n",
    "\n",
    "```python\n",
    "df = pd.read_csv(file_name, header=None)\n",
    "print(df.head())\n",
    "```\n",
    "</details>\n"
   ]
  },
  {
   "cell_type": "markdown",
   "id": "a2d6de3c-1e0d-4d0c-bd20-a75b4d7bd06e",
   "metadata": {},
   "source": [
    "<h1> Task #2: </h1>\n",
    "<h3>Add headers to the dataframe</h3>\n",
    "The headers for the dataset, in sequence, are \"Manufacturer\", \"Category\", \"Screen\", \"GPU\", \"OS\", \"CPU_core\",\n",
    "\"Screen_Size_inch\", \"CPU_frequency\", \"RAM_GB\", \"Storage_GB_SSD\", \"Weight_kg\" and \"Price\".\n",
    "\n",
    "Confirm insertion by printing the first 10 rows of the dataset.\n"
   ]
  },
  {
   "cell_type": "code",
   "execution_count": 15,
   "id": "67559db0-7a54-4606-8e89-66c3628ff7b2",
   "metadata": {},
   "outputs": [
    {
     "name": "stdout",
     "output_type": "stream",
     "text": [
      "  Manufacturer  Category     Screen  GPU  OS  CPU_core Screen_Size_inch  \\\n",
      "0         Acer         4  IPS Panel    2   1         5            35.56   \n",
      "1         Dell         3    Full HD    1   1         3           39.624   \n",
      "2         Dell         3    Full HD    1   1         7           39.624   \n",
      "3         Dell         4  IPS Panel    2   1         5           33.782   \n",
      "4           HP         4    Full HD    2   1         7           39.624   \n",
      "\n",
      "   CPU_frequency  RAM_GB  Storage_GB_SSD Weight_kg  Price  \n",
      "0            1.6       8             256       1.6    978  \n",
      "1            2.0       4             256       2.2    634  \n",
      "2            2.7       8             256       2.2    946  \n",
      "3            1.6       8             128      1.22   1244  \n",
      "4            1.8       8             256      1.91    837  \n"
     ]
    }
   ],
   "source": [
    "# Write your code below and press Shift+Enter to execute.\n",
    "headers = [\"Manufacturer\", \"Category\", \"Screen\", \"GPU\", \"OS\", \"CPU_core\",\n",
    "\"Screen_Size_inch\", \"CPU_frequency\", \"RAM_GB\", \"Storage_GB_SSD\", \"Weight_kg\", \"Price\"]\n",
    "df.columns=headers\n",
    "print(df.head(5))"
   ]
  },
  {
   "cell_type": "markdown",
   "id": "7523216d-0b2e-4060-81cf-0c4ea54b0670",
   "metadata": {},
   "source": [
    "<details><summary>Click here for solution</summary>\n",
    "\n",
    "```python\n",
    "# create headers list\n",
    "headers = [\"Manufacturer\", \"Category\", \"Screen\", \"GPU\", \"OS\", \"CPU_core\", \"Screen_Size_inch\", \"CPU_frequency\", \"RAM_GB\", \"Storage_GB_SSD\", \"Weight_kg\", \"Price\"]\n",
    "df.columns = headers\n",
    "print(df.head(10))\n",
    "```\n",
    "</details>\n"
   ]
  },
  {
   "cell_type": "markdown",
   "id": "0a74085f-f403-4181-8887-7582d9301e86",
   "metadata": {},
   "source": [
    "<h1> Task #3: </h1>\n",
    "<h3>Replace '?' with 'NaN'</h3>\n",
    "Replace the '?' entries in the dataset with NaN value, recevied from the Numpy package.\n"
   ]
  },
  {
   "cell_type": "code",
   "execution_count": null,
   "id": "ba3dc196-e93f-4495-8d3f-038db028a4ea",
   "metadata": {},
   "outputs": [
    {
     "ename": "AttributeError",
     "evalue": "'NoneType' object has no attribute 'replace'",
     "output_type": "error",
     "traceback": [
      "\u001b[31m---------------------------------------------------------------------------\u001b[39m",
      "\u001b[31mAttributeError\u001b[39m                            Traceback (most recent call last)",
      "\u001b[36mCell\u001b[39m\u001b[36m \u001b[39m\u001b[32mIn[18]\u001b[39m\u001b[32m, line 2\u001b[39m\n\u001b[32m      1\u001b[39m \u001b[38;5;66;03m# Write your code below and press Shift+Enter to execute.\u001b[39;00m\n\u001b[32m----> \u001b[39m\u001b[32m2\u001b[39m df = \u001b[43mdf\u001b[49m\u001b[43m.\u001b[49m\u001b[43mreplace\u001b[49m(\u001b[33m\"\u001b[39m\u001b[33m?\u001b[39m\u001b[33m\"\u001b[39m,np.nan, inplace = \u001b[38;5;28;01mTrue\u001b[39;00m)\n\u001b[32m      3\u001b[39m \u001b[38;5;28mprint\u001b[39m(df)\n",
      "\u001b[31mAttributeError\u001b[39m: 'NoneType' object has no attribute 'replace'"
     ]
    }
   ],
   "source": [
    "# Write your code below and press Shift+Enter to execute.\n",
    "df = df.replace(\"?\",np.nan, inplace = True)\n",
    "print(df(hear))\n"
   ]
  },
  {
   "cell_type": "markdown",
   "id": "d3384e8c-92c6-49e8-9831-56d74e1f68a0",
   "metadata": {},
   "source": [
    "<details><summary>Click here for solution</summary>\n",
    "\n",
    "```python\n",
    "df.replace('?',np.nan, inplace = True)\n",
    "```\n",
    "</details>\n"
   ]
  },
  {
   "cell_type": "markdown",
   "id": "b4053362-156d-41e8-9887-6b592996e27d",
   "metadata": {},
   "source": [
    "<h1> Task #4: </h1>\n",
    "<h3>Print the data types of the dataframe columns</h3>\n",
    "Make a note of the data types of the different columns of the dataset.\n"
   ]
  },
  {
   "cell_type": "code",
   "execution_count": null,
   "id": "0f8cff29-6e60-44e0-9b87-5faf5982cfa6",
   "metadata": {},
   "outputs": [],
   "source": [
    "# Write your code below and press Shift+Enter to execute.\n"
   ]
  },
  {
   "cell_type": "markdown",
   "id": "7fc66de6-2cb6-458f-bb6b-389b79928e83",
   "metadata": {},
   "source": [
    "<details><summary>Click here for solution</summary>\n",
    "\n",
    "```python\n",
    "print(df.dtypes)\n",
    "```\n",
    "</details>\n"
   ]
  },
  {
   "cell_type": "markdown",
   "id": "f90b1185-aefe-451b-bb50-9cb65aa67126",
   "metadata": {},
   "source": [
    "<h1> Task #5: </h1>\n",
    "<h3>Print the statistical description of the dataset, including that of 'object' data types.</h3>\n"
   ]
  },
  {
   "cell_type": "code",
   "execution_count": null,
   "id": "12da5b76-6a72-47b8-a886-0671c8c54cfa",
   "metadata": {},
   "outputs": [],
   "source": [
    "# Write your code below and press Shift+Enter to execute.\n"
   ]
  },
  {
   "cell_type": "markdown",
   "id": "4456338b-8b78-4291-8ca1-b8d1401c7a9e",
   "metadata": {},
   "source": [
    "<details><summary>Click here for solution</summary>\n",
    "\n",
    "```python\n",
    "print(df.describe(include='all'))\n",
    "```\n",
    "</details>\n"
   ]
  },
  {
   "cell_type": "markdown",
   "id": "de851bad-f724-4f52-b967-b68b29507e18",
   "metadata": {},
   "source": [
    "<h1> Task #6: </h1>\n",
    "<h3>Print the summary information of the dataset.</h3>\n"
   ]
  },
  {
   "cell_type": "code",
   "execution_count": null,
   "id": "1ceff21f-ba1b-4417-a7a6-215d034b6348",
   "metadata": {},
   "outputs": [],
   "source": [
    "# Write your code below and press Shift+Enter to execute.\n"
   ]
  },
  {
   "cell_type": "markdown",
   "id": "76512465-c809-4382-a533-64f81f54d10c",
   "metadata": {},
   "source": [
    "<details><summary>Click here for solution</summary>\n",
    "\n",
    "```python\n",
    "print(df.info())\n",
    "```\n",
    "</details>\n"
   ]
  },
  {
   "cell_type": "markdown",
   "id": "c2192c93-4441-4d3b-a441-358355006b27",
   "metadata": {},
   "source": [
    "---\n"
   ]
  },
  {
   "cell_type": "markdown",
   "id": "9ecdd5ad-f7e7-4694-afdc-b48d471476fa",
   "metadata": {},
   "source": [
    "# Congratulations! You have completed the lab\n"
   ]
  },
  {
   "cell_type": "markdown",
   "id": "b52b1ff0-9b41-4ba0-9ab8-8b7f0517c679",
   "metadata": {},
   "source": [
    "## Authors\n"
   ]
  },
  {
   "cell_type": "markdown",
   "id": "2ef6303a-59b9-44e2-89f6-acb846638a98",
   "metadata": {},
   "source": [
    "[Abhishek Gagneja](https://www.coursera.org/instructor/~129186572)\n",
    "\n",
    "[Vicky Kuo](https://author.skills.network/instructors/vicky_kuo)\n"
   ]
  },
  {
   "cell_type": "markdown",
   "id": "78f01f56-7787-4f4e-83fb-8ec416ad57a0",
   "metadata": {},
   "source": [
    "Copyright © 2023 IBM Corporation. All rights reserved.\n"
   ]
  },
  {
   "cell_type": "markdown",
   "id": "6044c5b9-d4a0-4c5b-9f4f-6f813e52c1a6",
   "metadata": {},
   "source": [
    "<!--## Change Log\n"
   ]
  },
  {
   "cell_type": "markdown",
   "id": "dd88015f-496b-44ba-b934-6061da537060",
   "metadata": {},
   "source": [
    "<!--|Date (YYYY-MM-DD)|Version|Changed By|Change Description|\n",
    "|-|-|-|-|\n",
    "|2023-09-15|0.1|Abhishek Gagneja|Initial Version Created|\n",
    "|2023-09-18|0.2|Vicky Kuo|Reviewed and Revised|--!>\n"
   ]
  }
 ],
 "metadata": {
  "kernelspec": {
   "display_name": "Python 3",
   "language": "python",
   "name": "python3"
  },
  "language_info": {
   "codemirror_mode": {
    "name": "ipython",
    "version": 3
   },
   "file_extension": ".py",
   "mimetype": "text/x-python",
   "name": "python",
   "nbconvert_exporter": "python",
   "pygments_lexer": "ipython3",
   "version": "3.11.9"
  },
  "prev_pub_hash": "d2fd5497f12749dabe02ecf8b07e42d190fc00ebc879bab96401827f70899996"
 },
 "nbformat": 4,
 "nbformat_minor": 4
}
