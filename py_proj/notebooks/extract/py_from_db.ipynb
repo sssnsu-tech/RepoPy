{
 "cells": [
  {
   "cell_type": "code",
   "execution_count": null,
   "id": "9aef4252",
   "metadata": {},
   "outputs": [],
   "source": [
    "from dmodels import connect\n",
    "connection = connect('database_name', 'schema_name', 'table_name')\n",
    "# always use cursor to execute queries\n",
    "cursor = connection.cursor()\n",
    "cursor.execute('SELECT * FROM table_name')\n",
    "results = cursor.fetchall()\n"
   ]
  },
  {
   "cell_type": "code",
   "execution_count": null,
   "id": "88ff2c69",
   "metadata": {},
   "outputs": [],
   "source": [
    "#free resources\n",
    "cursor.close()\n",
    "connection.close()"
   ]
  }
 ],
 "metadata": {
  "language_info": {
   "name": "python"
  }
 },
 "nbformat": 4,
 "nbformat_minor": 5
}
