{
 "cells": [
  {
   "cell_type": "code",
   "execution_count": 1,
   "metadata": {},
   "outputs": [
    {
     "name": "stdout",
     "output_type": "stream",
     "text": [
      "Requirement already satisfied: snowflake-ml-python in c:\\users\\sssns\\appdata\\local\\programs\\python\\python311\\lib\\site-packages (1.15.0)\n",
      "Requirement already satisfied: anyio<5,>=3.5.0 in c:\\users\\sssns\\appdata\\local\\programs\\python\\python311\\lib\\site-packages (from snowflake-ml-python) (4.11.0)\n",
      "Requirement already satisfied: cachetools<6,>=3.1.1 in c:\\users\\sssns\\appdata\\local\\programs\\python\\python311\\lib\\site-packages (from snowflake-ml-python) (5.5.2)\n",
      "Requirement already satisfied: cloudpickle>=2.0.0 in c:\\users\\sssns\\appdata\\local\\programs\\python\\python311\\lib\\site-packages (from snowflake-ml-python) (3.1.1)\n",
      "Requirement already satisfied: cryptography in c:\\users\\sssns\\appdata\\local\\programs\\python\\python311\\lib\\site-packages (from snowflake-ml-python) (46.0.0)\n",
      "Requirement already satisfied: fsspec<2026,>=2024.6.1 in c:\\users\\sssns\\appdata\\local\\programs\\python\\python311\\lib\\site-packages (from fsspec[http]<2026,>=2024.6.1->snowflake-ml-python) (2025.9.0)\n",
      "Requirement already satisfied: importlib_resources<7,>=6.1.1 in c:\\users\\sssns\\appdata\\local\\programs\\python\\python311\\lib\\site-packages (from snowflake-ml-python) (6.5.2)\n",
      "Requirement already satisfied: numpy<3,>=1.23 in c:\\users\\sssns\\appdata\\local\\programs\\python\\python311\\lib\\site-packages (from snowflake-ml-python) (2.3.3)\n",
      "Requirement already satisfied: packaging<25,>=20.9 in c:\\users\\sssns\\appdata\\local\\programs\\python\\python311\\lib\\site-packages (from snowflake-ml-python) (24.2)\n",
      "Requirement already satisfied: pandas<3,>=2.1.4 in c:\\users\\sssns\\appdata\\local\\programs\\python\\python311\\lib\\site-packages (from snowflake-ml-python) (2.3.3)\n",
      "Requirement already satisfied: platformdirs<5 in c:\\users\\sssns\\appdata\\local\\programs\\python\\python311\\lib\\site-packages (from snowflake-ml-python) (4.4.0)\n",
      "Requirement already satisfied: pyarrow<19.0.0 in c:\\users\\sssns\\appdata\\local\\programs\\python\\python311\\lib\\site-packages (from snowflake-ml-python) (18.1.0)\n",
      "Requirement already satisfied: pydantic<3,>=2.8.2 in c:\\users\\sssns\\appdata\\local\\programs\\python\\python311\\lib\\site-packages (from snowflake-ml-python) (2.11.10)\n",
      "Requirement already satisfied: pyjwt<3,>=2.0.0 in c:\\users\\sssns\\appdata\\local\\programs\\python\\python311\\lib\\site-packages (from snowflake-ml-python) (2.10.1)\n",
      "Requirement already satisfied: pytimeparse<2,>=1.1.8 in c:\\users\\sssns\\appdata\\local\\programs\\python\\python311\\lib\\site-packages (from snowflake-ml-python) (1.1.8)\n",
      "Requirement already satisfied: pyyaml<7,>=6.0 in c:\\users\\sssns\\appdata\\local\\programs\\python\\python311\\lib\\site-packages (from snowflake-ml-python) (6.0.3)\n",
      "Requirement already satisfied: retrying<2,>=1.3.3 in c:\\users\\sssns\\appdata\\local\\programs\\python\\python311\\lib\\site-packages (from snowflake-ml-python) (1.4.2)\n",
      "Requirement already satisfied: s3fs<2026,>=2024.6.1 in c:\\users\\sssns\\appdata\\local\\programs\\python\\python311\\lib\\site-packages (from snowflake-ml-python) (2025.9.0)\n",
      "Requirement already satisfied: scikit-learn<1.7 in c:\\users\\sssns\\appdata\\local\\programs\\python\\python311\\lib\\site-packages (from snowflake-ml-python) (1.6.1)\n",
      "Requirement already satisfied: scipy<2,>=1.9 in c:\\users\\sssns\\appdata\\local\\programs\\python\\python311\\lib\\site-packages (from snowflake-ml-python) (1.16.2)\n",
      "Requirement already satisfied: shap<1,>=0.46.0 in c:\\users\\sssns\\appdata\\local\\programs\\python\\python311\\lib\\site-packages (from snowflake-ml-python) (0.48.0)\n",
      "Requirement already satisfied: snowflake-connector-python<4,>=3.16.0 in c:\\users\\sssns\\appdata\\local\\programs\\python\\python311\\lib\\site-packages (from snowflake-connector-python[pandas]<4,>=3.16.0->snowflake-ml-python) (3.17.4)\n",
      "Requirement already satisfied: snowflake-snowpark-python!=1.26.0,<2,>=1.17.0 in c:\\users\\sssns\\appdata\\local\\programs\\python\\python311\\lib\\site-packages (from snowflake-ml-python) (1.39.1)\n",
      "Requirement already satisfied: snowflake.core<2,>=1.0.2 in c:\\users\\sssns\\appdata\\local\\programs\\python\\python311\\lib\\site-packages (from snowflake-ml-python) (1.8.0)\n",
      "Requirement already satisfied: sqlparse<1,>=0.4 in c:\\users\\sssns\\appdata\\local\\programs\\python\\python311\\lib\\site-packages (from snowflake-ml-python) (0.5.3)\n",
      "Requirement already satisfied: tqdm<5 in c:\\users\\sssns\\appdata\\local\\programs\\python\\python311\\lib\\site-packages (from snowflake-ml-python) (4.67.1)\n",
      "Requirement already satisfied: typing-extensions<5,>=4.1.0 in c:\\users\\sssns\\appdata\\local\\programs\\python\\python311\\lib\\site-packages (from snowflake-ml-python) (4.15.0)\n",
      "Requirement already satisfied: xgboost<3,>=1.7.3 in c:\\users\\sssns\\appdata\\local\\programs\\python\\python311\\lib\\site-packages (from snowflake-ml-python) (2.1.4)\n",
      "Requirement already satisfied: idna>=2.8 in c:\\users\\sssns\\appdata\\local\\programs\\python\\python311\\lib\\site-packages (from anyio<5,>=3.5.0->snowflake-ml-python) (3.10)\n",
      "Requirement already satisfied: sniffio>=1.1 in c:\\users\\sssns\\appdata\\local\\programs\\python\\python311\\lib\\site-packages (from anyio<5,>=3.5.0->snowflake-ml-python) (1.3.1)\n",
      "Requirement already satisfied: aiohttp!=4.0.0a0,!=4.0.0a1 in c:\\users\\sssns\\appdata\\local\\programs\\python\\python311\\lib\\site-packages (from fsspec[http]<2026,>=2024.6.1->snowflake-ml-python) (3.12.15)\n",
      "Requirement already satisfied: python-dateutil>=2.8.2 in c:\\users\\sssns\\appdata\\local\\programs\\python\\python311\\lib\\site-packages (from pandas<3,>=2.1.4->snowflake-ml-python) (2.9.0.post0)\n",
      "Requirement already satisfied: pytz>=2020.1 in c:\\users\\sssns\\appdata\\local\\programs\\python\\python311\\lib\\site-packages (from pandas<3,>=2.1.4->snowflake-ml-python) (2025.2)\n",
      "Requirement already satisfied: tzdata>=2022.7 in c:\\users\\sssns\\appdata\\local\\programs\\python\\python311\\lib\\site-packages (from pandas<3,>=2.1.4->snowflake-ml-python) (2025.2)\n",
      "Requirement already satisfied: annotated-types>=0.6.0 in c:\\users\\sssns\\appdata\\local\\programs\\python\\python311\\lib\\site-packages (from pydantic<3,>=2.8.2->snowflake-ml-python) (0.7.0)\n",
      "Requirement already satisfied: pydantic-core==2.33.2 in c:\\users\\sssns\\appdata\\local\\programs\\python\\python311\\lib\\site-packages (from pydantic<3,>=2.8.2->snowflake-ml-python) (2.33.2)\n",
      "Requirement already satisfied: typing-inspection>=0.4.0 in c:\\users\\sssns\\appdata\\local\\programs\\python\\python311\\lib\\site-packages (from pydantic<3,>=2.8.2->snowflake-ml-python) (0.4.2)\n",
      "Requirement already satisfied: aiobotocore<3.0.0,>=2.5.4 in c:\\users\\sssns\\appdata\\local\\programs\\python\\python311\\lib\\site-packages (from s3fs<2026,>=2024.6.1->snowflake-ml-python) (2.24.2)\n",
      "Requirement already satisfied: aioitertools<1.0.0,>=0.5.1 in c:\\users\\sssns\\appdata\\local\\programs\\python\\python311\\lib\\site-packages (from aiobotocore<3.0.0,>=2.5.4->s3fs<2026,>=2024.6.1->snowflake-ml-python) (0.12.0)\n",
      "Requirement already satisfied: botocore<1.40.19,>=1.40.15 in c:\\users\\sssns\\appdata\\local\\programs\\python\\python311\\lib\\site-packages (from aiobotocore<3.0.0,>=2.5.4->s3fs<2026,>=2024.6.1->snowflake-ml-python) (1.40.18)\n",
      "Requirement already satisfied: jmespath<2.0.0,>=0.7.1 in c:\\users\\sssns\\appdata\\local\\programs\\python\\python311\\lib\\site-packages (from aiobotocore<3.0.0,>=2.5.4->s3fs<2026,>=2024.6.1->snowflake-ml-python) (1.0.1)\n",
      "Requirement already satisfied: multidict<7.0.0,>=6.0.0 in c:\\users\\sssns\\appdata\\local\\programs\\python\\python311\\lib\\site-packages (from aiobotocore<3.0.0,>=2.5.4->s3fs<2026,>=2024.6.1->snowflake-ml-python) (6.6.4)\n",
      "Requirement already satisfied: wrapt<2.0.0,>=1.10.10 in c:\\users\\sssns\\appdata\\local\\programs\\python\\python311\\lib\\site-packages (from aiobotocore<3.0.0,>=2.5.4->s3fs<2026,>=2024.6.1->snowflake-ml-python) (1.17.3)\n",
      "Requirement already satisfied: aiohappyeyeballs>=2.5.0 in c:\\users\\sssns\\appdata\\local\\programs\\python\\python311\\lib\\site-packages (from aiohttp!=4.0.0a0,!=4.0.0a1->fsspec[http]<2026,>=2024.6.1->snowflake-ml-python) (2.6.1)\n",
      "Requirement already satisfied: aiosignal>=1.4.0 in c:\\users\\sssns\\appdata\\local\\programs\\python\\python311\\lib\\site-packages (from aiohttp!=4.0.0a0,!=4.0.0a1->fsspec[http]<2026,>=2024.6.1->snowflake-ml-python) (1.4.0)\n",
      "Requirement already satisfied: attrs>=17.3.0 in c:\\users\\sssns\\appdata\\local\\programs\\python\\python311\\lib\\site-packages (from aiohttp!=4.0.0a0,!=4.0.0a1->fsspec[http]<2026,>=2024.6.1->snowflake-ml-python) (25.3.0)\n",
      "Requirement already satisfied: frozenlist>=1.1.1 in c:\\users\\sssns\\appdata\\local\\programs\\python\\python311\\lib\\site-packages (from aiohttp!=4.0.0a0,!=4.0.0a1->fsspec[http]<2026,>=2024.6.1->snowflake-ml-python) (1.7.0)\n",
      "Requirement already satisfied: propcache>=0.2.0 in c:\\users\\sssns\\appdata\\local\\programs\\python\\python311\\lib\\site-packages (from aiohttp!=4.0.0a0,!=4.0.0a1->fsspec[http]<2026,>=2024.6.1->snowflake-ml-python) (0.4.0)\n",
      "Requirement already satisfied: yarl<2.0,>=1.17.0 in c:\\users\\sssns\\appdata\\local\\programs\\python\\python311\\lib\\site-packages (from aiohttp!=4.0.0a0,!=4.0.0a1->fsspec[http]<2026,>=2024.6.1->snowflake-ml-python) (1.20.1)\n",
      "Requirement already satisfied: urllib3!=2.2.0,<3,>=1.25.4 in c:\\users\\sssns\\appdata\\local\\programs\\python\\python311\\lib\\site-packages (from botocore<1.40.19,>=1.40.15->aiobotocore<3.0.0,>=2.5.4->s3fs<2026,>=2024.6.1->snowflake-ml-python) (2.5.0)\n",
      "Requirement already satisfied: six>=1.5 in c:\\users\\sssns\\appdata\\local\\programs\\python\\python311\\lib\\site-packages (from python-dateutil>=2.8.2->pandas<3,>=2.1.4->snowflake-ml-python) (1.17.0)\n",
      "Requirement already satisfied: joblib>=1.2.0 in c:\\users\\sssns\\appdata\\local\\programs\\python\\python311\\lib\\site-packages (from scikit-learn<1.7->snowflake-ml-python) (1.5.2)\n",
      "Requirement already satisfied: threadpoolctl>=3.1.0 in c:\\users\\sssns\\appdata\\local\\programs\\python\\python311\\lib\\site-packages (from scikit-learn<1.7->snowflake-ml-python) (3.6.0)\n",
      "Requirement already satisfied: slicer==0.0.8 in c:\\users\\sssns\\appdata\\local\\programs\\python\\python311\\lib\\site-packages (from shap<1,>=0.46.0->snowflake-ml-python) (0.0.8)\n",
      "Requirement already satisfied: numba>=0.54 in c:\\users\\sssns\\appdata\\local\\programs\\python\\python311\\lib\\site-packages (from shap<1,>=0.46.0->snowflake-ml-python) (0.62.1)\n",
      "Requirement already satisfied: asn1crypto<2.0.0,>0.24.0 in c:\\users\\sssns\\appdata\\local\\programs\\python\\python311\\lib\\site-packages (from snowflake-connector-python<4,>=3.16.0->snowflake-connector-python[pandas]<4,>=3.16.0->snowflake-ml-python) (1.5.1)\n",
      "Requirement already satisfied: boto3>=1.24 in c:\\users\\sssns\\appdata\\local\\programs\\python\\python311\\lib\\site-packages (from snowflake-connector-python<4,>=3.16.0->snowflake-connector-python[pandas]<4,>=3.16.0->snowflake-ml-python) (1.40.18)\n",
      "Requirement already satisfied: cffi<2.0.0,>=1.9 in c:\\users\\sssns\\appdata\\local\\programs\\python\\python311\\lib\\site-packages (from snowflake-connector-python<4,>=3.16.0->snowflake-connector-python[pandas]<4,>=3.16.0->snowflake-ml-python) (1.17.1)\n",
      "Requirement already satisfied: pyOpenSSL<26.0.0,>=22.0.0 in c:\\users\\sssns\\appdata\\local\\programs\\python\\python311\\lib\\site-packages (from snowflake-connector-python<4,>=3.16.0->snowflake-connector-python[pandas]<4,>=3.16.0->snowflake-ml-python) (25.3.0)\n",
      "Requirement already satisfied: requests<3.0.0 in c:\\users\\sssns\\appdata\\local\\programs\\python\\python311\\lib\\site-packages (from snowflake-connector-python<4,>=3.16.0->snowflake-connector-python[pandas]<4,>=3.16.0->snowflake-ml-python) (2.32.5)\n",
      "Requirement already satisfied: charset_normalizer<4,>=2 in c:\\users\\sssns\\appdata\\local\\programs\\python\\python311\\lib\\site-packages (from snowflake-connector-python<4,>=3.16.0->snowflake-connector-python[pandas]<4,>=3.16.0->snowflake-ml-python) (3.4.3)\n",
      "Requirement already satisfied: certifi>=2017.4.17 in c:\\users\\sssns\\appdata\\local\\programs\\python\\python311\\lib\\site-packages (from snowflake-connector-python<4,>=3.16.0->snowflake-connector-python[pandas]<4,>=3.16.0->snowflake-ml-python) (2025.10.5)\n",
      "Requirement already satisfied: filelock<4,>=3.5 in c:\\users\\sssns\\appdata\\local\\programs\\python\\python311\\lib\\site-packages (from snowflake-connector-python<4,>=3.16.0->snowflake-connector-python[pandas]<4,>=3.16.0->snowflake-ml-python) (3.19.1)\n",
      "Requirement already satisfied: sortedcontainers>=2.4.0 in c:\\users\\sssns\\appdata\\local\\programs\\python\\python311\\lib\\site-packages (from snowflake-connector-python<4,>=3.16.0->snowflake-connector-python[pandas]<4,>=3.16.0->snowflake-ml-python) (2.4.0)\n",
      "Requirement already satisfied: tomlkit in c:\\users\\sssns\\appdata\\local\\programs\\python\\python311\\lib\\site-packages (from snowflake-connector-python<4,>=3.16.0->snowflake-connector-python[pandas]<4,>=3.16.0->snowflake-ml-python) (0.13.3)\n",
      "Requirement already satisfied: pycparser in c:\\users\\sssns\\appdata\\local\\programs\\python\\python311\\lib\\site-packages (from cffi<2.0.0,>=1.9->snowflake-connector-python<4,>=3.16.0->snowflake-connector-python[pandas]<4,>=3.16.0->snowflake-ml-python) (2.23)\n",
      "Requirement already satisfied: setuptools>=40.6.0 in c:\\users\\sssns\\appdata\\local\\programs\\python\\python311\\lib\\site-packages (from snowflake-snowpark-python!=1.26.0,<2,>=1.17.0->snowflake-ml-python) (65.5.0)\n",
      "Requirement already satisfied: wheel in c:\\users\\sssns\\appdata\\local\\programs\\python\\python311\\lib\\site-packages (from snowflake-snowpark-python!=1.26.0,<2,>=1.17.0->snowflake-ml-python) (0.45.1)\n",
      "Requirement already satisfied: protobuf<6.32,>=3.20 in c:\\users\\sssns\\appdata\\local\\programs\\python\\python311\\lib\\site-packages (from snowflake-snowpark-python!=1.26.0,<2,>=1.17.0->snowflake-ml-python) (6.31.1)\n",
      "Requirement already satisfied: tzlocal in c:\\users\\sssns\\appdata\\local\\programs\\python\\python311\\lib\\site-packages (from snowflake-snowpark-python!=1.26.0,<2,>=1.17.0->snowflake-ml-python) (5.3.1)\n",
      "Requirement already satisfied: colorama in c:\\users\\sssns\\appdata\\local\\programs\\python\\python311\\lib\\site-packages (from tqdm<5->snowflake-ml-python) (0.4.6)\n",
      "Requirement already satisfied: s3transfer<0.14.0,>=0.13.0 in c:\\users\\sssns\\appdata\\local\\programs\\python\\python311\\lib\\site-packages (from boto3>=1.24->snowflake-connector-python<4,>=3.16.0->snowflake-connector-python[pandas]<4,>=3.16.0->snowflake-ml-python) (0.13.1)\n",
      "Requirement already satisfied: llvmlite<0.46,>=0.45.0dev0 in c:\\users\\sssns\\appdata\\local\\programs\\python\\python311\\lib\\site-packages (from numba>=0.54->shap<1,>=0.46.0->snowflake-ml-python) (0.45.1)\n",
      "Requirement already satisfied: snowflake-snowpark-python in c:\\users\\sssns\\appdata\\local\\programs\\python\\python311\\lib\\site-packages (1.39.1)\n",
      "Requirement already satisfied: setuptools>=40.6.0 in c:\\users\\sssns\\appdata\\local\\programs\\python\\python311\\lib\\site-packages (from snowflake-snowpark-python) (65.5.0)\n",
      "Requirement already satisfied: wheel in c:\\users\\sssns\\appdata\\local\\programs\\python\\python311\\lib\\site-packages (from snowflake-snowpark-python) (0.45.1)\n",
      "Requirement already satisfied: snowflake-connector-python<4.0.0,>=3.17.0 in c:\\users\\sssns\\appdata\\local\\programs\\python\\python311\\lib\\site-packages (from snowflake-snowpark-python) (3.17.4)\n",
      "Requirement already satisfied: typing-extensions<5.0.0,>=4.1.0 in c:\\users\\sssns\\appdata\\local\\programs\\python\\python311\\lib\\site-packages (from snowflake-snowpark-python) (4.15.0)\n",
      "Requirement already satisfied: pyyaml in c:\\users\\sssns\\appdata\\local\\programs\\python\\python311\\lib\\site-packages (from snowflake-snowpark-python) (6.0.3)\n",
      "Requirement already satisfied: cloudpickle!=2.1.0,!=2.2.0,<=3.1.1,>=1.6.0 in c:\\users\\sssns\\appdata\\local\\programs\\python\\python311\\lib\\site-packages (from snowflake-snowpark-python) (3.1.1)\n",
      "Requirement already satisfied: protobuf<6.32,>=3.20 in c:\\users\\sssns\\appdata\\local\\programs\\python\\python311\\lib\\site-packages (from snowflake-snowpark-python) (6.31.1)\n",
      "Requirement already satisfied: python-dateutil in c:\\users\\sssns\\appdata\\local\\programs\\python\\python311\\lib\\site-packages (from snowflake-snowpark-python) (2.9.0.post0)\n",
      "Requirement already satisfied: tzlocal in c:\\users\\sssns\\appdata\\local\\programs\\python\\python311\\lib\\site-packages (from snowflake-snowpark-python) (5.3.1)\n",
      "Requirement already satisfied: asn1crypto<2.0.0,>0.24.0 in c:\\users\\sssns\\appdata\\local\\programs\\python\\python311\\lib\\site-packages (from snowflake-connector-python<4.0.0,>=3.17.0->snowflake-snowpark-python) (1.5.1)\n",
      "Requirement already satisfied: boto3>=1.24 in c:\\users\\sssns\\appdata\\local\\programs\\python\\python311\\lib\\site-packages (from snowflake-connector-python<4.0.0,>=3.17.0->snowflake-snowpark-python) (1.40.18)\n",
      "Requirement already satisfied: botocore>=1.24 in c:\\users\\sssns\\appdata\\local\\programs\\python\\python311\\lib\\site-packages (from snowflake-connector-python<4.0.0,>=3.17.0->snowflake-snowpark-python) (1.40.18)\n",
      "Requirement already satisfied: cffi<2.0.0,>=1.9 in c:\\users\\sssns\\appdata\\local\\programs\\python\\python311\\lib\\site-packages (from snowflake-connector-python<4.0.0,>=3.17.0->snowflake-snowpark-python) (1.17.1)\n",
      "Requirement already satisfied: cryptography>=3.1.0 in c:\\users\\sssns\\appdata\\local\\programs\\python\\python311\\lib\\site-packages (from snowflake-connector-python<4.0.0,>=3.17.0->snowflake-snowpark-python) (46.0.0)\n",
      "Requirement already satisfied: pyOpenSSL<26.0.0,>=22.0.0 in c:\\users\\sssns\\appdata\\local\\programs\\python\\python311\\lib\\site-packages (from snowflake-connector-python<4.0.0,>=3.17.0->snowflake-snowpark-python) (25.3.0)\n",
      "Requirement already satisfied: pyjwt<3.0.0 in c:\\users\\sssns\\appdata\\local\\programs\\python\\python311\\lib\\site-packages (from snowflake-connector-python<4.0.0,>=3.17.0->snowflake-snowpark-python) (2.10.1)\n",
      "Requirement already satisfied: pytz in c:\\users\\sssns\\appdata\\local\\programs\\python\\python311\\lib\\site-packages (from snowflake-connector-python<4.0.0,>=3.17.0->snowflake-snowpark-python) (2025.2)\n",
      "Requirement already satisfied: requests<3.0.0 in c:\\users\\sssns\\appdata\\local\\programs\\python\\python311\\lib\\site-packages (from snowflake-connector-python<4.0.0,>=3.17.0->snowflake-snowpark-python) (2.32.5)\n",
      "Requirement already satisfied: packaging in c:\\users\\sssns\\appdata\\local\\programs\\python\\python311\\lib\\site-packages (from snowflake-connector-python<4.0.0,>=3.17.0->snowflake-snowpark-python) (24.2)\n",
      "Requirement already satisfied: charset_normalizer<4,>=2 in c:\\users\\sssns\\appdata\\local\\programs\\python\\python311\\lib\\site-packages (from snowflake-connector-python<4.0.0,>=3.17.0->snowflake-snowpark-python) (3.4.3)\n",
      "Requirement already satisfied: idna<4,>=2.5 in c:\\users\\sssns\\appdata\\local\\programs\\python\\python311\\lib\\site-packages (from snowflake-connector-python<4.0.0,>=3.17.0->snowflake-snowpark-python) (3.10)\n",
      "Requirement already satisfied: certifi>=2017.4.17 in c:\\users\\sssns\\appdata\\local\\programs\\python\\python311\\lib\\site-packages (from snowflake-connector-python<4.0.0,>=3.17.0->snowflake-snowpark-python) (2025.10.5)\n",
      "Requirement already satisfied: filelock<4,>=3.5 in c:\\users\\sssns\\appdata\\local\\programs\\python\\python311\\lib\\site-packages (from snowflake-connector-python<4.0.0,>=3.17.0->snowflake-snowpark-python) (3.19.1)\n",
      "Requirement already satisfied: sortedcontainers>=2.4.0 in c:\\users\\sssns\\appdata\\local\\programs\\python\\python311\\lib\\site-packages (from snowflake-connector-python<4.0.0,>=3.17.0->snowflake-snowpark-python) (2.4.0)\n",
      "Requirement already satisfied: platformdirs<5.0.0,>=2.6.0 in c:\\users\\sssns\\appdata\\local\\programs\\python\\python311\\lib\\site-packages (from snowflake-connector-python<4.0.0,>=3.17.0->snowflake-snowpark-python) (4.4.0)\n",
      "Requirement already satisfied: tomlkit in c:\\users\\sssns\\appdata\\local\\programs\\python\\python311\\lib\\site-packages (from snowflake-connector-python<4.0.0,>=3.17.0->snowflake-snowpark-python) (0.13.3)\n",
      "Requirement already satisfied: pycparser in c:\\users\\sssns\\appdata\\local\\programs\\python\\python311\\lib\\site-packages (from cffi<2.0.0,>=1.9->snowflake-connector-python<4.0.0,>=3.17.0->snowflake-snowpark-python) (2.23)\n",
      "Requirement already satisfied: urllib3<3,>=1.21.1 in c:\\users\\sssns\\appdata\\local\\programs\\python\\python311\\lib\\site-packages (from requests<3.0.0->snowflake-connector-python<4.0.0,>=3.17.0->snowflake-snowpark-python) (2.5.0)\n",
      "Requirement already satisfied: jmespath<2.0.0,>=0.7.1 in c:\\users\\sssns\\appdata\\local\\programs\\python\\python311\\lib\\site-packages (from boto3>=1.24->snowflake-connector-python<4.0.0,>=3.17.0->snowflake-snowpark-python) (1.0.1)\n",
      "Requirement already satisfied: s3transfer<0.14.0,>=0.13.0 in c:\\users\\sssns\\appdata\\local\\programs\\python\\python311\\lib\\site-packages (from boto3>=1.24->snowflake-connector-python<4.0.0,>=3.17.0->snowflake-snowpark-python) (0.13.1)\n",
      "Requirement already satisfied: six>=1.5 in c:\\users\\sssns\\appdata\\local\\programs\\python\\python311\\lib\\site-packages (from python-dateutil->snowflake-snowpark-python) (1.17.0)\n",
      "Requirement already satisfied: tzdata in c:\\users\\sssns\\appdata\\local\\programs\\python\\python311\\lib\\site-packages (from tzlocal->snowflake-snowpark-python) (2025.2)\n"
     ]
    }
   ],
   "source": [
    "# install these two libraries\n",
    "!pip install snowflake-ml-python\n",
    "!pip install snowflake-snowpark-python"
   ]
  },
  {
   "cell_type": "code",
   "execution_count": 5,
   "metadata": {},
   "outputs": [
    {
     "name": "stdout",
     "output_type": "stream",
     "text": [
      "Requirement already satisfied: snowflake-connector-python in c:\\users\\sssns\\appdata\\local\\programs\\python\\python311\\lib\\site-packages (3.17.4)\n",
      "Requirement already satisfied: asn1crypto<2.0.0,>0.24.0 in c:\\users\\sssns\\appdata\\local\\programs\\python\\python311\\lib\\site-packages (from snowflake-connector-python) (1.5.1)\n",
      "Requirement already satisfied: boto3>=1.24 in c:\\users\\sssns\\appdata\\local\\programs\\python\\python311\\lib\\site-packages (from snowflake-connector-python) (1.40.18)\n",
      "Requirement already satisfied: botocore>=1.24 in c:\\users\\sssns\\appdata\\local\\programs\\python\\python311\\lib\\site-packages (from snowflake-connector-python) (1.40.18)\n",
      "Requirement already satisfied: cffi<2.0.0,>=1.9 in c:\\users\\sssns\\appdata\\local\\programs\\python\\python311\\lib\\site-packages (from snowflake-connector-python) (1.17.1)\n",
      "Requirement already satisfied: cryptography>=3.1.0 in c:\\users\\sssns\\appdata\\local\\programs\\python\\python311\\lib\\site-packages (from snowflake-connector-python) (46.0.0)\n",
      "Requirement already satisfied: pyOpenSSL<26.0.0,>=22.0.0 in c:\\users\\sssns\\appdata\\local\\programs\\python\\python311\\lib\\site-packages (from snowflake-connector-python) (25.3.0)\n",
      "Requirement already satisfied: pyjwt<3.0.0 in c:\\users\\sssns\\appdata\\local\\programs\\python\\python311\\lib\\site-packages (from snowflake-connector-python) (2.10.1)\n",
      "Requirement already satisfied: pytz in c:\\users\\sssns\\appdata\\local\\programs\\python\\python311\\lib\\site-packages (from snowflake-connector-python) (2025.2)\n",
      "Requirement already satisfied: requests<3.0.0 in c:\\users\\sssns\\appdata\\local\\programs\\python\\python311\\lib\\site-packages (from snowflake-connector-python) (2.32.5)\n",
      "Requirement already satisfied: packaging in c:\\users\\sssns\\appdata\\local\\programs\\python\\python311\\lib\\site-packages (from snowflake-connector-python) (24.2)\n",
      "Requirement already satisfied: charset_normalizer<4,>=2 in c:\\users\\sssns\\appdata\\local\\programs\\python\\python311\\lib\\site-packages (from snowflake-connector-python) (3.4.3)\n",
      "Requirement already satisfied: idna<4,>=2.5 in c:\\users\\sssns\\appdata\\local\\programs\\python\\python311\\lib\\site-packages (from snowflake-connector-python) (3.10)\n",
      "Requirement already satisfied: certifi>=2017.4.17 in c:\\users\\sssns\\appdata\\local\\programs\\python\\python311\\lib\\site-packages (from snowflake-connector-python) (2025.10.5)\n",
      "Requirement already satisfied: typing_extensions<5,>=4.3 in c:\\users\\sssns\\appdata\\local\\programs\\python\\python311\\lib\\site-packages (from snowflake-connector-python) (4.15.0)\n",
      "Requirement already satisfied: filelock<4,>=3.5 in c:\\users\\sssns\\appdata\\local\\programs\\python\\python311\\lib\\site-packages (from snowflake-connector-python) (3.19.1)\n",
      "Requirement already satisfied: sortedcontainers>=2.4.0 in c:\\users\\sssns\\appdata\\local\\programs\\python\\python311\\lib\\site-packages (from snowflake-connector-python) (2.4.0)\n",
      "Requirement already satisfied: platformdirs<5.0.0,>=2.6.0 in c:\\users\\sssns\\appdata\\local\\programs\\python\\python311\\lib\\site-packages (from snowflake-connector-python) (4.4.0)\n",
      "Requirement already satisfied: tomlkit in c:\\users\\sssns\\appdata\\local\\programs\\python\\python311\\lib\\site-packages (from snowflake-connector-python) (0.13.3)\n",
      "Requirement already satisfied: pycparser in c:\\users\\sssns\\appdata\\local\\programs\\python\\python311\\lib\\site-packages (from cffi<2.0.0,>=1.9->snowflake-connector-python) (2.23)\n",
      "Requirement already satisfied: urllib3<3,>=1.21.1 in c:\\users\\sssns\\appdata\\local\\programs\\python\\python311\\lib\\site-packages (from requests<3.0.0->snowflake-connector-python) (2.5.0)\n",
      "Requirement already satisfied: jmespath<2.0.0,>=0.7.1 in c:\\users\\sssns\\appdata\\local\\programs\\python\\python311\\lib\\site-packages (from boto3>=1.24->snowflake-connector-python) (1.0.1)\n",
      "Requirement already satisfied: s3transfer<0.14.0,>=0.13.0 in c:\\users\\sssns\\appdata\\local\\programs\\python\\python311\\lib\\site-packages (from boto3>=1.24->snowflake-connector-python) (0.13.1)\n",
      "Requirement already satisfied: python-dateutil<3.0.0,>=2.1 in c:\\users\\sssns\\appdata\\local\\programs\\python\\python311\\lib\\site-packages (from botocore>=1.24->snowflake-connector-python) (2.9.0.post0)\n",
      "Requirement already satisfied: six>=1.5 in c:\\users\\sssns\\appdata\\local\\programs\\python\\python311\\lib\\site-packages (from python-dateutil<3.0.0,>=2.1->botocore>=1.24->snowflake-connector-python) (1.17.0)\n"
     ]
    }
   ],
   "source": [
    "!pip install snowflake-connector-python"
   ]
  },
  {
   "cell_type": "code",
   "execution_count": 8,
   "metadata": {},
   "outputs": [],
   "source": [
    "import snowflake.connector"
   ]
  },
  {
   "cell_type": "code",
   "execution_count": 9,
   "metadata": {},
   "outputs": [],
   "source": [
    "from snowflake.snowpark import Session\n",
    "#from credential import params"
   ]
  },
  {
   "cell_type": "code",
   "execution_count": 10,
   "metadata": {},
   "outputs": [],
   "source": [
    "conn = snowflake.connector.connect(\n",
    "    user='SidelnikovStanislav',\n",
    "    password='Gg8dE8FgjAR6qRm',\n",
    "    account='XKGMVAT-EW81401'\n",
    ")"
   ]
  },
  {
   "cell_type": "code",
   "execution_count": 12,
   "metadata": {},
   "outputs": [
    {
     "name": "stdout",
     "output_type": "stream",
     "text": [
      "Collecting ipywidgets\n",
      "  Downloading ipywidgets-8.1.7-py3-none-any.whl.metadata (2.4 kB)\n",
      "Requirement already satisfied: comm>=0.1.3 in c:\\users\\sssns\\appdata\\local\\programs\\python\\python311\\lib\\site-packages (from ipywidgets) (0.2.3)\n",
      "Requirement already satisfied: ipython>=6.1.0 in c:\\users\\sssns\\appdata\\local\\programs\\python\\python311\\lib\\site-packages (from ipywidgets) (9.6.0)\n",
      "Requirement already satisfied: traitlets>=4.3.1 in c:\\users\\sssns\\appdata\\local\\programs\\python\\python311\\lib\\site-packages (from ipywidgets) (5.14.3)\n",
      "Collecting widgetsnbextension~=4.0.14 (from ipywidgets)\n",
      "  Downloading widgetsnbextension-4.0.14-py3-none-any.whl.metadata (1.6 kB)\n",
      "Collecting jupyterlab_widgets~=3.0.15 (from ipywidgets)\n",
      "  Downloading jupyterlab_widgets-3.0.15-py3-none-any.whl.metadata (20 kB)\n",
      "Requirement already satisfied: colorama in c:\\users\\sssns\\appdata\\local\\programs\\python\\python311\\lib\\site-packages (from ipython>=6.1.0->ipywidgets) (0.4.6)\n",
      "Requirement already satisfied: decorator in c:\\users\\sssns\\appdata\\local\\programs\\python\\python311\\lib\\site-packages (from ipython>=6.1.0->ipywidgets) (5.2.1)\n",
      "Requirement already satisfied: ipython-pygments-lexers in c:\\users\\sssns\\appdata\\local\\programs\\python\\python311\\lib\\site-packages (from ipython>=6.1.0->ipywidgets) (1.1.1)\n",
      "Requirement already satisfied: jedi>=0.16 in c:\\users\\sssns\\appdata\\local\\programs\\python\\python311\\lib\\site-packages (from ipython>=6.1.0->ipywidgets) (0.19.2)\n",
      "Requirement already satisfied: matplotlib-inline in c:\\users\\sssns\\appdata\\local\\programs\\python\\python311\\lib\\site-packages (from ipython>=6.1.0->ipywidgets) (0.1.7)\n",
      "Requirement already satisfied: prompt_toolkit<3.1.0,>=3.0.41 in c:\\users\\sssns\\appdata\\local\\programs\\python\\python311\\lib\\site-packages (from ipython>=6.1.0->ipywidgets) (3.0.52)\n",
      "Requirement already satisfied: pygments>=2.4.0 in c:\\users\\sssns\\appdata\\local\\programs\\python\\python311\\lib\\site-packages (from ipython>=6.1.0->ipywidgets) (2.19.2)\n",
      "Requirement already satisfied: stack_data in c:\\users\\sssns\\appdata\\local\\programs\\python\\python311\\lib\\site-packages (from ipython>=6.1.0->ipywidgets) (0.6.3)\n",
      "Requirement already satisfied: typing_extensions>=4.6 in c:\\users\\sssns\\appdata\\local\\programs\\python\\python311\\lib\\site-packages (from ipython>=6.1.0->ipywidgets) (4.15.0)\n",
      "Requirement already satisfied: wcwidth in c:\\users\\sssns\\appdata\\local\\programs\\python\\python311\\lib\\site-packages (from prompt_toolkit<3.1.0,>=3.0.41->ipython>=6.1.0->ipywidgets) (0.2.14)\n",
      "Requirement already satisfied: parso<0.9.0,>=0.8.4 in c:\\users\\sssns\\appdata\\local\\programs\\python\\python311\\lib\\site-packages (from jedi>=0.16->ipython>=6.1.0->ipywidgets) (0.8.5)\n",
      "Requirement already satisfied: executing>=1.2.0 in c:\\users\\sssns\\appdata\\local\\programs\\python\\python311\\lib\\site-packages (from stack_data->ipython>=6.1.0->ipywidgets) (2.2.1)\n",
      "Requirement already satisfied: asttokens>=2.1.0 in c:\\users\\sssns\\appdata\\local\\programs\\python\\python311\\lib\\site-packages (from stack_data->ipython>=6.1.0->ipywidgets) (3.0.0)\n",
      "Requirement already satisfied: pure-eval in c:\\users\\sssns\\appdata\\local\\programs\\python\\python311\\lib\\site-packages (from stack_data->ipython>=6.1.0->ipywidgets) (0.2.3)\n",
      "Downloading ipywidgets-8.1.7-py3-none-any.whl (139 kB)\n",
      "Downloading jupyterlab_widgets-3.0.15-py3-none-any.whl (216 kB)\n",
      "Downloading widgetsnbextension-4.0.14-py3-none-any.whl (2.2 MB)\n",
      "   ---------------------------------------- 0.0/2.2 MB ? eta -:--:--\n",
      "   --------- ------------------------------ 0.5/2.2 MB 4.2 MB/s eta 0:00:01\n",
      "   ----------------------- ---------------- 1.3/2.2 MB 3.2 MB/s eta 0:00:01\n",
      "   -------------------------------------- - 2.1/2.2 MB 3.4 MB/s eta 0:00:01\n",
      "   ---------------------------------------- 2.2/2.2 MB 3.3 MB/s  0:00:00\n",
      "Installing collected packages: widgetsnbextension, jupyterlab_widgets, ipywidgets\n",
      "\n",
      "   ------------- -------------------------- 1/3 [jupyterlab_widgets]\n",
      "   -------------------------- ------------- 2/3 [ipywidgets]\n",
      "   -------------------------- ------------- 2/3 [ipywidgets]\n",
      "   -------------------------- ------------- 2/3 [ipywidgets]\n",
      "   ---------------------------------------- 3/3 [ipywidgets]\n",
      "\n",
      "Successfully installed ipywidgets-8.1.7 jupyterlab_widgets-3.0.15 widgetsnbextension-4.0.14\n",
      "Note: you may need to restart the kernel to use updated packages.\n"
     ]
    },
    {
     "name": "stderr",
     "output_type": "stream",
     "text": [
      "usage: jupyter [-h] [--version] [--config-dir] [--data-dir] [--runtime-dir]\n",
      "               [--paths] [--json] [--debug]\n",
      "               [subcommand]\n",
      "\n",
      "Jupyter: Interactive Computing\n",
      "\n",
      "positional arguments:\n",
      "  subcommand     the subcommand to launch\n",
      "\n",
      "options:\n",
      "  -h, --help     show this help message and exit\n",
      "  --version      show the versions of core jupyter packages and exit\n",
      "  --config-dir   show Jupyter config dir\n",
      "  --data-dir     show Jupyter data dir\n",
      "  --runtime-dir  show Jupyter runtime dir\n",
      "  --paths        show all Jupyter paths. Add --json for machine-readable\n",
      "                 format.\n",
      "  --json         output paths as machine-readable json\n",
      "  --debug        output debug information about paths\n",
      "\n",
      "Available subcommands: dejavu events execute kernel kernelspec lab\n",
      "labextension labhub migrate nbconvert notebook run server troubleshoot trust\n",
      "\n",
      "Jupyter command `jupyter-nbextension` not found.\n"
     ]
    }
   ],
   "source": [
    "%pip install --upgrade ipywidgets\n",
    "!jupyter nbextension enable --py widgetsnbextension"
   ]
  },
  {
   "cell_type": "code",
   "execution_count": 13,
   "metadata": {},
   "outputs": [],
   "source": [
    "from snowflake.ml.modeling.xgboost import XGBClassifier"
   ]
  },
  {
   "cell_type": "code",
   "execution_count": 14,
   "metadata": {},
   "outputs": [],
   "source": [
    "from snowflake.snowpark.functions import col"
   ]
  },
  {
   "cell_type": "code",
   "execution_count": 15,
   "metadata": {},
   "outputs": [],
   "source": [
    "from snowflake.ml.modeling import preprocessing"
   ]
  },
  {
   "cell_type": "code",
   "execution_count": 16,
   "metadata": {},
   "outputs": [],
   "source": [
    "# Here’s the neighborhood visiting pattern the truck follows:\n",
    "# In January, the truck goes to N1 on the 1st, 8th, 15th, 22nd, and 29th, and N2 the other days.\n",
    "\n",
    "# From February through November, it goes to:\n",
    "# N1 on the 1st\n",
    "# N2 on the 2nd\n",
    "# N3 on the 3rd\n",
    "# N4 on the 4th\n",
    "# N5 on the 5th\n",
    "# N6 on the 6th\n",
    "# N7 on the 7th\n",
    "# N1 on the 8th\n",
    "# N2 on the 9th\n",
    "# etc.\n",
    "\n",
    "# Every December, it only goes to N8.\n",
    "\n",
    "month_days = [31, 28, 31, 30, 31, 30, 31, 31, 30, 31, 30, 31]"
   ]
  },
  {
   "cell_type": "code",
   "execution_count": null,
   "metadata": {},
   "outputs": [],
   "source": [
    "\n",
    "pre = {}"
   ]
  },
  {
   "cell_type": "code",
   "execution_count": 28,
   "metadata": {},
   "outputs": [
    {
     "name": "stdout",
     "output_type": "stream",
     "text": [
      "1 31\n",
      "2 28\n",
      "3 31\n",
      "4 30\n",
      "5 31\n",
      "6 30\n",
      "7 31\n",
      "8 31\n",
      "9 30\n",
      "10 31\n",
      "11 30\n",
      "12 31\n"
     ]
    }
   ],
   "source": [
    "for i,month_length in enumerate(month_days):\n",
    "    month = i + 1\n",
    "    print(month, month_length)"
   ]
  },
  {
   "cell_type": "code",
   "execution_count": null,
   "metadata": {},
   "outputs": [
    {
     "name": "stdout",
     "output_type": "stream",
     "text": [
      "31\n"
     ]
    }
   ],
   "source": [
    "print(month_length)"
   ]
  },
  {
   "cell_type": "code",
   "execution_count": 26,
   "metadata": {},
   "outputs": [
    {
     "ename": "NameError",
     "evalue": "name 'month_days' is not defined",
     "output_type": "error",
     "traceback": [
      "\u001b[31m---------------------------------------------------------------------------\u001b[39m",
      "\u001b[31mNameError\u001b[39m                                 Traceback (most recent call last)",
      "\u001b[36mCell\u001b[39m\u001b[36m \u001b[39m\u001b[32mIn[26]\u001b[39m\u001b[32m, line 1\u001b[39m\n\u001b[32m----> \u001b[39m\u001b[32m1\u001b[39m \u001b[38;5;28;01mfor\u001b[39;00m i,month_length \u001b[38;5;129;01min\u001b[39;00m \u001b[38;5;28menumerate\u001b[39m(\u001b[43mmonth_days\u001b[49m):\n\u001b[32m      2\u001b[39m     month = i + \u001b[32m1\u001b[39m\n\u001b[32m      4\u001b[39m     \u001b[38;5;28;01mfor\u001b[39;00m day \u001b[38;5;129;01min\u001b[39;00m \u001b[38;5;28mrange\u001b[39m(\u001b[32m1\u001b[39m,month_length+\u001b[32m1\u001b[39m):\n\u001b[32m      5\u001b[39m \n\u001b[32m      6\u001b[39m         \u001b[38;5;66;03m# In January, it goes to neighborhood 1 on Mondays, and neighborhood 2 the other days.\u001b[39;00m\n",
      "\u001b[31mNameError\u001b[39m: name 'month_days' is not defined"
     ]
    }
   ],
   "source": [
    "for i,month_length in enumerate(month_days):\n",
    "    month = i + 1\n",
    "\n",
    "    for day in range(1,month_length+1):\n",
    "        \n",
    "        # In January, it goes to neighborhood 1 on Mondays, and neighborhood 2 the other days.\n",
    "        if ((month) == 1):\n",
    "            if (day) % 7 == 1:\n",
    "                pre[(month,day)] = 1\n",
    "            else:\n",
    "                pre[(month,day)] = 2\n",
    "                \n",
    "        # From February through November, it goes to neighborhood 1 on the 1st, 2 on the 2nd, 3 on the 3rd,\n",
    "        # 4 on the 4th, 5 on the 5th, 6 on the 6th, and 7 on the 7th, 1 on the 8th, 2 on the 9th, etc.\n",
    "        elif ((month) <= 11):\n",
    "            pre[(month,day)] = ((day-1) % 7) + 1\n",
    "\n",
    "        # Every December, it only goes to neighborhood 8.\n",
    "        elif ((month) == 12):\n",
    "            pre[(month,day)] = 8\n"
   ]
  },
  {
   "cell_type": "code",
   "execution_count": 25,
   "metadata": {},
   "outputs": [
    {
     "ename": "NameError",
     "evalue": "name 'pre' is not defined",
     "output_type": "error",
     "traceback": [
      "\u001b[31m---------------------------------------------------------------------------\u001b[39m",
      "\u001b[31mNameError\u001b[39m                                 Traceback (most recent call last)",
      "\u001b[36mCell\u001b[39m\u001b[36m \u001b[39m\u001b[32mIn[25]\u001b[39m\u001b[32m, line 1\u001b[39m\n\u001b[32m----> \u001b[39m\u001b[32m1\u001b[39m \u001b[43mpre\u001b[49m\n",
      "\u001b[31mNameError\u001b[39m: name 'pre' is not defined"
     ]
    }
   ],
   "source": [
    "pre"
   ]
  },
  {
   "cell_type": "code",
   "execution_count": 16,
   "metadata": {},
   "outputs": [],
   "source": [
    "import pandas as pd"
   ]
  },
  {
   "cell_type": "code",
   "execution_count": 17,
   "metadata": {},
   "outputs": [],
   "source": [
    "# Example Pandas DataFrame\n",
    "df = pd.DataFrame({\n",
    "    \"id\": [1, 2, 3],\n",
    "    \"name\": [\"apple\", \"banana\", \"cherry\"]\n",
    "})\n"
   ]
  },
  {
   "cell_type": "code",
   "execution_count": 20,
   "metadata": {},
   "outputs": [
    {
     "ename": "NameError",
     "evalue": "name 'pre' is not defined",
     "output_type": "error",
     "traceback": [
      "\u001b[31m---------------------------------------------------------------------------\u001b[39m",
      "\u001b[31mNameError\u001b[39m                                 Traceback (most recent call last)",
      "\u001b[36mCell\u001b[39m\u001b[36m \u001b[39m\u001b[32mIn[20]\u001b[39m\u001b[32m, line 1\u001b[39m\n\u001b[32m----> \u001b[39m\u001b[32m1\u001b[39m \u001b[38;5;28mprint\u001b[39m(\u001b[43mpre\u001b[49m)\n",
      "\u001b[31mNameError\u001b[39m: name 'pre' is not defined"
     ]
    }
   ],
   "source": [
    "print(pre)"
   ]
  },
  {
   "cell_type": "code",
   "execution_count": null,
   "metadata": {},
   "outputs": [],
   "source": [
    "\n",
    "\n",
    "# Connect to Snowflake\n",
    "conn = connect(params)\n",
    "cs = conn.cursor()"
   ]
  },
  {
   "cell_type": "code",
   "execution_count": null,
   "metadata": {},
   "outputs": [],
   "source": [
    "\n",
    "# Write Pandas DataFrame to Snowflake table\n",
    "success, nchunks, nrows, _ = write_pandas(conn, df, \"DF_CLEAN\")\n",
    "print(f\"Inserted {nrows} rows into DF_CLEAN\")"
   ]
  },
  {
   "cell_type": "code",
   "execution_count": 2,
   "metadata": {},
   "outputs": [],
   "source": [
    "from credentials import params"
   ]
  },
  {
   "cell_type": "code",
   "execution_count": 4,
   "metadata": {},
   "outputs": [],
   "source": [
    "from snowflake.snowpark import Session\n",
    "from snowflake.ml.modeling.xgboost import XGBClassifier\n",
    "from snowflake.snowpark.functions import col\n",
    "from snowflake.ml.modeling import preprocessing"
   ]
  },
  {
   "cell_type": "code",
   "execution_count": 5,
   "metadata": {},
   "outputs": [],
   "source": [
    "session = Session.builder.configs(params).create()"
   ]
  },
  {
   "cell_type": "code",
   "execution_count": 8,
   "metadata": {},
   "outputs": [],
   "source": [
    "\n",
    "# create a dataframe (though note that this doesn’t pull data into your local machine)\n",
    "snowpark_df = session.table(\"TASTY_BYTES.RAW_POS.truck\")\n"
   ]
  },
  {
   "cell_type": "code",
   "execution_count": 9,
   "metadata": {},
   "outputs": [
    {
     "name": "stdout",
     "output_type": "stream",
     "text": [
      "------------------------------------------------------------------------------------------------------------------------------------------------------------------------------------------------------------------------------------\n",
      "|\"TRUCK_ID\"  |\"MENU_TYPE_ID\"  |\"PRIMARY_CITY\"  |\"REGION\"    |\"ISO_REGION\"  |\"COUNTRY\"      |\"ISO_COUNTRY_CODE\"  |\"FRANCHISE_FLAG\"  |\"YEAR\"  |\"MAKE\"        |\"MODEL\"            |\"EV_FLAG\"  |\"FRANCHISE_ID\"  |\"TRUCK_OPENING_DATE\"  |\n",
      "------------------------------------------------------------------------------------------------------------------------------------------------------------------------------------------------------------------------------------\n",
      "|1           |1               |San Mateo       |California  |CA            |United States  |US                  |0                 |2009    |Ford_         |Step Van           |0          |1               |2019-01-01            |\n",
      "|2           |2               |San Mateo       |California  |CA            |United States  |US                  |0                 |2015    |Ford_         |Step Van           |0          |1               |2020-07-01            |\n",
      "|3           |3               |San Mateo       |California  |CA            |United States  |US                  |1                 |2004    |Freightliner  |MT45 Utilimaster   |0          |2               |2021-10-01            |\n",
      "|4           |4               |San Mateo       |California  |CA            |United States  |US                  |1                 |1997    |Chevrolet     |P30                |1          |3               |2021-01-01            |\n",
      "|5           |5               |San Mateo       |California  |CA            |United States  |US                  |1                 |2010    |Custom        |Van                |1          |4               |2022-04-01            |\n",
      "|6           |6               |San Mateo       |California  |CA            |United States  |US                  |1                 |2010    |Airstream     |Trailer            |0          |5               |2019-07-01            |\n",
      "|7           |7               |San Mateo       |California  |CA            |United States  |US                  |1                 |2010    |Custom        |Van                |0          |6               |2021-01-01            |\n",
      "|8           |8               |San Mateo       |California  |CA            |United States  |US                  |1                 |1999    |Chevrolet     |P30                |1          |7               |2022-04-01            |\n",
      "|9           |9               |San Mateo       |California  |CA            |United States  |US                  |1                 |2008    |Custom        |Box Truck          |0          |8               |2020-07-01            |\n",
      "|10          |10              |San Mateo       |California  |CA            |United States  |US                  |1                 |2009    |Ford_         |Step Van           |0          |9               |2021-10-01            |\n",
      "|11          |11              |San Mateo       |California  |CA            |United States  |US                  |1                 |2013    |Ford_         |Step Van           |0          |10              |2020-01-01            |\n",
      "|12          |12              |San Mateo       |California  |CA            |United States  |US                  |1                 |2010    |Custom        |Van                |0          |11              |2021-04-01            |\n",
      "|13          |13              |San Mateo       |California  |CA            |United States  |US                  |1                 |2000    |Freightliner  |MT45 Utilimaster   |0          |12              |2021-07-01            |\n",
      "|14          |14              |San Mateo       |California  |CA            |United States  |US                  |1                 |2004    |Freightliner  |MT45 Utilimaster   |0          |12              |2020-10-01            |\n",
      "|15          |15              |San Mateo       |California  |CA            |United States  |US                  |1                 |2010    |Airstream     |Trailer            |0          |13              |2021-01-01            |\n",
      "|16          |1               |Denver          |Colorado    |CO            |United States  |US                  |1                 |1974    |Volkswagen    |Westfalia Bus      |1          |14              |2022-04-01            |\n",
      "|17          |2               |Denver          |Colorado    |CO            |United States  |US                  |0                 |2015    |Ford_         |Step Van           |0          |1               |2019-04-01            |\n",
      "|18          |3               |Denver          |Colorado    |CO            |United States  |US                  |1                 |2008    |Custom        |Box Truck          |0          |15              |2020-01-01            |\n",
      "|19          |4               |Denver          |Colorado    |CO            |United States  |US                  |1                 |2018    |Nissan        |NV 2500 High Roof  |0          |16              |2021-07-01            |\n",
      "|20          |5               |Denver          |Colorado    |CO            |United States  |US                  |1                 |2012    |Custom        |Box Truck          |0          |17              |2021-07-01            |\n",
      "|21          |6               |Denver          |Colorado    |CO            |United States  |US                  |0                 |2015    |Ford_         |Step Van           |0          |1               |2019-04-01            |\n",
      "|22          |7               |Denver          |Colorado    |CO            |United States  |US                  |1                 |2013    |Ford_         |Step Van           |1          |18              |2022-01-01            |\n",
      "|23          |8               |Denver          |Colorado    |CO            |United States  |US                  |1                 |2010    |Custom        |Van                |0          |19              |2020-01-01            |\n",
      "|24          |9               |Denver          |Colorado    |CO            |United States  |US                  |1                 |2000    |Freightliner  |MT45 Utilimaster   |0          |20              |2021-07-01            |\n",
      "|25          |10              |Denver          |Colorado    |CO            |United States  |US                  |1                 |2013    |Ford_         |Step Van           |0          |21              |2021-07-01            |\n",
      "|26          |11              |Denver          |Colorado    |CO            |United States  |US                  |1                 |2010    |Custom        |Van                |0          |22              |2021-04-01            |\n",
      "|27          |12              |Denver          |Colorado    |CO            |United States  |US                  |1                 |2000    |Freightliner  |MT45 Utilimaster   |0          |23              |2020-07-01            |\n",
      "|28          |13              |Denver          |Colorado    |CO            |United States  |US                  |1                 |2009    |Freightliner  |MT45 Utilimaster   |0          |23              |2021-01-01            |\n",
      "|29          |14              |Denver          |Colorado    |CO            |United States  |US                  |1                 |1999    |Chevrolet     |P30                |0          |24              |2020-10-01            |\n",
      "|30          |15              |Denver          |Colorado    |CO            |United States  |US                  |1                 |1997    |Chevrolet     |P30                |0          |25              |2021-04-01            |\n",
      "|31          |1               |Seattle         |Washington  |WA            |United States  |US                  |1                 |2010    |Custom        |Van                |0          |26              |2020-01-01            |\n",
      "|32          |2               |Seattle         |Washington  |WA            |United States  |US                  |1                 |2009    |Freightliner  |MT45 Utilimaster   |1          |27              |2021-07-01            |\n",
      "|33          |3               |Seattle         |Washington  |WA            |United States  |US                  |0                 |2013    |Ford_         |Step Van           |0          |1               |2019-10-01            |\n",
      "|34          |4               |Seattle         |Washington  |WA            |United States  |US                  |1                 |1999    |Chevrolet     |P30                |0          |28              |2021-10-01            |\n",
      "|35          |5               |Seattle         |Washington  |WA            |United States  |US                  |1                 |1997    |Chevrolet     |P30                |0          |28              |2022-01-01            |\n",
      "|36          |6               |Seattle         |Washington  |WA            |United States  |US                  |1                 |2014    |Ford_         |Step Van           |0          |29              |2021-04-01            |\n",
      "|37          |7               |Seattle         |Washington  |WA            |United States  |US                  |1                 |2010    |Ford_         |Step Van           |0          |30              |2021-07-01            |\n",
      "|38          |8               |Seattle         |Washington  |WA            |United States  |US                  |1                 |2012    |Custom        |Box Truck          |1          |31              |2022-07-01            |\n",
      "|39          |9               |Seattle         |Washington  |WA            |United States  |US                  |1                 |2010    |Ford_         |Step Van           |0          |32              |2020-07-01            |\n",
      "|40          |10              |Seattle         |Washington  |WA            |United States  |US                  |1                 |2012    |Custom        |Box Truck          |1          |33              |2021-01-01            |\n",
      "------------------------------------------------------------------------------------------------------------------------------------------------------------------------------------------------------------------------------------\n",
      "\n"
     ]
    }
   ],
   "source": [
    "\n",
    "# show the first forty rows of the dataframe\n",
    "snowpark_df.show(n=40)\n"
   ]
  },
  {
   "cell_type": "code",
   "execution_count": null,
   "metadata": {},
   "outputs": [],
   "source": [
    "\n",
    "# count the rows in the dataframe\n",
    "snowpark_df.count()\n",
    "\n",
    "# describe the dataframe\n",
    "snowpark_df.describe().show()\n",
    "\n",
    "# groupby neighborhood, and show the counts\n",
    "snowpark_df.group_by(\"Neighborhood\").count().show()\n",
    "\n",
    "# one way to scale your target (neighborhood) so you can use it in the XGBClassifier model\n",
    "test = snowpark_df.withColumn('NEIGHBORHOOD2', snowpark_df.neighborhood - 1).drop(\"Neighborhood\")\n",
    "\n",
    "test.show()\n",
    "\n",
    "# now use scikit-learn's LabelEncoder -- a more general solution -- through Snowpark ML \n",
    "le = LabelEncoder(input_cols=['NEIGHBORHOOD'], output_cols= ['NEIGHBORHOOD2'], drop_input_cols=True)\n",
    "\n",
    "# apply the LabelEncoder\n",
    "fitted = le.fit(snowpark_df.select(\"NEIGHBORHOOD\"))\n",
    "\n",
    "snowpark_df_prepared = fitted.transform(snowpark_df)\n",
    "\n",
    "snowpark_df_prepared.show()\n",
    "\n",
    "# split the data into a training set and a test set\n",
    "train_snowpark_df, test_snowpark_df = snowpark_df_prepared.randomSplit([0.9, 0.1])\n",
    "\n",
    "# save training data\n",
    "train_snowpark_df.write.mode(\"overwrite\").save_as_table(\"df_clean_train\")\n",
    "\n",
    "# save test data\n",
    "test_snowpark_df.write.mode(\"overwrite\").save_as_table(\"df_clean_test\")\n",
    "\n",
    "# create and train the XGBClassifier model\n",
    "FEATURE_COLS = [\"MONTH\", \"DAY\"]\n",
    "LABEL_COLS = [\"NEIGHBORHOOD2\"]\n",
    "\n",
    "# Train an XGBoost model on snowflake.\n",
    "xgboost_model = XGBClassifier(\n",
    "    input_cols=FEATURE_COLS,\n",
    "    label_cols=LABEL_COLS\n",
    ")\n",
    "\n",
    "xgboost_model.fit(train_snowpark_df)\n",
    "\n",
    "# check the accuracy using scikit-learn's score functionality through Snowpark ML\n",
    "accuracy = xgboost_model.score(test_snowpark_df)\n",
    "\n",
    "print(\"Accuracy: %.2f%%\" % (accuracy * 100.0))"
   ]
  }
 ],
 "metadata": {
  "kernelspec": {
   "display_name": "Python 3",
   "language": "python",
   "name": "python3"
  },
  "language_info": {
   "codemirror_mode": {
    "name": "ipython",
    "version": 3
   },
   "file_extension": ".py",
   "mimetype": "text/x-python",
   "name": "python",
   "nbconvert_exporter": "python",
   "pygments_lexer": "ipython3",
   "version": "3.11.9"
  }
 },
 "nbformat": 4,
 "nbformat_minor": 2
}
