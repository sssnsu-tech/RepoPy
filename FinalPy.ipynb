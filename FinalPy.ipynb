{
 "cells": [
  {
   "cell_type": "code",
   "execution_count": 155,
   "id": "c3d6d77b",
   "metadata": {},
   "outputs": [
    {
     "name": "stdout",
     "output_type": "stream",
     "text": [
      "Requirement already satisfied: snowflake-ml-python in c:\\users\\sssns\\appdata\\local\\programs\\python\\python311\\lib\\site-packages (1.15.0)\n",
      "Requirement already satisfied: anyio<5,>=3.5.0 in c:\\users\\sssns\\appdata\\local\\programs\\python\\python311\\lib\\site-packages (from snowflake-ml-python) (4.11.0)\n",
      "Requirement already satisfied: cachetools<6,>=3.1.1 in c:\\users\\sssns\\appdata\\local\\programs\\python\\python311\\lib\\site-packages (from snowflake-ml-python) (5.5.2)\n",
      "Requirement already satisfied: cloudpickle>=2.0.0 in c:\\users\\sssns\\appdata\\local\\programs\\python\\python311\\lib\\site-packages (from snowflake-ml-python) (3.1.1)\n",
      "Requirement already satisfied: cryptography in c:\\users\\sssns\\appdata\\local\\programs\\python\\python311\\lib\\site-packages (from snowflake-ml-python) (46.0.0)\n",
      "Requirement already satisfied: fsspec<2026,>=2024.6.1 in c:\\users\\sssns\\appdata\\local\\programs\\python\\python311\\lib\\site-packages (from fsspec[http]<2026,>=2024.6.1->snowflake-ml-python) (2025.9.0)\n",
      "Requirement already satisfied: importlib_resources<7,>=6.1.1 in c:\\users\\sssns\\appdata\\local\\programs\\python\\python311\\lib\\site-packages (from snowflake-ml-python) (6.5.2)\n",
      "Requirement already satisfied: numpy<3,>=1.23 in c:\\users\\sssns\\appdata\\local\\programs\\python\\python311\\lib\\site-packages (from snowflake-ml-python) (2.3.3)\n",
      "Requirement already satisfied: packaging<25,>=20.9 in c:\\users\\sssns\\appdata\\local\\programs\\python\\python311\\lib\\site-packages (from snowflake-ml-python) (24.2)\n",
      "Requirement already satisfied: pandas<3,>=2.1.4 in c:\\users\\sssns\\appdata\\local\\programs\\python\\python311\\lib\\site-packages (from snowflake-ml-python) (2.3.3)\n",
      "Requirement already satisfied: platformdirs<5 in c:\\users\\sssns\\appdata\\local\\programs\\python\\python311\\lib\\site-packages (from snowflake-ml-python) (4.4.0)\n",
      "Requirement already satisfied: pyarrow<19.0.0 in c:\\users\\sssns\\appdata\\local\\programs\\python\\python311\\lib\\site-packages (from snowflake-ml-python) (18.1.0)\n",
      "Requirement already satisfied: pydantic<3,>=2.8.2 in c:\\users\\sssns\\appdata\\local\\programs\\python\\python311\\lib\\site-packages (from snowflake-ml-python) (2.11.10)\n",
      "Requirement already satisfied: pyjwt<3,>=2.0.0 in c:\\users\\sssns\\appdata\\local\\programs\\python\\python311\\lib\\site-packages (from snowflake-ml-python) (2.10.1)\n",
      "Requirement already satisfied: pytimeparse<2,>=1.1.8 in c:\\users\\sssns\\appdata\\local\\programs\\python\\python311\\lib\\site-packages (from snowflake-ml-python) (1.1.8)\n",
      "Requirement already satisfied: pyyaml<7,>=6.0 in c:\\users\\sssns\\appdata\\local\\programs\\python\\python311\\lib\\site-packages (from snowflake-ml-python) (6.0.3)\n",
      "Requirement already satisfied: retrying<2,>=1.3.3 in c:\\users\\sssns\\appdata\\local\\programs\\python\\python311\\lib\\site-packages (from snowflake-ml-python) (1.4.2)\n",
      "Requirement already satisfied: s3fs<2026,>=2024.6.1 in c:\\users\\sssns\\appdata\\local\\programs\\python\\python311\\lib\\site-packages (from snowflake-ml-python) (2025.9.0)\n",
      "Requirement already satisfied: scikit-learn<1.7 in c:\\users\\sssns\\appdata\\local\\programs\\python\\python311\\lib\\site-packages (from snowflake-ml-python) (1.6.1)\n",
      "Requirement already satisfied: scipy<2,>=1.9 in c:\\users\\sssns\\appdata\\local\\programs\\python\\python311\\lib\\site-packages (from snowflake-ml-python) (1.16.2)\n",
      "Requirement already satisfied: shap<1,>=0.46.0 in c:\\users\\sssns\\appdata\\local\\programs\\python\\python311\\lib\\site-packages (from snowflake-ml-python) (0.48.0)\n",
      "Requirement already satisfied: snowflake-connector-python<4,>=3.16.0 in c:\\users\\sssns\\appdata\\local\\programs\\python\\python311\\lib\\site-packages (from snowflake-connector-python[pandas]<4,>=3.16.0->snowflake-ml-python) (3.17.4)\n",
      "Requirement already satisfied: snowflake-snowpark-python!=1.26.0,<2,>=1.17.0 in c:\\users\\sssns\\appdata\\local\\programs\\python\\python311\\lib\\site-packages (from snowflake-ml-python) (1.39.1)\n",
      "Requirement already satisfied: snowflake.core<2,>=1.0.2 in c:\\users\\sssns\\appdata\\local\\programs\\python\\python311\\lib\\site-packages (from snowflake-ml-python) (1.8.0)\n",
      "Requirement already satisfied: sqlparse<1,>=0.4 in c:\\users\\sssns\\appdata\\local\\programs\\python\\python311\\lib\\site-packages (from snowflake-ml-python) (0.5.3)\n",
      "Requirement already satisfied: tqdm<5 in c:\\users\\sssns\\appdata\\local\\programs\\python\\python311\\lib\\site-packages (from snowflake-ml-python) (4.67.1)\n",
      "Requirement already satisfied: typing-extensions<5,>=4.1.0 in c:\\users\\sssns\\appdata\\local\\programs\\python\\python311\\lib\\site-packages (from snowflake-ml-python) (4.15.0)\n",
      "Requirement already satisfied: xgboost<3,>=1.7.3 in c:\\users\\sssns\\appdata\\local\\programs\\python\\python311\\lib\\site-packages (from snowflake-ml-python) (2.1.4)\n",
      "Requirement already satisfied: idna>=2.8 in c:\\users\\sssns\\appdata\\local\\programs\\python\\python311\\lib\\site-packages (from anyio<5,>=3.5.0->snowflake-ml-python) (3.10)\n",
      "Requirement already satisfied: sniffio>=1.1 in c:\\users\\sssns\\appdata\\local\\programs\\python\\python311\\lib\\site-packages (from anyio<5,>=3.5.0->snowflake-ml-python) (1.3.1)\n",
      "Requirement already satisfied: aiohttp!=4.0.0a0,!=4.0.0a1 in c:\\users\\sssns\\appdata\\local\\programs\\python\\python311\\lib\\site-packages (from fsspec[http]<2026,>=2024.6.1->snowflake-ml-python) (3.12.15)\n",
      "Requirement already satisfied: python-dateutil>=2.8.2 in c:\\users\\sssns\\appdata\\local\\programs\\python\\python311\\lib\\site-packages (from pandas<3,>=2.1.4->snowflake-ml-python) (2.9.0.post0)\n",
      "Requirement already satisfied: pytz>=2020.1 in c:\\users\\sssns\\appdata\\local\\programs\\python\\python311\\lib\\site-packages (from pandas<3,>=2.1.4->snowflake-ml-python) (2025.2)\n",
      "Requirement already satisfied: tzdata>=2022.7 in c:\\users\\sssns\\appdata\\local\\programs\\python\\python311\\lib\\site-packages (from pandas<3,>=2.1.4->snowflake-ml-python) (2025.2)\n",
      "Requirement already satisfied: annotated-types>=0.6.0 in c:\\users\\sssns\\appdata\\local\\programs\\python\\python311\\lib\\site-packages (from pydantic<3,>=2.8.2->snowflake-ml-python) (0.7.0)\n",
      "Requirement already satisfied: pydantic-core==2.33.2 in c:\\users\\sssns\\appdata\\local\\programs\\python\\python311\\lib\\site-packages (from pydantic<3,>=2.8.2->snowflake-ml-python) (2.33.2)\n",
      "Requirement already satisfied: typing-inspection>=0.4.0 in c:\\users\\sssns\\appdata\\local\\programs\\python\\python311\\lib\\site-packages (from pydantic<3,>=2.8.2->snowflake-ml-python) (0.4.2)\n",
      "Requirement already satisfied: aiobotocore<3.0.0,>=2.5.4 in c:\\users\\sssns\\appdata\\local\\programs\\python\\python311\\lib\\site-packages (from s3fs<2026,>=2024.6.1->snowflake-ml-python) (2.24.2)\n",
      "Requirement already satisfied: aioitertools<1.0.0,>=0.5.1 in c:\\users\\sssns\\appdata\\local\\programs\\python\\python311\\lib\\site-packages (from aiobotocore<3.0.0,>=2.5.4->s3fs<2026,>=2024.6.1->snowflake-ml-python) (0.12.0)\n",
      "Requirement already satisfied: botocore<1.40.19,>=1.40.15 in c:\\users\\sssns\\appdata\\local\\programs\\python\\python311\\lib\\site-packages (from aiobotocore<3.0.0,>=2.5.4->s3fs<2026,>=2024.6.1->snowflake-ml-python) (1.40.18)\n",
      "Requirement already satisfied: jmespath<2.0.0,>=0.7.1 in c:\\users\\sssns\\appdata\\local\\programs\\python\\python311\\lib\\site-packages (from aiobotocore<3.0.0,>=2.5.4->s3fs<2026,>=2024.6.1->snowflake-ml-python) (1.0.1)\n",
      "Requirement already satisfied: multidict<7.0.0,>=6.0.0 in c:\\users\\sssns\\appdata\\local\\programs\\python\\python311\\lib\\site-packages (from aiobotocore<3.0.0,>=2.5.4->s3fs<2026,>=2024.6.1->snowflake-ml-python) (6.6.4)\n",
      "Requirement already satisfied: wrapt<2.0.0,>=1.10.10 in c:\\users\\sssns\\appdata\\local\\programs\\python\\python311\\lib\\site-packages (from aiobotocore<3.0.0,>=2.5.4->s3fs<2026,>=2024.6.1->snowflake-ml-python) (1.17.3)\n",
      "Requirement already satisfied: aiohappyeyeballs>=2.5.0 in c:\\users\\sssns\\appdata\\local\\programs\\python\\python311\\lib\\site-packages (from aiohttp!=4.0.0a0,!=4.0.0a1->fsspec[http]<2026,>=2024.6.1->snowflake-ml-python) (2.6.1)\n",
      "Requirement already satisfied: aiosignal>=1.4.0 in c:\\users\\sssns\\appdata\\local\\programs\\python\\python311\\lib\\site-packages (from aiohttp!=4.0.0a0,!=4.0.0a1->fsspec[http]<2026,>=2024.6.1->snowflake-ml-python) (1.4.0)\n",
      "Requirement already satisfied: attrs>=17.3.0 in c:\\users\\sssns\\appdata\\local\\programs\\python\\python311\\lib\\site-packages (from aiohttp!=4.0.0a0,!=4.0.0a1->fsspec[http]<2026,>=2024.6.1->snowflake-ml-python) (25.3.0)\n",
      "Requirement already satisfied: frozenlist>=1.1.1 in c:\\users\\sssns\\appdata\\local\\programs\\python\\python311\\lib\\site-packages (from aiohttp!=4.0.0a0,!=4.0.0a1->fsspec[http]<2026,>=2024.6.1->snowflake-ml-python) (1.7.0)\n",
      "Requirement already satisfied: propcache>=0.2.0 in c:\\users\\sssns\\appdata\\local\\programs\\python\\python311\\lib\\site-packages (from aiohttp!=4.0.0a0,!=4.0.0a1->fsspec[http]<2026,>=2024.6.1->snowflake-ml-python) (0.4.0)\n",
      "Requirement already satisfied: yarl<2.0,>=1.17.0 in c:\\users\\sssns\\appdata\\local\\programs\\python\\python311\\lib\\site-packages (from aiohttp!=4.0.0a0,!=4.0.0a1->fsspec[http]<2026,>=2024.6.1->snowflake-ml-python) (1.20.1)\n",
      "Requirement already satisfied: urllib3!=2.2.0,<3,>=1.25.4 in c:\\users\\sssns\\appdata\\local\\programs\\python\\python311\\lib\\site-packages (from botocore<1.40.19,>=1.40.15->aiobotocore<3.0.0,>=2.5.4->s3fs<2026,>=2024.6.1->snowflake-ml-python) (2.5.0)\n",
      "Requirement already satisfied: six>=1.5 in c:\\users\\sssns\\appdata\\local\\programs\\python\\python311\\lib\\site-packages (from python-dateutil>=2.8.2->pandas<3,>=2.1.4->snowflake-ml-python) (1.17.0)\n",
      "Requirement already satisfied: joblib>=1.2.0 in c:\\users\\sssns\\appdata\\local\\programs\\python\\python311\\lib\\site-packages (from scikit-learn<1.7->snowflake-ml-python) (1.5.2)\n",
      "Requirement already satisfied: threadpoolctl>=3.1.0 in c:\\users\\sssns\\appdata\\local\\programs\\python\\python311\\lib\\site-packages (from scikit-learn<1.7->snowflake-ml-python) (3.6.0)\n",
      "Requirement already satisfied: slicer==0.0.8 in c:\\users\\sssns\\appdata\\local\\programs\\python\\python311\\lib\\site-packages (from shap<1,>=0.46.0->snowflake-ml-python) (0.0.8)\n",
      "Requirement already satisfied: numba>=0.54 in c:\\users\\sssns\\appdata\\local\\programs\\python\\python311\\lib\\site-packages (from shap<1,>=0.46.0->snowflake-ml-python) (0.62.1)\n",
      "Requirement already satisfied: asn1crypto<2.0.0,>0.24.0 in c:\\users\\sssns\\appdata\\local\\programs\\python\\python311\\lib\\site-packages (from snowflake-connector-python<4,>=3.16.0->snowflake-connector-python[pandas]<4,>=3.16.0->snowflake-ml-python) (1.5.1)\n",
      "Requirement already satisfied: boto3>=1.24 in c:\\users\\sssns\\appdata\\local\\programs\\python\\python311\\lib\\site-packages (from snowflake-connector-python<4,>=3.16.0->snowflake-connector-python[pandas]<4,>=3.16.0->snowflake-ml-python) (1.40.18)\n",
      "Requirement already satisfied: cffi<2.0.0,>=1.9 in c:\\users\\sssns\\appdata\\local\\programs\\python\\python311\\lib\\site-packages (from snowflake-connector-python<4,>=3.16.0->snowflake-connector-python[pandas]<4,>=3.16.0->snowflake-ml-python) (1.17.1)\n",
      "Requirement already satisfied: pyOpenSSL<26.0.0,>=22.0.0 in c:\\users\\sssns\\appdata\\local\\programs\\python\\python311\\lib\\site-packages (from snowflake-connector-python<4,>=3.16.0->snowflake-connector-python[pandas]<4,>=3.16.0->snowflake-ml-python) (25.3.0)\n",
      "Requirement already satisfied: requests<3.0.0 in c:\\users\\sssns\\appdata\\local\\programs\\python\\python311\\lib\\site-packages (from snowflake-connector-python<4,>=3.16.0->snowflake-connector-python[pandas]<4,>=3.16.0->snowflake-ml-python) (2.32.5)\n",
      "Requirement already satisfied: charset_normalizer<4,>=2 in c:\\users\\sssns\\appdata\\local\\programs\\python\\python311\\lib\\site-packages (from snowflake-connector-python<4,>=3.16.0->snowflake-connector-python[pandas]<4,>=3.16.0->snowflake-ml-python) (3.4.3)\n",
      "Requirement already satisfied: certifi>=2017.4.17 in c:\\users\\sssns\\appdata\\local\\programs\\python\\python311\\lib\\site-packages (from snowflake-connector-python<4,>=3.16.0->snowflake-connector-python[pandas]<4,>=3.16.0->snowflake-ml-python) (2025.10.5)\n",
      "Requirement already satisfied: filelock<4,>=3.5 in c:\\users\\sssns\\appdata\\local\\programs\\python\\python311\\lib\\site-packages (from snowflake-connector-python<4,>=3.16.0->snowflake-connector-python[pandas]<4,>=3.16.0->snowflake-ml-python) (3.19.1)\n",
      "Requirement already satisfied: sortedcontainers>=2.4.0 in c:\\users\\sssns\\appdata\\local\\programs\\python\\python311\\lib\\site-packages (from snowflake-connector-python<4,>=3.16.0->snowflake-connector-python[pandas]<4,>=3.16.0->snowflake-ml-python) (2.4.0)\n",
      "Requirement already satisfied: tomlkit in c:\\users\\sssns\\appdata\\local\\programs\\python\\python311\\lib\\site-packages (from snowflake-connector-python<4,>=3.16.0->snowflake-connector-python[pandas]<4,>=3.16.0->snowflake-ml-python) (0.13.3)\n",
      "Requirement already satisfied: pycparser in c:\\users\\sssns\\appdata\\local\\programs\\python\\python311\\lib\\site-packages (from cffi<2.0.0,>=1.9->snowflake-connector-python<4,>=3.16.0->snowflake-connector-python[pandas]<4,>=3.16.0->snowflake-ml-python) (2.23)\n",
      "Requirement already satisfied: setuptools>=40.6.0 in c:\\users\\sssns\\appdata\\local\\programs\\python\\python311\\lib\\site-packages (from snowflake-snowpark-python!=1.26.0,<2,>=1.17.0->snowflake-ml-python) (65.5.0)\n",
      "Requirement already satisfied: wheel in c:\\users\\sssns\\appdata\\local\\programs\\python\\python311\\lib\\site-packages (from snowflake-snowpark-python!=1.26.0,<2,>=1.17.0->snowflake-ml-python) (0.45.1)\n",
      "Requirement already satisfied: protobuf<6.32,>=3.20 in c:\\users\\sssns\\appdata\\local\\programs\\python\\python311\\lib\\site-packages (from snowflake-snowpark-python!=1.26.0,<2,>=1.17.0->snowflake-ml-python) (6.31.1)\n",
      "Requirement already satisfied: tzlocal in c:\\users\\sssns\\appdata\\local\\programs\\python\\python311\\lib\\site-packages (from snowflake-snowpark-python!=1.26.0,<2,>=1.17.0->snowflake-ml-python) (5.3.1)\n",
      "Requirement already satisfied: colorama in c:\\users\\sssns\\appdata\\local\\programs\\python\\python311\\lib\\site-packages (from tqdm<5->snowflake-ml-python) (0.4.6)\n",
      "Requirement already satisfied: s3transfer<0.14.0,>=0.13.0 in c:\\users\\sssns\\appdata\\local\\programs\\python\\python311\\lib\\site-packages (from boto3>=1.24->snowflake-connector-python<4,>=3.16.0->snowflake-connector-python[pandas]<4,>=3.16.0->snowflake-ml-python) (0.13.1)\n",
      "Requirement already satisfied: llvmlite<0.46,>=0.45.0dev0 in c:\\users\\sssns\\appdata\\local\\programs\\python\\python311\\lib\\site-packages (from numba>=0.54->shap<1,>=0.46.0->snowflake-ml-python) (0.45.1)\n",
      "Requirement already satisfied: snowflake-snowpark-python in c:\\users\\sssns\\appdata\\local\\programs\\python\\python311\\lib\\site-packages (1.39.1)\n",
      "Requirement already satisfied: setuptools>=40.6.0 in c:\\users\\sssns\\appdata\\local\\programs\\python\\python311\\lib\\site-packages (from snowflake-snowpark-python) (65.5.0)\n",
      "Requirement already satisfied: wheel in c:\\users\\sssns\\appdata\\local\\programs\\python\\python311\\lib\\site-packages (from snowflake-snowpark-python) (0.45.1)\n",
      "Requirement already satisfied: snowflake-connector-python<4.0.0,>=3.17.0 in c:\\users\\sssns\\appdata\\local\\programs\\python\\python311\\lib\\site-packages (from snowflake-snowpark-python) (3.17.4)\n",
      "Requirement already satisfied: typing-extensions<5.0.0,>=4.1.0 in c:\\users\\sssns\\appdata\\local\\programs\\python\\python311\\lib\\site-packages (from snowflake-snowpark-python) (4.15.0)\n",
      "Requirement already satisfied: pyyaml in c:\\users\\sssns\\appdata\\local\\programs\\python\\python311\\lib\\site-packages (from snowflake-snowpark-python) (6.0.3)\n",
      "Requirement already satisfied: cloudpickle!=2.1.0,!=2.2.0,<=3.1.1,>=1.6.0 in c:\\users\\sssns\\appdata\\local\\programs\\python\\python311\\lib\\site-packages (from snowflake-snowpark-python) (3.1.1)\n",
      "Requirement already satisfied: protobuf<6.32,>=3.20 in c:\\users\\sssns\\appdata\\local\\programs\\python\\python311\\lib\\site-packages (from snowflake-snowpark-python) (6.31.1)\n",
      "Requirement already satisfied: python-dateutil in c:\\users\\sssns\\appdata\\local\\programs\\python\\python311\\lib\\site-packages (from snowflake-snowpark-python) (2.9.0.post0)\n",
      "Requirement already satisfied: tzlocal in c:\\users\\sssns\\appdata\\local\\programs\\python\\python311\\lib\\site-packages (from snowflake-snowpark-python) (5.3.1)\n",
      "Requirement already satisfied: asn1crypto<2.0.0,>0.24.0 in c:\\users\\sssns\\appdata\\local\\programs\\python\\python311\\lib\\site-packages (from snowflake-connector-python<4.0.0,>=3.17.0->snowflake-snowpark-python) (1.5.1)\n",
      "Requirement already satisfied: boto3>=1.24 in c:\\users\\sssns\\appdata\\local\\programs\\python\\python311\\lib\\site-packages (from snowflake-connector-python<4.0.0,>=3.17.0->snowflake-snowpark-python) (1.40.18)\n",
      "Requirement already satisfied: botocore>=1.24 in c:\\users\\sssns\\appdata\\local\\programs\\python\\python311\\lib\\site-packages (from snowflake-connector-python<4.0.0,>=3.17.0->snowflake-snowpark-python) (1.40.18)\n",
      "Requirement already satisfied: cffi<2.0.0,>=1.9 in c:\\users\\sssns\\appdata\\local\\programs\\python\\python311\\lib\\site-packages (from snowflake-connector-python<4.0.0,>=3.17.0->snowflake-snowpark-python) (1.17.1)\n",
      "Requirement already satisfied: cryptography>=3.1.0 in c:\\users\\sssns\\appdata\\local\\programs\\python\\python311\\lib\\site-packages (from snowflake-connector-python<4.0.0,>=3.17.0->snowflake-snowpark-python) (46.0.0)\n",
      "Requirement already satisfied: pyOpenSSL<26.0.0,>=22.0.0 in c:\\users\\sssns\\appdata\\local\\programs\\python\\python311\\lib\\site-packages (from snowflake-connector-python<4.0.0,>=3.17.0->snowflake-snowpark-python) (25.3.0)\n",
      "Requirement already satisfied: pyjwt<3.0.0 in c:\\users\\sssns\\appdata\\local\\programs\\python\\python311\\lib\\site-packages (from snowflake-connector-python<4.0.0,>=3.17.0->snowflake-snowpark-python) (2.10.1)\n",
      "Requirement already satisfied: pytz in c:\\users\\sssns\\appdata\\local\\programs\\python\\python311\\lib\\site-packages (from snowflake-connector-python<4.0.0,>=3.17.0->snowflake-snowpark-python) (2025.2)\n",
      "Requirement already satisfied: requests<3.0.0 in c:\\users\\sssns\\appdata\\local\\programs\\python\\python311\\lib\\site-packages (from snowflake-connector-python<4.0.0,>=3.17.0->snowflake-snowpark-python) (2.32.5)\n",
      "Requirement already satisfied: packaging in c:\\users\\sssns\\appdata\\local\\programs\\python\\python311\\lib\\site-packages (from snowflake-connector-python<4.0.0,>=3.17.0->snowflake-snowpark-python) (24.2)\n",
      "Requirement already satisfied: charset_normalizer<4,>=2 in c:\\users\\sssns\\appdata\\local\\programs\\python\\python311\\lib\\site-packages (from snowflake-connector-python<4.0.0,>=3.17.0->snowflake-snowpark-python) (3.4.3)\n",
      "Requirement already satisfied: idna<4,>=2.5 in c:\\users\\sssns\\appdata\\local\\programs\\python\\python311\\lib\\site-packages (from snowflake-connector-python<4.0.0,>=3.17.0->snowflake-snowpark-python) (3.10)\n",
      "Requirement already satisfied: certifi>=2017.4.17 in c:\\users\\sssns\\appdata\\local\\programs\\python\\python311\\lib\\site-packages (from snowflake-connector-python<4.0.0,>=3.17.0->snowflake-snowpark-python) (2025.10.5)\n",
      "Requirement already satisfied: filelock<4,>=3.5 in c:\\users\\sssns\\appdata\\local\\programs\\python\\python311\\lib\\site-packages (from snowflake-connector-python<4.0.0,>=3.17.0->snowflake-snowpark-python) (3.19.1)\n",
      "Requirement already satisfied: sortedcontainers>=2.4.0 in c:\\users\\sssns\\appdata\\local\\programs\\python\\python311\\lib\\site-packages (from snowflake-connector-python<4.0.0,>=3.17.0->snowflake-snowpark-python) (2.4.0)\n",
      "Requirement already satisfied: platformdirs<5.0.0,>=2.6.0 in c:\\users\\sssns\\appdata\\local\\programs\\python\\python311\\lib\\site-packages (from snowflake-connector-python<4.0.0,>=3.17.0->snowflake-snowpark-python) (4.4.0)\n",
      "Requirement already satisfied: tomlkit in c:\\users\\sssns\\appdata\\local\\programs\\python\\python311\\lib\\site-packages (from snowflake-connector-python<4.0.0,>=3.17.0->snowflake-snowpark-python) (0.13.3)\n",
      "Requirement already satisfied: pycparser in c:\\users\\sssns\\appdata\\local\\programs\\python\\python311\\lib\\site-packages (from cffi<2.0.0,>=1.9->snowflake-connector-python<4.0.0,>=3.17.0->snowflake-snowpark-python) (2.23)\n",
      "Requirement already satisfied: urllib3<3,>=1.21.1 in c:\\users\\sssns\\appdata\\local\\programs\\python\\python311\\lib\\site-packages (from requests<3.0.0->snowflake-connector-python<4.0.0,>=3.17.0->snowflake-snowpark-python) (2.5.0)\n",
      "Requirement already satisfied: jmespath<2.0.0,>=0.7.1 in c:\\users\\sssns\\appdata\\local\\programs\\python\\python311\\lib\\site-packages (from boto3>=1.24->snowflake-connector-python<4.0.0,>=3.17.0->snowflake-snowpark-python) (1.0.1)\n",
      "Requirement already satisfied: s3transfer<0.14.0,>=0.13.0 in c:\\users\\sssns\\appdata\\local\\programs\\python\\python311\\lib\\site-packages (from boto3>=1.24->snowflake-connector-python<4.0.0,>=3.17.0->snowflake-snowpark-python) (0.13.1)\n",
      "Requirement already satisfied: six>=1.5 in c:\\users\\sssns\\appdata\\local\\programs\\python\\python311\\lib\\site-packages (from python-dateutil->snowflake-snowpark-python) (1.17.0)\n",
      "Requirement already satisfied: tzdata in c:\\users\\sssns\\appdata\\local\\programs\\python\\python311\\lib\\site-packages (from tzlocal->snowflake-snowpark-python) (2025.2)\n",
      "Requirement already satisfied: snowflake-snowpark-python in c:\\users\\sssns\\appdata\\local\\programs\\python\\python311\\lib\\site-packages (1.39.1)\n",
      "Requirement already satisfied: setuptools>=40.6.0 in c:\\users\\sssns\\appdata\\local\\programs\\python\\python311\\lib\\site-packages (from snowflake-snowpark-python) (65.5.0)\n",
      "Requirement already satisfied: wheel in c:\\users\\sssns\\appdata\\local\\programs\\python\\python311\\lib\\site-packages (from snowflake-snowpark-python) (0.45.1)\n",
      "Requirement already satisfied: snowflake-connector-python<4.0.0,>=3.17.0 in c:\\users\\sssns\\appdata\\local\\programs\\python\\python311\\lib\\site-packages (from snowflake-snowpark-python) (3.17.4)\n",
      "Requirement already satisfied: typing-extensions<5.0.0,>=4.1.0 in c:\\users\\sssns\\appdata\\local\\programs\\python\\python311\\lib\\site-packages (from snowflake-snowpark-python) (4.15.0)\n",
      "Requirement already satisfied: pyyaml in c:\\users\\sssns\\appdata\\local\\programs\\python\\python311\\lib\\site-packages (from snowflake-snowpark-python) (6.0.3)\n",
      "Requirement already satisfied: cloudpickle!=2.1.0,!=2.2.0,<=3.1.1,>=1.6.0 in c:\\users\\sssns\\appdata\\local\\programs\\python\\python311\\lib\\site-packages (from snowflake-snowpark-python) (3.1.1)\n",
      "Requirement already satisfied: protobuf<6.32,>=3.20 in c:\\users\\sssns\\appdata\\local\\programs\\python\\python311\\lib\\site-packages (from snowflake-snowpark-python) (6.31.1)\n",
      "Requirement already satisfied: python-dateutil in c:\\users\\sssns\\appdata\\local\\programs\\python\\python311\\lib\\site-packages (from snowflake-snowpark-python) (2.9.0.post0)\n",
      "Requirement already satisfied: tzlocal in c:\\users\\sssns\\appdata\\local\\programs\\python\\python311\\lib\\site-packages (from snowflake-snowpark-python) (5.3.1)\n",
      "Requirement already satisfied: asn1crypto<2.0.0,>0.24.0 in c:\\users\\sssns\\appdata\\local\\programs\\python\\python311\\lib\\site-packages (from snowflake-connector-python<4.0.0,>=3.17.0->snowflake-snowpark-python) (1.5.1)\n",
      "Requirement already satisfied: boto3>=1.24 in c:\\users\\sssns\\appdata\\local\\programs\\python\\python311\\lib\\site-packages (from snowflake-connector-python<4.0.0,>=3.17.0->snowflake-snowpark-python) (1.40.18)\n",
      "Requirement already satisfied: botocore>=1.24 in c:\\users\\sssns\\appdata\\local\\programs\\python\\python311\\lib\\site-packages (from snowflake-connector-python<4.0.0,>=3.17.0->snowflake-snowpark-python) (1.40.18)\n",
      "Requirement already satisfied: cffi<2.0.0,>=1.9 in c:\\users\\sssns\\appdata\\local\\programs\\python\\python311\\lib\\site-packages (from snowflake-connector-python<4.0.0,>=3.17.0->snowflake-snowpark-python) (1.17.1)\n",
      "Requirement already satisfied: cryptography>=3.1.0 in c:\\users\\sssns\\appdata\\local\\programs\\python\\python311\\lib\\site-packages (from snowflake-connector-python<4.0.0,>=3.17.0->snowflake-snowpark-python) (46.0.0)\n",
      "Requirement already satisfied: pyOpenSSL<26.0.0,>=22.0.0 in c:\\users\\sssns\\appdata\\local\\programs\\python\\python311\\lib\\site-packages (from snowflake-connector-python<4.0.0,>=3.17.0->snowflake-snowpark-python) (25.3.0)\n",
      "Requirement already satisfied: pyjwt<3.0.0 in c:\\users\\sssns\\appdata\\local\\programs\\python\\python311\\lib\\site-packages (from snowflake-connector-python<4.0.0,>=3.17.0->snowflake-snowpark-python) (2.10.1)\n",
      "Requirement already satisfied: pytz in c:\\users\\sssns\\appdata\\local\\programs\\python\\python311\\lib\\site-packages (from snowflake-connector-python<4.0.0,>=3.17.0->snowflake-snowpark-python) (2025.2)\n",
      "Requirement already satisfied: requests<3.0.0 in c:\\users\\sssns\\appdata\\local\\programs\\python\\python311\\lib\\site-packages (from snowflake-connector-python<4.0.0,>=3.17.0->snowflake-snowpark-python) (2.32.5)\n",
      "Requirement already satisfied: packaging in c:\\users\\sssns\\appdata\\local\\programs\\python\\python311\\lib\\site-packages (from snowflake-connector-python<4.0.0,>=3.17.0->snowflake-snowpark-python) (24.2)\n",
      "Requirement already satisfied: charset_normalizer<4,>=2 in c:\\users\\sssns\\appdata\\local\\programs\\python\\python311\\lib\\site-packages (from snowflake-connector-python<4.0.0,>=3.17.0->snowflake-snowpark-python) (3.4.3)\n",
      "Requirement already satisfied: idna<4,>=2.5 in c:\\users\\sssns\\appdata\\local\\programs\\python\\python311\\lib\\site-packages (from snowflake-connector-python<4.0.0,>=3.17.0->snowflake-snowpark-python) (3.10)\n",
      "Requirement already satisfied: certifi>=2017.4.17 in c:\\users\\sssns\\appdata\\local\\programs\\python\\python311\\lib\\site-packages (from snowflake-connector-python<4.0.0,>=3.17.0->snowflake-snowpark-python) (2025.10.5)\n",
      "Requirement already satisfied: filelock<4,>=3.5 in c:\\users\\sssns\\appdata\\local\\programs\\python\\python311\\lib\\site-packages (from snowflake-connector-python<4.0.0,>=3.17.0->snowflake-snowpark-python) (3.19.1)\n",
      "Requirement already satisfied: sortedcontainers>=2.4.0 in c:\\users\\sssns\\appdata\\local\\programs\\python\\python311\\lib\\site-packages (from snowflake-connector-python<4.0.0,>=3.17.0->snowflake-snowpark-python) (2.4.0)\n",
      "Requirement already satisfied: platformdirs<5.0.0,>=2.6.0 in c:\\users\\sssns\\appdata\\local\\programs\\python\\python311\\lib\\site-packages (from snowflake-connector-python<4.0.0,>=3.17.0->snowflake-snowpark-python) (4.4.0)\n",
      "Requirement already satisfied: tomlkit in c:\\users\\sssns\\appdata\\local\\programs\\python\\python311\\lib\\site-packages (from snowflake-connector-python<4.0.0,>=3.17.0->snowflake-snowpark-python) (0.13.3)\n",
      "Requirement already satisfied: pycparser in c:\\users\\sssns\\appdata\\local\\programs\\python\\python311\\lib\\site-packages (from cffi<2.0.0,>=1.9->snowflake-connector-python<4.0.0,>=3.17.0->snowflake-snowpark-python) (2.23)\n",
      "Requirement already satisfied: urllib3<3,>=1.21.1 in c:\\users\\sssns\\appdata\\local\\programs\\python\\python311\\lib\\site-packages (from requests<3.0.0->snowflake-connector-python<4.0.0,>=3.17.0->snowflake-snowpark-python) (2.5.0)\n",
      "Requirement already satisfied: jmespath<2.0.0,>=0.7.1 in c:\\users\\sssns\\appdata\\local\\programs\\python\\python311\\lib\\site-packages (from boto3>=1.24->snowflake-connector-python<4.0.0,>=3.17.0->snowflake-snowpark-python) (1.0.1)\n",
      "Requirement already satisfied: s3transfer<0.14.0,>=0.13.0 in c:\\users\\sssns\\appdata\\local\\programs\\python\\python311\\lib\\site-packages (from boto3>=1.24->snowflake-connector-python<4.0.0,>=3.17.0->snowflake-snowpark-python) (0.13.1)\n",
      "Requirement already satisfied: six>=1.5 in c:\\users\\sssns\\appdata\\local\\programs\\python\\python311\\lib\\site-packages (from python-dateutil->snowflake-snowpark-python) (1.17.0)\n",
      "Requirement already satisfied: tzdata in c:\\users\\sssns\\appdata\\local\\programs\\python\\python311\\lib\\site-packages (from tzlocal->snowflake-snowpark-python) (2025.2)\n",
      "Requirement already satisfied: snowflake-connector-python in c:\\users\\sssns\\appdata\\local\\programs\\python\\python311\\lib\\site-packages (3.17.4)\n",
      "Requirement already satisfied: asn1crypto<2.0.0,>0.24.0 in c:\\users\\sssns\\appdata\\local\\programs\\python\\python311\\lib\\site-packages (from snowflake-connector-python) (1.5.1)\n",
      "Requirement already satisfied: boto3>=1.24 in c:\\users\\sssns\\appdata\\local\\programs\\python\\python311\\lib\\site-packages (from snowflake-connector-python) (1.40.18)\n",
      "Requirement already satisfied: botocore>=1.24 in c:\\users\\sssns\\appdata\\local\\programs\\python\\python311\\lib\\site-packages (from snowflake-connector-python) (1.40.18)\n",
      "Requirement already satisfied: cffi<2.0.0,>=1.9 in c:\\users\\sssns\\appdata\\local\\programs\\python\\python311\\lib\\site-packages (from snowflake-connector-python) (1.17.1)\n",
      "Requirement already satisfied: cryptography>=3.1.0 in c:\\users\\sssns\\appdata\\local\\programs\\python\\python311\\lib\\site-packages (from snowflake-connector-python) (46.0.0)\n",
      "Requirement already satisfied: pyOpenSSL<26.0.0,>=22.0.0 in c:\\users\\sssns\\appdata\\local\\programs\\python\\python311\\lib\\site-packages (from snowflake-connector-python) (25.3.0)\n",
      "Requirement already satisfied: pyjwt<3.0.0 in c:\\users\\sssns\\appdata\\local\\programs\\python\\python311\\lib\\site-packages (from snowflake-connector-python) (2.10.1)\n",
      "Requirement already satisfied: pytz in c:\\users\\sssns\\appdata\\local\\programs\\python\\python311\\lib\\site-packages (from snowflake-connector-python) (2025.2)\n",
      "Requirement already satisfied: requests<3.0.0 in c:\\users\\sssns\\appdata\\local\\programs\\python\\python311\\lib\\site-packages (from snowflake-connector-python) (2.32.5)\n",
      "Requirement already satisfied: packaging in c:\\users\\sssns\\appdata\\local\\programs\\python\\python311\\lib\\site-packages (from snowflake-connector-python) (24.2)\n",
      "Requirement already satisfied: charset_normalizer<4,>=2 in c:\\users\\sssns\\appdata\\local\\programs\\python\\python311\\lib\\site-packages (from snowflake-connector-python) (3.4.3)\n",
      "Requirement already satisfied: idna<4,>=2.5 in c:\\users\\sssns\\appdata\\local\\programs\\python\\python311\\lib\\site-packages (from snowflake-connector-python) (3.10)\n",
      "Requirement already satisfied: certifi>=2017.4.17 in c:\\users\\sssns\\appdata\\local\\programs\\python\\python311\\lib\\site-packages (from snowflake-connector-python) (2025.10.5)\n",
      "Requirement already satisfied: typing_extensions<5,>=4.3 in c:\\users\\sssns\\appdata\\local\\programs\\python\\python311\\lib\\site-packages (from snowflake-connector-python) (4.15.0)\n",
      "Requirement already satisfied: filelock<4,>=3.5 in c:\\users\\sssns\\appdata\\local\\programs\\python\\python311\\lib\\site-packages (from snowflake-connector-python) (3.19.1)\n",
      "Requirement already satisfied: sortedcontainers>=2.4.0 in c:\\users\\sssns\\appdata\\local\\programs\\python\\python311\\lib\\site-packages (from snowflake-connector-python) (2.4.0)\n",
      "Requirement already satisfied: platformdirs<5.0.0,>=2.6.0 in c:\\users\\sssns\\appdata\\local\\programs\\python\\python311\\lib\\site-packages (from snowflake-connector-python) (4.4.0)\n",
      "Requirement already satisfied: tomlkit in c:\\users\\sssns\\appdata\\local\\programs\\python\\python311\\lib\\site-packages (from snowflake-connector-python) (0.13.3)\n",
      "Requirement already satisfied: pycparser in c:\\users\\sssns\\appdata\\local\\programs\\python\\python311\\lib\\site-packages (from cffi<2.0.0,>=1.9->snowflake-connector-python) (2.23)\n",
      "Requirement already satisfied: urllib3<3,>=1.21.1 in c:\\users\\sssns\\appdata\\local\\programs\\python\\python311\\lib\\site-packages (from requests<3.0.0->snowflake-connector-python) (2.5.0)\n",
      "Requirement already satisfied: jmespath<2.0.0,>=0.7.1 in c:\\users\\sssns\\appdata\\local\\programs\\python\\python311\\lib\\site-packages (from boto3>=1.24->snowflake-connector-python) (1.0.1)\n",
      "Requirement already satisfied: s3transfer<0.14.0,>=0.13.0 in c:\\users\\sssns\\appdata\\local\\programs\\python\\python311\\lib\\site-packages (from boto3>=1.24->snowflake-connector-python) (0.13.1)\n",
      "Requirement already satisfied: python-dateutil<3.0.0,>=2.1 in c:\\users\\sssns\\appdata\\local\\programs\\python\\python311\\lib\\site-packages (from botocore>=1.24->snowflake-connector-python) (2.9.0.post0)\n",
      "Requirement already satisfied: six>=1.5 in c:\\users\\sssns\\appdata\\local\\programs\\python\\python311\\lib\\site-packages (from python-dateutil<3.0.0,>=2.1->botocore>=1.24->snowflake-connector-python) (1.17.0)\n",
      "Requirement already satisfied: snowflake-connector-python in c:\\users\\sssns\\appdata\\local\\programs\\python\\python311\\lib\\site-packages (3.17.4)\n",
      "Requirement already satisfied: asn1crypto<2.0.0,>0.24.0 in c:\\users\\sssns\\appdata\\local\\programs\\python\\python311\\lib\\site-packages (from snowflake-connector-python) (1.5.1)\n",
      "Requirement already satisfied: boto3>=1.24 in c:\\users\\sssns\\appdata\\local\\programs\\python\\python311\\lib\\site-packages (from snowflake-connector-python) (1.40.18)\n",
      "Requirement already satisfied: botocore>=1.24 in c:\\users\\sssns\\appdata\\local\\programs\\python\\python311\\lib\\site-packages (from snowflake-connector-python) (1.40.18)\n",
      "Requirement already satisfied: cffi<2.0.0,>=1.9 in c:\\users\\sssns\\appdata\\local\\programs\\python\\python311\\lib\\site-packages (from snowflake-connector-python) (1.17.1)\n",
      "Requirement already satisfied: cryptography>=3.1.0 in c:\\users\\sssns\\appdata\\local\\programs\\python\\python311\\lib\\site-packages (from snowflake-connector-python) (46.0.0)\n",
      "Requirement already satisfied: pyOpenSSL<26.0.0,>=22.0.0 in c:\\users\\sssns\\appdata\\local\\programs\\python\\python311\\lib\\site-packages (from snowflake-connector-python) (25.3.0)\n",
      "Requirement already satisfied: pyjwt<3.0.0 in c:\\users\\sssns\\appdata\\local\\programs\\python\\python311\\lib\\site-packages (from snowflake-connector-python) (2.10.1)\n",
      "Requirement already satisfied: pytz in c:\\users\\sssns\\appdata\\local\\programs\\python\\python311\\lib\\site-packages (from snowflake-connector-python) (2025.2)\n",
      "Requirement already satisfied: requests<3.0.0 in c:\\users\\sssns\\appdata\\local\\programs\\python\\python311\\lib\\site-packages (from snowflake-connector-python) (2.32.5)\n",
      "Requirement already satisfied: packaging in c:\\users\\sssns\\appdata\\local\\programs\\python\\python311\\lib\\site-packages (from snowflake-connector-python) (24.2)\n",
      "Requirement already satisfied: charset_normalizer<4,>=2 in c:\\users\\sssns\\appdata\\local\\programs\\python\\python311\\lib\\site-packages (from snowflake-connector-python) (3.4.3)\n",
      "Requirement already satisfied: idna<4,>=2.5 in c:\\users\\sssns\\appdata\\local\\programs\\python\\python311\\lib\\site-packages (from snowflake-connector-python) (3.10)\n",
      "Requirement already satisfied: certifi>=2017.4.17 in c:\\users\\sssns\\appdata\\local\\programs\\python\\python311\\lib\\site-packages (from snowflake-connector-python) (2025.10.5)\n",
      "Requirement already satisfied: typing_extensions<5,>=4.3 in c:\\users\\sssns\\appdata\\local\\programs\\python\\python311\\lib\\site-packages (from snowflake-connector-python) (4.15.0)\n",
      "Requirement already satisfied: filelock<4,>=3.5 in c:\\users\\sssns\\appdata\\local\\programs\\python\\python311\\lib\\site-packages (from snowflake-connector-python) (3.19.1)\n",
      "Requirement already satisfied: sortedcontainers>=2.4.0 in c:\\users\\sssns\\appdata\\local\\programs\\python\\python311\\lib\\site-packages (from snowflake-connector-python) (2.4.0)\n",
      "Requirement already satisfied: platformdirs<5.0.0,>=2.6.0 in c:\\users\\sssns\\appdata\\local\\programs\\python\\python311\\lib\\site-packages (from snowflake-connector-python) (4.4.0)\n",
      "Requirement already satisfied: tomlkit in c:\\users\\sssns\\appdata\\local\\programs\\python\\python311\\lib\\site-packages (from snowflake-connector-python) (0.13.3)\n",
      "Requirement already satisfied: pycparser in c:\\users\\sssns\\appdata\\local\\programs\\python\\python311\\lib\\site-packages (from cffi<2.0.0,>=1.9->snowflake-connector-python) (2.23)\n",
      "Requirement already satisfied: urllib3<3,>=1.21.1 in c:\\users\\sssns\\appdata\\local\\programs\\python\\python311\\lib\\site-packages (from requests<3.0.0->snowflake-connector-python) (2.5.0)\n",
      "Requirement already satisfied: jmespath<2.0.0,>=0.7.1 in c:\\users\\sssns\\appdata\\local\\programs\\python\\python311\\lib\\site-packages (from boto3>=1.24->snowflake-connector-python) (1.0.1)\n",
      "Requirement already satisfied: s3transfer<0.14.0,>=0.13.0 in c:\\users\\sssns\\appdata\\local\\programs\\python\\python311\\lib\\site-packages (from boto3>=1.24->snowflake-connector-python) (0.13.1)\n",
      "Requirement already satisfied: python-dateutil<3.0.0,>=2.1 in c:\\users\\sssns\\appdata\\local\\programs\\python\\python311\\lib\\site-packages (from botocore>=1.24->snowflake-connector-python) (2.9.0.post0)\n",
      "Requirement already satisfied: six>=1.5 in c:\\users\\sssns\\appdata\\local\\programs\\python\\python311\\lib\\site-packages (from python-dateutil<3.0.0,>=2.1->botocore>=1.24->snowflake-connector-python) (1.17.0)\n"
     ]
    }
   ],
   "source": [
    "!pip install snowflake-ml-python\n",
    "!pip install snowflake-snowpark-python\n",
    "!pip install snowflake-connector-python"
   ]
  },
  {
   "cell_type": "code",
   "execution_count": 187,
   "id": "929c8b4f",
   "metadata": {},
   "outputs": [],
   "source": [
    "import snowflake.connector\n",
    "from snowflake.snowpark import Session\n",
    "from credentials import params\n",
    "from snowflake.snowpark.functions import col\n",
    "from snowflake.ml.modeling import preprocessing\n",
    "from snowflake.ml.modeling.preprocessing import LabelEncoder\n",
    "from snowflake.ml.modeling.xgboost import XGBClassifier\n"
   ]
  },
  {
   "cell_type": "code",
   "execution_count": 188,
   "id": "106a1681",
   "metadata": {},
   "outputs": [
    {
     "name": "stdout",
     "output_type": "stream",
     "text": [
      "Installed snowflake-telemetry-python version: 0.7.1\n"
     ]
    }
   ],
   "source": [
    "# Inspect installed snowflake-telemetry-python version and optionally install a required version\n",
    "def installed_pkg_version(pkg_name):\n",
    "    try:\n",
    "        from importlib.metadata import version as _version\n",
    "        return _version(pkg_name)\n",
    "    except Exception:\n",
    "        try:\n",
    "            import pkg_resources\n",
    "            return pkg_resources.get_distribution(pkg_name).version\n",
    "        except Exception:\n",
    "            return None\n",
    "\n",
    "pkg = 'snowflake-telemetry-python'\n",
    "ver = installed_pkg_version(pkg)\n",
    "print(f'Installed {pkg} version: {ver}')\n",
    "# If you need to install a specific version, uncomment and set REQUIRED_VERSION below\n",
    "# REQUIRED_VERSION = '0.8.0'  # <-- replace with required version from server/UDF error message\n",
    "# if REQUIRED_VERSION and ver != REQUIRED_VERSION:\n",
    "#     import sys; __import__('subprocess').check_call([sys.executable, '-m', 'pip', 'install', f'snowflake-telemetry-python=={REQUIRED_VERSION}'])\n",
    "#     print('Re-installed, please restart the kernel if necessary')"
   ]
  },
  {
   "cell_type": "code",
   "execution_count": 189,
   "id": "f152521a",
   "metadata": {},
   "outputs": [],
   "source": [
    "# Create a Snowflake session\n",
    "session = Session.builder.configs(params).create()"
   ]
  },
  {
   "cell_type": "code",
   "execution_count": 190,
   "id": "fbac0dde",
   "metadata": {},
   "outputs": [],
   "source": [
    "month_days = [31, 28, 31, 30, 31, 30, 31, 31, 30, 31, 30, 31]\n",
    "pre = {}"
   ]
  },
  {
   "cell_type": "code",
   "execution_count": 191,
   "id": "88cedebd",
   "metadata": {},
   "outputs": [
    {
     "name": "stdout",
     "output_type": "stream",
     "text": [
      "{(1, 1): 1, (1, 2): 2, (1, 3): 2, (1, 4): 2, (1, 5): 2, (1, 6): 2, (1, 7): 2, (1, 8): 1, (1, 9): 2, (1, 10): 2, (1, 11): 2, (1, 12): 2, (1, 13): 2, (1, 14): 2, (1, 15): 1, (1, 16): 2, (1, 17): 2, (1, 18): 2, (1, 19): 2, (1, 20): 2, (1, 21): 2, (1, 22): 1, (1, 23): 2, (1, 24): 2, (1, 25): 2, (1, 26): 2, (1, 27): 2, (1, 28): 2, (1, 29): 1, (1, 30): 2, (1, 31): 2, (2, 1): 1, (2, 2): 2, (2, 3): 3, (2, 4): 4, (2, 5): 5, (2, 6): 6, (2, 7): 7, (2, 8): 1, (2, 9): 2, (2, 10): 3, (2, 11): 4, (2, 12): 5, (2, 13): 6, (2, 14): 7, (2, 15): 1, (2, 16): 2, (2, 17): 3, (2, 18): 4, (2, 19): 5, (2, 20): 6, (2, 21): 7, (2, 22): 1, (2, 23): 2, (2, 24): 3, (2, 25): 4, (2, 26): 5, (2, 27): 6, (2, 28): 7, (3, 1): 1, (3, 2): 2, (3, 3): 3, (3, 4): 4, (3, 5): 5, (3, 6): 6, (3, 7): 7, (3, 8): 1, (3, 9): 2, (3, 10): 3, (3, 11): 4, (3, 12): 5, (3, 13): 6, (3, 14): 7, (3, 15): 1, (3, 16): 2, (3, 17): 3, (3, 18): 4, (3, 19): 5, (3, 20): 6, (3, 21): 7, (3, 22): 1, (3, 23): 2, (3, 24): 3, (3, 25): 4, (3, 26): 5, (3, 27): 6, (3, 28): 7, (3, 29): 1, (3, 30): 2, (3, 31): 3, (4, 1): 1, (4, 2): 2, (4, 3): 3, (4, 4): 4, (4, 5): 5, (4, 6): 6, (4, 7): 7, (4, 8): 1, (4, 9): 2, (4, 10): 3, (4, 11): 4, (4, 12): 5, (4, 13): 6, (4, 14): 7, (4, 15): 1, (4, 16): 2, (4, 17): 3, (4, 18): 4, (4, 19): 5, (4, 20): 6, (4, 21): 7, (4, 22): 1, (4, 23): 2, (4, 24): 3, (4, 25): 4, (4, 26): 5, (4, 27): 6, (4, 28): 7, (4, 29): 1, (4, 30): 2, (5, 1): 1, (5, 2): 2, (5, 3): 3, (5, 4): 4, (5, 5): 5, (5, 6): 6, (5, 7): 7, (5, 8): 1, (5, 9): 2, (5, 10): 3, (5, 11): 4, (5, 12): 5, (5, 13): 6, (5, 14): 7, (5, 15): 1, (5, 16): 2, (5, 17): 3, (5, 18): 4, (5, 19): 5, (5, 20): 6, (5, 21): 7, (5, 22): 1, (5, 23): 2, (5, 24): 3, (5, 25): 4, (5, 26): 5, (5, 27): 6, (5, 28): 7, (5, 29): 1, (5, 30): 2, (5, 31): 3, (6, 1): 1, (6, 2): 2, (6, 3): 3, (6, 4): 4, (6, 5): 5, (6, 6): 6, (6, 7): 7, (6, 8): 1, (6, 9): 2, (6, 10): 3, (6, 11): 4, (6, 12): 5, (6, 13): 6, (6, 14): 7, (6, 15): 1, (6, 16): 2, (6, 17): 3, (6, 18): 4, (6, 19): 5, (6, 20): 6, (6, 21): 7, (6, 22): 1, (6, 23): 2, (6, 24): 3, (6, 25): 4, (6, 26): 5, (6, 27): 6, (6, 28): 7, (6, 29): 1, (6, 30): 2, (7, 1): 1, (7, 2): 2, (7, 3): 3, (7, 4): 4, (7, 5): 5, (7, 6): 6, (7, 7): 7, (7, 8): 1, (7, 9): 2, (7, 10): 3, (7, 11): 4, (7, 12): 5, (7, 13): 6, (7, 14): 7, (7, 15): 1, (7, 16): 2, (7, 17): 3, (7, 18): 4, (7, 19): 5, (7, 20): 6, (7, 21): 7, (7, 22): 1, (7, 23): 2, (7, 24): 3, (7, 25): 4, (7, 26): 5, (7, 27): 6, (7, 28): 7, (7, 29): 1, (7, 30): 2, (7, 31): 3, (8, 1): 1, (8, 2): 2, (8, 3): 3, (8, 4): 4, (8, 5): 5, (8, 6): 6, (8, 7): 7, (8, 8): 1, (8, 9): 2, (8, 10): 3, (8, 11): 4, (8, 12): 5, (8, 13): 6, (8, 14): 7, (8, 15): 1, (8, 16): 2, (8, 17): 3, (8, 18): 4, (8, 19): 5, (8, 20): 6, (8, 21): 7, (8, 22): 1, (8, 23): 2, (8, 24): 3, (8, 25): 4, (8, 26): 5, (8, 27): 6, (8, 28): 7, (8, 29): 1, (8, 30): 2, (8, 31): 3, (9, 1): 1, (9, 2): 2, (9, 3): 3, (9, 4): 4, (9, 5): 5, (9, 6): 6, (9, 7): 7, (9, 8): 1, (9, 9): 2, (9, 10): 3, (9, 11): 4, (9, 12): 5, (9, 13): 6, (9, 14): 7, (9, 15): 1, (9, 16): 2, (9, 17): 3, (9, 18): 4, (9, 19): 5, (9, 20): 6, (9, 21): 7, (9, 22): 1, (9, 23): 2, (9, 24): 3, (9, 25): 4, (9, 26): 5, (9, 27): 6, (9, 28): 7, (9, 29): 1, (9, 30): 2, (10, 1): 1, (10, 2): 2, (10, 3): 3, (10, 4): 4, (10, 5): 5, (10, 6): 6, (10, 7): 7, (10, 8): 1, (10, 9): 2, (10, 10): 3, (10, 11): 4, (10, 12): 5, (10, 13): 6, (10, 14): 7, (10, 15): 1, (10, 16): 2, (10, 17): 3, (10, 18): 4, (10, 19): 5, (10, 20): 6, (10, 21): 7, (10, 22): 1, (10, 23): 2, (10, 24): 3, (10, 25): 4, (10, 26): 5, (10, 27): 6, (10, 28): 7, (10, 29): 1, (10, 30): 2, (10, 31): 3, (11, 1): 1, (11, 2): 2, (11, 3): 3, (11, 4): 4, (11, 5): 5, (11, 6): 6, (11, 7): 7, (11, 8): 1, (11, 9): 2, (11, 10): 3, (11, 11): 4, (11, 12): 5, (11, 13): 6, (11, 14): 7, (11, 15): 1, (11, 16): 2, (11, 17): 3, (11, 18): 4, (11, 19): 5, (11, 20): 6, (11, 21): 7, (11, 22): 1, (11, 23): 2, (11, 24): 3, (11, 25): 4, (11, 26): 5, (11, 27): 6, (11, 28): 7, (11, 29): 1, (11, 30): 2, (12, 1): 8, (12, 2): 8, (12, 3): 8, (12, 4): 8, (12, 5): 8, (12, 6): 8, (12, 7): 8, (12, 8): 8, (12, 9): 8, (12, 10): 8, (12, 11): 8, (12, 12): 8, (12, 13): 8, (12, 14): 8, (12, 15): 8, (12, 16): 8, (12, 17): 8, (12, 18): 8, (12, 19): 8, (12, 20): 8, (12, 21): 8, (12, 22): 8, (12, 23): 8, (12, 24): 8, (12, 25): 8, (12, 26): 8, (12, 27): 8, (12, 28): 8, (12, 29): 8, (12, 30): 8, (12, 31): 8}\n"
     ]
    }
   ],
   "source": [
    "for i,month_length in enumerate(month_days):\n",
    "    month = i + 1\n",
    "\n",
    "    for day in range(1,month_length+1):\n",
    "        \n",
    "        # In January, it goes to neighborhood 1 on Mondays, and neighborhood 2 the other days.\n",
    "        if ((month) == 1):\n",
    "            if (day) % 7 == 1:\n",
    "                pre[(month,day)] = 1\n",
    "            else:\n",
    "                pre[(month,day)] = 2\n",
    "                \n",
    "        # From February through November, it goes to neighborhood 1 on the 1st, 2 on the 2nd, 3 on the 3rd,\n",
    "        # 4 on the 4th, 5 on the 5th, 6 on the 6th, and 7 on the 7th, 1 on the 8th, 2 on the 9th, etc.\n",
    "        elif ((month) <= 11):\n",
    "            pre[(month,day)] = ((day-1) % 7) + 1\n",
    "\n",
    "        # Every December, it only goes to neighborhood 8.\n",
    "        elif ((month) == 12):\n",
    "            pre[(month,day)] = 8\n",
    "print(pre)  "
   ]
  },
  {
   "cell_type": "code",
   "execution_count": 192,
   "id": "abec4093",
   "metadata": {},
   "outputs": [],
   "source": [
    "import pandas as pd\n",
    "df = pd.DataFrame(list(pre.items()), columns = ['MD', 'N']) "
   ]
  },
  {
   "cell_type": "code",
   "execution_count": 193,
   "id": "23946fa9",
   "metadata": {},
   "outputs": [
    {
     "name": "stdout",
     "output_type": "stream",
     "text": [
      "     MONTH  DAY  NEIGHBORHOOD\n",
      "0        1    1             1\n",
      "1        1    2             2\n",
      "2        1    3             2\n",
      "3        1    4             2\n",
      "4        1    5             2\n",
      "..     ...  ...           ...\n",
      "360     12   27             8\n",
      "361     12   28             8\n",
      "362     12   29             8\n",
      "363     12   30             8\n",
      "364     12   31             8\n",
      "\n",
      "[365 rows x 3 columns]\n"
     ]
    }
   ],
   "source": [
    "df[['col1_a', 'col1_b']] = pd.DataFrame(df['MD'].tolist(), index=df.index)\n",
    "df=df.drop(columns=['MD'])\n",
    "df=df[['col1_a', 'col1_b', 'N']]\n",
    "df.columns = ['MONTH', 'DAY', 'NEIGHBORHOOD']\n",
    "print(df)"
   ]
  },
  {
   "cell_type": "code",
   "execution_count": 194,
   "id": "7302515e",
   "metadata": {},
   "outputs": [],
   "source": [
    "session = Session.builder.configs(params).create()"
   ]
  },
  {
   "cell_type": "code",
   "execution_count": 195,
   "id": "a7f0ff8d",
   "metadata": {},
   "outputs": [],
   "source": [
    "session.sql(f\"USE DATABASE TEST_DATABASE\").collect()\n",
    "session.sql(f\"USE SCHEMA TEST_SCHEMA\").collect()\n",
    "# Create a Snowpark DataFrame from the pandas DataFrame using the session instance\n",
    "snowpark_df = session.create_dataframe(df)  "
   ]
  },
  {
   "cell_type": "code",
   "execution_count": null,
   "id": "214da9e6",
   "metadata": {},
   "outputs": [],
   "source": [
    "# Ensure MONTH and DAY are integers and NEIGHBORHOOD is numeric for modeling\n",
    "from snowflake.snowpark.types import IntegerType\n",
    "# If columns are strings (with quotes), cast them cleanly\n",
    "# Use with_column to cast; replace column names if they include quotes\n",
    "def naked(col_name):\n",
    "    return col_name.strip().strip('\"').strip('').strip('`')\n",
    "# Build a mapping from cleaned->actual column names\n",
    "col_map = {c.strip(): c for c in snowpark_df.columns}\n",
    "month_col = next((c for c in snowpark_df.columns if 'MONTH' in c.upper()), None)\n",
    "day_col = next((c for c in snowpark_df.columns if 'DAY' in c.upper()), None)\n",
    "label_col = next((c for c in snowpark_df.columns if 'NEIGHBORHOOD' in c.upper()), None)\n",
    "print('Detected columns ->', month_col, day_col, label_col)\n",
    "if month_col is None or day_col is None or label_col is None:\n",
    "    raise RuntimeError('Required columns not found for casting: MONTH, DAY, NEIGHBORHOOD')\n",
    "# Cast columns to Integer if needed\n",
    "snowpark_df = snowpark_df.with_column(month_col, snowpark_df[month_col].cast(IntegerType()))\n",
    "snowpark_df = snowpark_df.with_column(day_col, snowpark_df[day_col].cast(IntegerType()))\n",
    "# Ensure label is integer (or numeric); if it's string, you can label-encode later\n",
    "try:\n",
    "    snowpark_df = snowpark_df.with_column(label_col, snowpark_df[label_col].cast(IntegerType()))\n",
    "except Exception:\n",
    "    # leave as-is if casting fails; LabelEncoder will handle categorical mapping\n",
    "    pass\n",
    "# Show a sample\n",
    "snowpark_df.show(10)\n",
    "# Create train/test splits\n",
    "train_snowpark_df, test_snowpark_df = snowpark_df.randomSplit([0.9, 0.1])\n",
    "print('Train rows:', train_snowpark_df.count(), 'Test rows:', test_snowpark_df.count())"
   ]
  },
  {
   "cell_type": "code",
   "execution_count": 196,
   "id": "b1041c9b",
   "metadata": {},
   "outputs": [],
   "source": [
    "snowpark_df.write.save_as_table('TEST_DATABASE.TEST_SCHEMA.df_clean', mode='overwrite')"
   ]
  },
  {
   "cell_type": "code",
   "execution_count": 198,
   "id": "1b6503cb",
   "metadata": {},
   "outputs": [],
   "source": [
    "snowpark_df = session.table(\"test_database.test_schema.df_clean\")"
   ]
  },
  {
   "cell_type": "code",
   "execution_count": 199,
   "id": "7aa4a87f",
   "metadata": {},
   "outputs": [
    {
     "name": "stdout",
     "output_type": "stream",
     "text": [
      "------------------------------------\n",
      "|\"MONTH\"  |\"DAY\"  |\"NEIGHBORHOOD\"  |\n",
      "------------------------------------\n",
      "|1        |1      |1               |\n",
      "|1        |2      |2               |\n",
      "|1        |3      |2               |\n",
      "|1        |4      |2               |\n",
      "|1        |5      |2               |\n",
      "|1        |6      |2               |\n",
      "|1        |7      |2               |\n",
      "|1        |8      |1               |\n",
      "|1        |9      |2               |\n",
      "|1        |10     |2               |\n",
      "|1        |11     |2               |\n",
      "|1        |12     |2               |\n",
      "|1        |13     |2               |\n",
      "|1        |14     |2               |\n",
      "|1        |15     |1               |\n",
      "|1        |16     |2               |\n",
      "|1        |17     |2               |\n",
      "|1        |18     |2               |\n",
      "|1        |19     |2               |\n",
      "|1        |20     |2               |\n",
      "|1        |21     |2               |\n",
      "|1        |22     |1               |\n",
      "|1        |23     |2               |\n",
      "|1        |24     |2               |\n",
      "|1        |25     |2               |\n",
      "|1        |26     |2               |\n",
      "|1        |27     |2               |\n",
      "|1        |28     |2               |\n",
      "|1        |29     |1               |\n",
      "|1        |30     |2               |\n",
      "|1        |31     |2               |\n",
      "|2        |1      |1               |\n",
      "|2        |2      |2               |\n",
      "|2        |3      |3               |\n",
      "|2        |4      |4               |\n",
      "|2        |5      |5               |\n",
      "|2        |6      |6               |\n",
      "|2        |7      |7               |\n",
      "|2        |8      |1               |\n",
      "|2        |9      |2               |\n",
      "------------------------------------\n",
      "\n"
     ]
    }
   ],
   "source": [
    "# show the first forty rows of the dataframe\n",
    "snowpark_df.show(n=40)"
   ]
  },
  {
   "cell_type": "code",
   "execution_count": 200,
   "id": "f302ae9d",
   "metadata": {},
   "outputs": [
    {
     "data": {
      "text/plain": [
       "365"
      ]
     },
     "execution_count": 200,
     "metadata": {},
     "output_type": "execute_result"
    }
   ],
   "source": [
    "# count the rows in the dataframe\n",
    "snowpark_df.count()\n"
   ]
  },
  {
   "cell_type": "code",
   "execution_count": 201,
   "id": "a83d9559",
   "metadata": {},
   "outputs": [
    {
     "name": "stdout",
     "output_type": "stream",
     "text": [
      "--------------------------------------------------------------------------\n",
      "|\"SUMMARY\"  |\"MONTH\"             |\"DAY\"              |\"NEIGHBORHOOD\"     |\n",
      "--------------------------------------------------------------------------\n",
      "|mean       |6.526027            |15.720548          |4.019178           |\n",
      "|min        |1.0                 |1.0                |1.0                |\n",
      "|count      |365.0               |365.0              |365.0              |\n",
      "|stddev     |3.4525841046960752  |8.808321463252803  |2.276773374756478  |\n",
      "|max        |12.0                |31.0               |8.0                |\n",
      "--------------------------------------------------------------------------\n",
      "\n"
     ]
    }
   ],
   "source": [
    "# describe the dataframe\n",
    "snowpark_df.describe().show()"
   ]
  },
  {
   "cell_type": "code",
   "execution_count": 202,
   "id": "503c6d86",
   "metadata": {},
   "outputs": [
    {
     "name": "stdout",
     "output_type": "stream",
     "text": [
      "----------------------------\n",
      "|\"NEIGHBORHOOD\"  |\"COUNT\"  |\n",
      "----------------------------\n",
      "|1               |54       |\n",
      "|2               |75       |\n",
      "|3               |45       |\n",
      "|5               |40       |\n",
      "|6               |40       |\n",
      "|8               |31       |\n",
      "|4               |40       |\n",
      "|7               |40       |\n",
      "----------------------------\n",
      "\n"
     ]
    }
   ],
   "source": [
    "# groupby neighborhood, and show the counts\n",
    "snowpark_df.group_by(\"Neighborhood\").count().show()"
   ]
  },
  {
   "cell_type": "code",
   "execution_count": 203,
   "id": "2a997261",
   "metadata": {},
   "outputs": [],
   "source": [
    "# one way to scale your target (neighborhood) so you can use it in the XGBClassifier model\n",
    "test = snowpark_df.withColumn('NEIGHBORHOOD2', snowpark_df.neighborhood - 1).drop(\"Neighborhood\")"
   ]
  },
  {
   "cell_type": "code",
   "execution_count": 204,
   "id": "6c651d8b",
   "metadata": {},
   "outputs": [],
   "source": [
    "# now use scikit-learn's LabelEncoder -- a more general solution -- through Snowpark ML \n",
    "le = LabelEncoder(input_cols=['NEIGHBORHOOD'], output_cols= ['NEIGHBORHOOD2'], drop_input_cols=True)"
   ]
  },
  {
   "cell_type": "code",
   "execution_count": 205,
   "id": "90a4ec4a",
   "metadata": {},
   "outputs": [],
   "source": [
    "# apply the LabelEncoder\n",
    "fitted = le.fit(snowpark_df.select(\"NEIGHBORHOOD\"))"
   ]
  },
  {
   "cell_type": "code",
   "execution_count": 206,
   "id": "2bf68de8",
   "metadata": {},
   "outputs": [
    {
     "name": "stdout",
     "output_type": "stream",
     "text": [
      "-------------------------------------\n",
      "|\"NEIGHBORHOOD2\"  |\"MONTH\"  |\"DAY\"  |\n",
      "-------------------------------------\n",
      "|0.0              |1        |1      |\n",
      "|1.0              |1        |2      |\n",
      "|1.0              |1        |3      |\n",
      "|1.0              |1        |4      |\n",
      "|1.0              |1        |5      |\n",
      "|1.0              |1        |6      |\n",
      "|1.0              |1        |7      |\n",
      "|0.0              |1        |8      |\n",
      "|1.0              |1        |9      |\n",
      "|1.0              |1        |10     |\n",
      "-------------------------------------\n",
      "\n"
     ]
    }
   ],
   "source": [
    "snowpark_df_prepared = fitted.transform(snowpark_df)\n",
    "\n",
    "snowpark_df_prepared.show()\n"
   ]
  },
  {
   "cell_type": "code",
   "execution_count": 207,
   "id": "115d1a2a",
   "metadata": {},
   "outputs": [],
   "source": [
    "train_snowpark_df, test_snowpark_df = snowpark_df.randomSplit([0.9, 0.1])"
   ]
  },
  {
   "cell_type": "code",
   "execution_count": 208,
   "id": "5bd0c699",
   "metadata": {},
   "outputs": [],
   "source": [
    "# save training data\n",
    "train_snowpark_df.write.mode(\"overwrite\").save_as_table(\"df_clean_train\")"
   ]
  },
  {
   "cell_type": "code",
   "execution_count": 209,
   "id": "7bcca889",
   "metadata": {},
   "outputs": [],
   "source": [
    "# save test data\n",
    "test_snowpark_df.write.mode(\"overwrite\").save_as_table(\"df_clean_test\")"
   ]
  },
  {
   "cell_type": "code",
   "execution_count": 210,
   "id": "7a7d2ad3",
   "metadata": {},
   "outputs": [],
   "source": [
    "# create and train the XGBClassifier model\n",
    "FEATURE_COLS = [\"MONTH\", \"DAY\"]\n",
    "LABEL_COLS = [\"NEIGHBORHOOD\"]"
   ]
  },
  {
   "cell_type": "code",
   "execution_count": null,
   "id": "a485732c",
   "metadata": {},
   "outputs": [],
   "source": []
  },
  {
   "cell_type": "code",
   "execution_count": 211,
   "id": "ddeb82e1",
   "metadata": {},
   "outputs": [],
   "source": [
    "# Train an XGBoost model on snowflake.\n",
    "xgboost_model = XGBClassifier(\n",
    "    \n",
    "    input_cols=FEATURE_COLS,\n",
    "    label_cols=LABEL_COLS\n",
    ")\n"
   ]
  },
  {
   "cell_type": "code",
   "execution_count": 212,
   "id": "a166daf0",
   "metadata": {},
   "outputs": [
    {
     "name": "stdout",
     "output_type": "stream",
     "text": [
      "Requirement already satisfied: snowflake-telemetry-python in c:\\users\\sssns\\appdata\\local\\programs\\python\\python311\\lib\\site-packages (0.7.1)\n",
      "Requirement already satisfied: opentelemetry-api==1.26.0 in c:\\users\\sssns\\appdata\\local\\programs\\python\\python311\\lib\\site-packages (from snowflake-telemetry-python) (1.26.0)\n",
      "Requirement already satisfied: opentelemetry-sdk==1.26.0 in c:\\users\\sssns\\appdata\\local\\programs\\python\\python311\\lib\\site-packages (from snowflake-telemetry-python) (1.26.0)\n",
      "Requirement already satisfied: deprecated>=1.2.6 in c:\\users\\sssns\\appdata\\local\\programs\\python\\python311\\lib\\site-packages (from opentelemetry-api==1.26.0->snowflake-telemetry-python) (1.2.18)\n",
      "Requirement already satisfied: importlib-metadata<=8.0.0,>=6.0 in c:\\users\\sssns\\appdata\\local\\programs\\python\\python311\\lib\\site-packages (from opentelemetry-api==1.26.0->snowflake-telemetry-python) (8.0.0)\n",
      "Requirement already satisfied: opentelemetry-semantic-conventions==0.47b0 in c:\\users\\sssns\\appdata\\local\\programs\\python\\python311\\lib\\site-packages (from opentelemetry-sdk==1.26.0->snowflake-telemetry-python) (0.47b0)\n",
      "Requirement already satisfied: typing-extensions>=3.7.4 in c:\\users\\sssns\\appdata\\local\\programs\\python\\python311\\lib\\site-packages (from opentelemetry-sdk==1.26.0->snowflake-telemetry-python) (4.15.0)\n",
      "Requirement already satisfied: zipp>=0.5 in c:\\users\\sssns\\appdata\\local\\programs\\python\\python311\\lib\\site-packages (from importlib-metadata<=8.0.0,>=6.0->opentelemetry-api==1.26.0->snowflake-telemetry-python) (3.23.0)\n",
      "Requirement already satisfied: wrapt<2,>=1.10 in c:\\users\\sssns\\appdata\\local\\programs\\python\\python311\\lib\\site-packages (from deprecated>=1.2.6->opentelemetry-api==1.26.0->snowflake-telemetry-python) (1.17.3)\n",
      "Note: you may need to restart the kernel to use updated packages.\n"
     ]
    }
   ],
   "source": [
    "pip install snowflake-telemetry-python"
   ]
  },
  {
   "cell_type": "code",
   "execution_count": 213,
   "id": "c86779c8",
   "metadata": {},
   "outputs": [],
   "source": [
    "import snowflake.telemetry "
   ]
  },
  {
   "cell_type": "code",
   "execution_count": 214,
   "id": "1058c249",
   "metadata": {},
   "outputs": [
    {
     "name": "stderr",
     "output_type": "stream",
     "text": [
      "The version of package 'snowflake-telemetry-python' in the local environment is 0.7.1, which does not fit the criteria for the requirement 'snowflake-telemetry-python'. Your UDF might not work when the package version is different between the server and your local environment.\n",
      "Failed to execute query [queryID: 01bf81f0-0002-29a6-0002-57760001666e] \n",
      "CREATE OR REPLACE \n",
      "TEMPORARY  PROCEDURE  SNOWPARK_TEMP_PROCEDURE_VT112DM9FZ(arg1 ARRAY,arg2 STRING,arg3 ARRAY,arg4 ARRAY,arg5 STRING,arg6 OBJECT)\n",
      "\n",
      "RETURNS STRING\n",
      "LANGUAGE PYTHON \n",
      "VOLATILE\n",
      "RUNTIME_VERSION=3.11\n",
      "IMPORTS=('@\"TEST_DATABASE\".\"TEST_SCHEMA\".SNOWPARK_TEMP_STAGE_FEGB27N13B/SNOWPARK_TEMP_PROCEDURE_VT112DM9FZ/udf_py_447585733.zip')\n",
      "\n",
      "PACKAGES=('snowflake-snowpark-python','snowflake-telemetry-python','numpy==2.3.3','scikit-learn==1.6.1','xgboost==2.1.4','cloudpickle==3.1.1')\n",
      "\n",
      "\n",
      "\n",
      "HANDLER='udf_py_447585733.compute'\n",
      "EXECUTE AS OWNER\n",
      "\n",
      "\n",
      "\n",
      "391546 (XX000): SQL compilation error: Cannot create a Python function with the specified packages. Please check your packages specification and try again. 'One or more package conflicts were detected.'. Hint: These packages are available in other python runtimes:[\"snowflake-snowpark-python\"->[3.8, 3.9, 3.10, 3.12, 3.13], \"cloudpickle==3.1.1\"->[3.9, 3.10, 3.12, 3.13], \"snowflake-telemetry-python\"->[3.8, 3.9, 3.10, 3.12], \"numpy==2.3.3\"->[3.12, 3.13], \"xgboost==2.1.4\"->[3.9, 3.10, 3.12, 3.13], \"scikit-learn==1.6.1\"->[3.9, 3.10, 3.12, 3.13]].\n",
      "Failed to execute query [queryID: 01bf81f0-0002-29a6-0002-57760001666e] \n",
      "CREATE OR REPLACE \n",
      "TEMPORARY  PROCEDURE  SNOWPARK_TEMP_PROCEDURE_VT112DM9FZ(arg1 ARRAY,arg2 STRING,arg3 ARRAY,arg4 ARRAY,arg5 STRING,arg6 OBJECT)\n",
      "\n",
      "RETURNS STRING\n",
      "LANGUAGE PYTHON \n",
      "VOLATILE\n",
      "RUNTIME_VERSION=3.11\n",
      "IMPORTS=('@\"TEST_DATABASE\".\"TEST_SCHEMA\".SNOWPARK_TEMP_STAGE_FEGB27N13B/SNOWPARK_TEMP_PROCEDURE_VT112DM9FZ/udf_py_447585733.zip')\n",
      "\n",
      "PACKAGES=('snowflake-snowpark-python','snowflake-telemetry-python','numpy==2.3.3','scikit-learn==1.6.1','xgboost==2.1.4','cloudpickle==3.1.1')\n",
      "\n",
      "\n",
      "\n",
      "HANDLER='udf_py_447585733.compute'\n",
      "EXECUTE AS OWNER\n",
      "\n",
      "\n",
      "\n",
      "391546 (XX000): SQL compilation error: Cannot create a Python function with the specified packages. Please check your packages specification and try again. 'One or more package conflicts were detected.'. Hint: These packages are available in other python runtimes:[\"snowflake-snowpark-python\"->[3.8, 3.9, 3.10, 3.12, 3.13], \"cloudpickle==3.1.1\"->[3.9, 3.10, 3.12, 3.13], \"snowflake-telemetry-python\"->[3.8, 3.9, 3.10, 3.12], \"numpy==2.3.3\"->[3.12, 3.13], \"xgboost==2.1.4\"->[3.9, 3.10, 3.12, 3.13], \"scikit-learn==1.6.1\"->[3.9, 3.10, 3.12, 3.13]].\n"
     ]
    },
    {
     "ename": "SnowparkSQLException",
     "evalue": "(1304): 01bf81f0-0002-29a6-0002-57760001666e: 391546 (XX000): SQL compilation error: Cannot create a Python function with the specified packages. Please check your packages specification and try again. 'One or more package conflicts were detected.'. Hint: These packages are available in other python runtimes:[\"snowflake-snowpark-python\"->[3.8, 3.9, 3.10, 3.12, 3.13], \"cloudpickle==3.1.1\"->[3.9, 3.10, 3.12, 3.13], \"snowflake-telemetry-python\"->[3.8, 3.9, 3.10, 3.12], \"numpy==2.3.3\"->[3.12, 3.13], \"xgboost==2.1.4\"->[3.9, 3.10, 3.12, 3.13], \"scikit-learn==1.6.1\"->[3.9, 3.10, 3.12, 3.13]].",
     "output_type": "error",
     "traceback": [
      "\u001b[31m---------------------------------------------------------------------------\u001b[39m",
      "\u001b[31mSnowparkSQLException\u001b[39m                      Traceback (most recent call last)",
      "\u001b[36mCell\u001b[39m\u001b[36m \u001b[39m\u001b[32mIn[214]\u001b[39m\u001b[32m, line 1\u001b[39m\n\u001b[32m----> \u001b[39m\u001b[32m1\u001b[39m \u001b[43mxgboost_model\u001b[49m\u001b[43m.\u001b[49m\u001b[43mfit\u001b[49m\u001b[43m(\u001b[49m\u001b[43mtrain_snowpark_df\u001b[49m\u001b[43m)\u001b[49m\n",
      "\u001b[36mFile \u001b[39m\u001b[32mc:\\Users\\sssns\\AppData\\Local\\Programs\\Python\\Python311\\Lib\\site-packages\\snowflake\\ml\\_internal\\telemetry.py:565\u001b[39m, in \u001b[36msend_api_usage_telemetry.<locals>.decorator.<locals>.wrap\u001b[39m\u001b[34m(*args, **kwargs)\u001b[39m\n\u001b[32m    556\u001b[39m telemetry_args = \u001b[38;5;28mdict\u001b[39m(\n\u001b[32m    557\u001b[39m     func_name=_get_full_func_name(func),\n\u001b[32m    558\u001b[39m     function_category=TelemetryField.FUNC_CAT_USAGE.value,\n\u001b[32m   (...)\u001b[39m\u001b[32m    562\u001b[39m     custom_tags=custom_tags,\n\u001b[32m    563\u001b[39m )\n\u001b[32m    564\u001b[39m \u001b[38;5;28;01mtry\u001b[39;00m:\n\u001b[32m--> \u001b[39m\u001b[32m565\u001b[39m     \u001b[38;5;28;01mreturn\u001b[39;00m ctx.run(execute_func_with_statement_params)\n\u001b[32m    566\u001b[39m \u001b[38;5;28;01mexcept\u001b[39;00m \u001b[38;5;167;01mException\u001b[39;00m \u001b[38;5;28;01mas\u001b[39;00m e:\n\u001b[32m    567\u001b[39m     \u001b[38;5;28;01mif\u001b[39;00m \u001b[38;5;129;01mnot\u001b[39;00m \u001b[38;5;28misinstance\u001b[39m(e, snowml_exceptions.SnowflakeMLException):\n\u001b[32m    568\u001b[39m         \u001b[38;5;66;03m# already handled via a nested decorated function\u001b[39;00m\n",
      "\u001b[36mFile \u001b[39m\u001b[32mc:\\Users\\sssns\\AppData\\Local\\Programs\\Python\\Python311\\Lib\\site-packages\\snowflake\\ml\\_internal\\telemetry.py:533\u001b[39m, in \u001b[36msend_api_usage_telemetry.<locals>.decorator.<locals>.wrap.<locals>.execute_func_with_statement_params\u001b[39m\u001b[34m()\u001b[39m\n\u001b[32m    531\u001b[39m \u001b[38;5;28;01mdef\u001b[39;00m\u001b[38;5;250m \u001b[39m\u001b[34mexecute_func_with_statement_params\u001b[39m() -> _ReturnValue:\n\u001b[32m    532\u001b[39m     _patch_manager.set_statement_params(statement_params)\n\u001b[32m--> \u001b[39m\u001b[32m533\u001b[39m     result = \u001b[43mfunc\u001b[49m\u001b[43m(\u001b[49m\u001b[43m*\u001b[49m\u001b[43margs\u001b[49m\u001b[43m,\u001b[49m\u001b[43m \u001b[49m\u001b[43m*\u001b[49m\u001b[43m*\u001b[49m\u001b[43mkwargs\u001b[49m\u001b[43m)\u001b[49m\n\u001b[32m    534\u001b[39m     \u001b[38;5;28;01mreturn\u001b[39;00m update_stmt_params_if_snowpark_df(result, statement_params)\n",
      "\u001b[36mFile \u001b[39m\u001b[32mc:\\Users\\sssns\\AppData\\Local\\Programs\\Python\\Python311\\Lib\\site-packages\\snowflake\\ml\\modeling\\framework\\base.py:440\u001b[39m, in \u001b[36mBaseEstimator.fit\u001b[39m\u001b[34m(self, dataset)\u001b[39m\n\u001b[32m    438\u001b[39m     data_sources = [data_source.DataFrameInfo(dataset.queries[\u001b[33m\"\u001b[39m\u001b[33mqueries\u001b[39m\u001b[33m\"\u001b[39m][-\u001b[32m1\u001b[39m])]\n\u001b[32m    439\u001b[39m lineage_utils.set_data_sources(\u001b[38;5;28mself\u001b[39m, data_sources)\n\u001b[32m--> \u001b[39m\u001b[32m440\u001b[39m \u001b[38;5;28;01mreturn\u001b[39;00m \u001b[38;5;28;43mself\u001b[39;49m\u001b[43m.\u001b[49m\u001b[43m_fit\u001b[49m\u001b[43m(\u001b[49m\u001b[43mdataset\u001b[49m\u001b[43m)\u001b[49m\n",
      "\u001b[36mFile \u001b[39m\u001b[32mc:\\Users\\sssns\\AppData\\Local\\Programs\\Python\\Python311\\Lib\\site-packages\\snowflake\\ml\\modeling\\xgboost\\xgb_classifier.py:553\u001b[39m, in \u001b[36mXGBClassifier._fit\u001b[39m\u001b[34m(self, dataset)\u001b[39m\n\u001b[32m    540\u001b[39m         dataset = pd_df\n\u001b[32m    542\u001b[39m model_trainer = ModelTrainerBuilder.build(\n\u001b[32m    543\u001b[39m     estimator=\u001b[38;5;28mself\u001b[39m._sklearn_object,\n\u001b[32m    544\u001b[39m     dataset=dataset,\n\u001b[32m   (...)\u001b[39m\u001b[32m    551\u001b[39m     batch_size=\u001b[38;5;28mself\u001b[39m._batch_size,\n\u001b[32m    552\u001b[39m )\n\u001b[32m--> \u001b[39m\u001b[32m553\u001b[39m \u001b[38;5;28mself\u001b[39m._sklearn_object = \u001b[43mmodel_trainer\u001b[49m\u001b[43m.\u001b[49m\u001b[43mtrain\u001b[49m\u001b[43m(\u001b[49m\u001b[43m)\u001b[49m\n\u001b[32m    554\u001b[39m \u001b[38;5;28mself\u001b[39m._is_fitted = \u001b[38;5;28;01mTrue\u001b[39;00m\n\u001b[32m    555\u001b[39m \u001b[38;5;28mself\u001b[39m._generate_model_signatures(dataset)\n",
      "\u001b[36mFile \u001b[39m\u001b[32mc:\\Users\\sssns\\AppData\\Local\\Programs\\Python\\Python311\\Lib\\site-packages\\snowflake\\ml\\modeling\\_internal\\snowpark_implementations\\snowpark_trainer.py:566\u001b[39m, in \u001b[36mSnowparkModelTrainer.train\u001b[39m\u001b[34m(self)\u001b[39m\n\u001b[32m    564\u001b[39m     fit_wrapper_sproc = \u001b[38;5;28mself\u001b[39m._get_fit_wrapper_sproc(statement_params=statement_params, anonymous=\u001b[38;5;28;01mTrue\u001b[39;00m)\n\u001b[32m    565\u001b[39m \u001b[38;5;28;01melse\u001b[39;00m:\n\u001b[32m--> \u001b[39m\u001b[32m566\u001b[39m     fit_wrapper_sproc = \u001b[38;5;28;43mself\u001b[39;49m\u001b[43m.\u001b[49m\u001b[43m_get_fit_wrapper_sproc\u001b[49m\u001b[43m(\u001b[49m\u001b[43mstatement_params\u001b[49m\u001b[43m=\u001b[49m\u001b[43mstatement_params\u001b[49m\u001b[43m,\u001b[49m\u001b[43m \u001b[49m\u001b[43manonymous\u001b[49m\u001b[43m=\u001b[49m\u001b[38;5;28;43;01mFalse\u001b[39;49;00m\u001b[43m)\u001b[49m\n\u001b[32m    568\u001b[39m \u001b[38;5;28;01mtry\u001b[39;00m:\n\u001b[32m    569\u001b[39m     sproc_export_file_name: \u001b[38;5;28mstr\u001b[39m = fit_wrapper_sproc(\n\u001b[32m    570\u001b[39m         \u001b[38;5;28mself\u001b[39m.session,\n\u001b[32m    571\u001b[39m         queries,\n\u001b[32m   (...)\u001b[39m\u001b[32m    576\u001b[39m         statement_params,\n\u001b[32m    577\u001b[39m     )\n",
      "\u001b[36mFile \u001b[39m\u001b[32mc:\\Users\\sssns\\AppData\\Local\\Programs\\Python\\Python311\\Lib\\site-packages\\snowflake\\ml\\modeling\\_internal\\snowpark_implementations\\snowpark_trainer.py:236\u001b[39m, in \u001b[36mSnowparkModelTrainer._get_fit_wrapper_sproc\u001b[39m\u001b[34m(self, statement_params, anonymous)\u001b[39m\n\u001b[32m    231\u001b[39m relaxed_dependencies = pkg_version_utils.get_valid_pkg_versions_supported_in_snowflake_conda_channel(\n\u001b[32m    232\u001b[39m     pkg_versions=model_spec.pkgDependencies, session=\u001b[38;5;28mself\u001b[39m.session\n\u001b[32m    233\u001b[39m )\n\u001b[32m    234\u001b[39m packages = [\u001b[33m\"\u001b[39m\u001b[33msnowflake-snowpark-python\u001b[39m\u001b[33m\"\u001b[39m, \u001b[33m\"\u001b[39m\u001b[33msnowflake-telemetry-python\u001b[39m\u001b[33m\"\u001b[39m] + relaxed_dependencies\n\u001b[32m--> \u001b[39m\u001b[32m236\u001b[39m fit_wrapper_sproc = \u001b[38;5;28;43mself\u001b[39;49m\u001b[43m.\u001b[49m\u001b[43msession\u001b[49m\u001b[43m.\u001b[49m\u001b[43msproc\u001b[49m\u001b[43m.\u001b[49m\u001b[43mregister\u001b[49m\u001b[43m(\u001b[49m\n\u001b[32m    237\u001b[39m \u001b[43m    \u001b[49m\u001b[43mfunc\u001b[49m\u001b[43m=\u001b[49m\u001b[38;5;28;43mself\u001b[39;49m\u001b[43m.\u001b[49m\u001b[43m_build_fit_wrapper_sproc\u001b[49m\u001b[43m(\u001b[49m\u001b[43mmodel_spec\u001b[49m\u001b[43m=\u001b[49m\u001b[43mmodel_spec\u001b[49m\u001b[43m)\u001b[49m\u001b[43m,\u001b[49m\n\u001b[32m    238\u001b[39m \u001b[43m    \u001b[49m\u001b[43mis_permanent\u001b[49m\u001b[43m=\u001b[49m\u001b[38;5;28;43;01mFalse\u001b[39;49;00m\u001b[43m,\u001b[49m\n\u001b[32m    239\u001b[39m \u001b[43m    \u001b[49m\u001b[43mname\u001b[49m\u001b[43m=\u001b[49m\u001b[43mfit_sproc_name\u001b[49m\u001b[43m,\u001b[49m\n\u001b[32m    240\u001b[39m \u001b[43m    \u001b[49m\u001b[43mpackages\u001b[49m\u001b[43m=\u001b[49m\u001b[43mpackages\u001b[49m\u001b[43m,\u001b[49m\u001b[43m  \u001b[49m\u001b[38;5;66;43;03m# type: ignore[arg-type]\u001b[39;49;00m\n\u001b[32m    241\u001b[39m \u001b[43m    \u001b[49m\u001b[43mreplace\u001b[49m\u001b[43m=\u001b[49m\u001b[38;5;28;43;01mTrue\u001b[39;49;00m\u001b[43m,\u001b[49m\n\u001b[32m    242\u001b[39m \u001b[43m    \u001b[49m\u001b[43msession\u001b[49m\u001b[43m=\u001b[49m\u001b[38;5;28;43mself\u001b[39;49m\u001b[43m.\u001b[49m\u001b[43msession\u001b[49m\u001b[43m,\u001b[49m\n\u001b[32m    243\u001b[39m \u001b[43m    \u001b[49m\u001b[43mstatement_params\u001b[49m\u001b[43m=\u001b[49m\u001b[43mstatement_params\u001b[49m\u001b[43m,\u001b[49m\n\u001b[32m    244\u001b[39m \u001b[43m    \u001b[49m\u001b[43manonymous\u001b[49m\u001b[43m=\u001b[49m\u001b[43manonymous\u001b[49m\u001b[43m,\u001b[49m\n\u001b[32m    245\u001b[39m \u001b[43m\u001b[49m\u001b[43m)\u001b[49m\n\u001b[32m    246\u001b[39m \u001b[38;5;28;01mreturn\u001b[39;00m fit_wrapper_sproc\n",
      "\u001b[36mFile \u001b[39m\u001b[32mc:\\Users\\sssns\\AppData\\Local\\Programs\\Python\\Python311\\Lib\\site-packages\\snowflake\\snowpark\\_internal\\utils.py:1148\u001b[39m, in \u001b[36mpublicapi.<locals>.call_wrapper\u001b[39m\u001b[34m(*args, **kwargs)\u001b[39m\n\u001b[32m   1144\u001b[39m kwargs[\u001b[33m\"\u001b[39m\u001b[33m_emit_ast\u001b[39m\u001b[33m\"\u001b[39m] = is_ast_enabled()\n\u001b[32m   1146\u001b[39m \u001b[38;5;66;03m# TODO: Could modify internal docstring to display that users should not modify the _emit_ast parameter.\u001b[39;00m\n\u001b[32m-> \u001b[39m\u001b[32m1148\u001b[39m \u001b[38;5;28;01mreturn\u001b[39;00m \u001b[43mfunc\u001b[49m\u001b[43m(\u001b[49m\u001b[43m*\u001b[49m\u001b[43margs\u001b[49m\u001b[43m,\u001b[49m\u001b[43m \u001b[49m\u001b[43m*\u001b[49m\u001b[43m*\u001b[49m\u001b[43mkwargs\u001b[49m\u001b[43m)\u001b[49m\n",
      "\u001b[36mFile \u001b[39m\u001b[32mc:\\Users\\sssns\\AppData\\Local\\Programs\\Python\\Python311\\Lib\\site-packages\\snowflake\\snowpark\\stored_procedure.py:622\u001b[39m, in \u001b[36mStoredProcedureRegistration.register\u001b[39m\u001b[34m(self, func, return_type, input_types, name, is_permanent, stage_location, imports, packages, replace, if_not_exists, parallel, execute_as, strict, external_access_integrations, secrets, comment, copy_grants, artifact_repository, resource_constraint, statement_params, source_code_display, _emit_ast, **kwargs)\u001b[39m\n\u001b[32m    617\u001b[39m check_register_args(\n\u001b[32m    618\u001b[39m     TempObjectType.PROCEDURE, name, is_permanent, stage_location, parallel\n\u001b[32m    619\u001b[39m )\n\u001b[32m    621\u001b[39m \u001b[38;5;66;03m# register stored procedure\u001b[39;00m\n\u001b[32m--> \u001b[39m\u001b[32m622\u001b[39m \u001b[38;5;28;01mreturn\u001b[39;00m \u001b[38;5;28;43mself\u001b[39;49m\u001b[43m.\u001b[49m\u001b[43m_do_register_sp\u001b[49m\u001b[43m(\u001b[49m\n\u001b[32m    623\u001b[39m \u001b[43m    \u001b[49m\u001b[43mfunc\u001b[49m\u001b[43m,\u001b[49m\n\u001b[32m    624\u001b[39m \u001b[43m    \u001b[49m\u001b[43mreturn_type\u001b[49m\u001b[43m,\u001b[49m\n\u001b[32m    625\u001b[39m \u001b[43m    \u001b[49m\u001b[43minput_types\u001b[49m\u001b[43m,\u001b[49m\n\u001b[32m    626\u001b[39m \u001b[43m    \u001b[49m\u001b[43mname\u001b[49m\u001b[43m,\u001b[49m\n\u001b[32m    627\u001b[39m \u001b[43m    \u001b[49m\u001b[43mstage_location\u001b[49m\u001b[43m,\u001b[49m\n\u001b[32m    628\u001b[39m \u001b[43m    \u001b[49m\u001b[43mimports\u001b[49m\u001b[43m,\u001b[49m\n\u001b[32m    629\u001b[39m \u001b[43m    \u001b[49m\u001b[43mpackages\u001b[49m\u001b[43m,\u001b[49m\n\u001b[32m    630\u001b[39m \u001b[43m    \u001b[49m\u001b[43mreplace\u001b[49m\u001b[43m,\u001b[49m\n\u001b[32m    631\u001b[39m \u001b[43m    \u001b[49m\u001b[43mif_not_exists\u001b[49m\u001b[43m,\u001b[49m\n\u001b[32m    632\u001b[39m \u001b[43m    \u001b[49m\u001b[43mparallel\u001b[49m\u001b[43m,\u001b[49m\n\u001b[32m    633\u001b[39m \u001b[43m    \u001b[49m\u001b[43mstrict\u001b[49m\u001b[43m,\u001b[49m\n\u001b[32m    634\u001b[39m \u001b[43m    \u001b[49m\u001b[43mexternal_access_integrations\u001b[49m\u001b[43m=\u001b[49m\u001b[43mexternal_access_integrations\u001b[49m\u001b[43m,\u001b[49m\n\u001b[32m    635\u001b[39m \u001b[43m    \u001b[49m\u001b[43msecrets\u001b[49m\u001b[43m=\u001b[49m\u001b[43msecrets\u001b[49m\u001b[43m,\u001b[49m\n\u001b[32m    636\u001b[39m \u001b[43m    \u001b[49m\u001b[43mcomment\u001b[49m\u001b[43m=\u001b[49m\u001b[43mcomment\u001b[49m\u001b[43m,\u001b[49m\n\u001b[32m    637\u001b[39m \u001b[43m    \u001b[49m\u001b[43mcopy_grants\u001b[49m\u001b[43m=\u001b[49m\u001b[43mcopy_grants\u001b[49m\u001b[43m,\u001b[49m\n\u001b[32m    638\u001b[39m \u001b[43m    \u001b[49m\u001b[43mstatement_params\u001b[49m\u001b[43m=\u001b[49m\u001b[43mstatement_params\u001b[49m\u001b[43m,\u001b[49m\n\u001b[32m    639\u001b[39m \u001b[43m    \u001b[49m\u001b[43mexecute_as\u001b[49m\u001b[43m=\u001b[49m\u001b[43mexecute_as\u001b[49m\u001b[43m,\u001b[49m\n\u001b[32m    640\u001b[39m \u001b[43m    \u001b[49m\u001b[43mapi_call_source\u001b[49m\u001b[43m=\u001b[49m\u001b[33;43m\"\u001b[39;49m\u001b[33;43mStoredProcedureRegistration.register\u001b[39;49m\u001b[33;43m\"\u001b[39;49m\u001b[43m,\u001b[49m\n\u001b[32m    641\u001b[39m \u001b[43m    \u001b[49m\u001b[43msource_code_display\u001b[49m\u001b[43m=\u001b[49m\u001b[43msource_code_display\u001b[49m\u001b[43m,\u001b[49m\n\u001b[32m    642\u001b[39m \u001b[43m    \u001b[49m\u001b[43manonymous\u001b[49m\u001b[43m=\u001b[49m\u001b[43mkwargs\u001b[49m\u001b[43m.\u001b[49m\u001b[43mpop\u001b[49m\u001b[43m(\u001b[49m\u001b[33;43m\"\u001b[39;49m\u001b[33;43manonymous\u001b[39;49m\u001b[33;43m\"\u001b[39;49m\u001b[43m,\u001b[49m\u001b[43m \u001b[49m\u001b[38;5;28;43;01mFalse\u001b[39;49;00m\u001b[43m)\u001b[49m\u001b[43m,\u001b[49m\n\u001b[32m    643\u001b[39m \u001b[43m    \u001b[49m\u001b[43mis_permanent\u001b[49m\u001b[43m=\u001b[49m\u001b[43mis_permanent\u001b[49m\u001b[43m,\u001b[49m\n\u001b[32m    644\u001b[39m \u001b[43m    \u001b[49m\u001b[38;5;66;43;03m# force_inline_code avoids uploading python file\u001b[39;49;00m\n\u001b[32m    645\u001b[39m \u001b[43m    \u001b[49m\u001b[38;5;66;43;03m# when we know the code is not too large. This is useful\u001b[39;49;00m\n\u001b[32m    646\u001b[39m \u001b[43m    \u001b[49m\u001b[38;5;66;43;03m# in pandas API to create stored procedures not registered by users.\u001b[39;49;00m\n\u001b[32m    647\u001b[39m \u001b[43m    \u001b[49m\u001b[43mforce_inline_code\u001b[49m\u001b[43m=\u001b[49m\u001b[43mkwargs\u001b[49m\u001b[43m.\u001b[49m\u001b[43mpop\u001b[49m\u001b[43m(\u001b[49m\u001b[33;43m\"\u001b[39;49m\u001b[33;43mforce_inline_code\u001b[39;49m\u001b[33;43m\"\u001b[39;49m\u001b[43m,\u001b[49m\u001b[43m \u001b[49m\u001b[38;5;28;43;01mFalse\u001b[39;49;00m\u001b[43m)\u001b[49m\u001b[43m,\u001b[49m\n\u001b[32m    648\u001b[39m \u001b[43m    \u001b[49m\u001b[43mnative_app_params\u001b[49m\u001b[43m=\u001b[49m\u001b[43mkwargs\u001b[49m\u001b[43m.\u001b[49m\u001b[43mpop\u001b[49m\u001b[43m(\u001b[49m\u001b[33;43m\"\u001b[39;49m\u001b[33;43mnative_app_params\u001b[39;49m\u001b[33;43m\"\u001b[39;49m\u001b[43m,\u001b[49m\u001b[43m \u001b[49m\u001b[38;5;28;43;01mNone\u001b[39;49;00m\u001b[43m)\u001b[49m\u001b[43m,\u001b[49m\n\u001b[32m    649\u001b[39m \u001b[43m    \u001b[49m\u001b[43martifact_repository\u001b[49m\u001b[43m=\u001b[49m\u001b[43martifact_repository\u001b[49m\u001b[43m,\u001b[49m\n\u001b[32m    650\u001b[39m \u001b[43m    \u001b[49m\u001b[43mresource_constraint\u001b[49m\u001b[43m=\u001b[49m\u001b[43mresource_constraint\u001b[49m\u001b[43m,\u001b[49m\n\u001b[32m    651\u001b[39m \u001b[43m    \u001b[49m\u001b[43m_emit_ast\u001b[49m\u001b[43m=\u001b[49m\u001b[43m_emit_ast\u001b[49m\u001b[43m,\u001b[49m\n\u001b[32m    652\u001b[39m \u001b[43m    \u001b[49m\u001b[43m*\u001b[49m\u001b[43m*\u001b[49m\u001b[43mkwargs\u001b[49m\u001b[43m,\u001b[49m\n\u001b[32m    653\u001b[39m \u001b[43m\u001b[49m\u001b[43m)\u001b[49m\n",
      "\u001b[36mFile \u001b[39m\u001b[32mc:\\Users\\sssns\\AppData\\Local\\Programs\\Python\\Python311\\Lib\\site-packages\\snowflake\\snowpark\\stored_procedure.py:1030\u001b[39m, in \u001b[36mStoredProcedureRegistration._do_register_sp\u001b[39m\u001b[34m(self, func, return_type, input_types, sp_name, stage_location, imports, packages, replace, if_not_exists, parallel, strict, source_code_display, statement_params, execute_as, anonymous, api_call_source, skip_upload_on_content_match, is_permanent, external_access_integrations, secrets, force_inline_code, comment, native_app_params, copy_grants, artifact_repository, resource_constraint, _emit_ast, **kwargs)\u001b[39m\n\u001b[32m   1026\u001b[39m     tb = sys.exc_info()[\u001b[32m2\u001b[39m]\n\u001b[32m   1027\u001b[39m     ne = SnowparkClientExceptionMessages.SQL_EXCEPTION_FROM_PROGRAMMING_ERROR(\n\u001b[32m   1028\u001b[39m         pe\n\u001b[32m   1029\u001b[39m     )\n\u001b[32m-> \u001b[39m\u001b[32m1030\u001b[39m     \u001b[38;5;28;01mraise\u001b[39;00m ne.with_traceback(tb) \u001b[38;5;28;01mfrom\u001b[39;00m\u001b[38;5;250m \u001b[39m\u001b[38;5;28;01mNone\u001b[39;00m\n\u001b[32m   1031\u001b[39m \u001b[38;5;28;01mexcept\u001b[39;00m \u001b[38;5;167;01mBaseException\u001b[39;00m:\n\u001b[32m   1032\u001b[39m     raised = \u001b[38;5;28;01mTrue\u001b[39;00m\n",
      "\u001b[36mFile \u001b[39m\u001b[32mc:\\Users\\sssns\\AppData\\Local\\Programs\\Python\\Python311\\Lib\\site-packages\\snowflake\\snowpark\\stored_procedure.py:990\u001b[39m, in \u001b[36mStoredProcedureRegistration._do_register_sp\u001b[39m\u001b[34m(self, func, return_type, input_types, sp_name, stage_location, imports, packages, replace, if_not_exists, parallel, strict, source_code_display, statement_params, execute_as, anonymous, api_call_source, skip_upload_on_content_match, is_permanent, external_access_integrations, secrets, force_inline_code, comment, native_app_params, copy_grants, artifact_repository, resource_constraint, _emit_ast, **kwargs)\u001b[39m\n\u001b[32m    988\u001b[39m raised = \u001b[38;5;28;01mFalse\u001b[39;00m\n\u001b[32m    989\u001b[39m \u001b[38;5;28;01mtry\u001b[39;00m:\n\u001b[32m--> \u001b[39m\u001b[32m990\u001b[39m     \u001b[43mcreate_python_udf_or_sp\u001b[49m\u001b[43m(\u001b[49m\n\u001b[32m    991\u001b[39m \u001b[43m        \u001b[49m\u001b[43msession\u001b[49m\u001b[43m=\u001b[49m\u001b[38;5;28;43mself\u001b[39;49m\u001b[43m.\u001b[49m\u001b[43m_session\u001b[49m\u001b[43m,\u001b[49m\n\u001b[32m    992\u001b[39m \u001b[43m        \u001b[49m\u001b[43mfunc\u001b[49m\u001b[43m=\u001b[49m\u001b[43mfunc\u001b[49m\u001b[43m,\u001b[49m\n\u001b[32m    993\u001b[39m \u001b[43m        \u001b[49m\u001b[43mreturn_type\u001b[49m\u001b[43m=\u001b[49m\u001b[43mreturn_type\u001b[49m\u001b[43m,\u001b[49m\n\u001b[32m    994\u001b[39m \u001b[43m        \u001b[49m\u001b[43minput_args\u001b[49m\u001b[43m=\u001b[49m\u001b[43minput_args\u001b[49m\u001b[43m,\u001b[49m\n\u001b[32m    995\u001b[39m \u001b[43m        \u001b[49m\u001b[43mopt_arg_defaults\u001b[49m\u001b[43m=\u001b[49m\u001b[43mopt_arg_defaults\u001b[49m\u001b[43m,\u001b[49m\n\u001b[32m    996\u001b[39m \u001b[43m        \u001b[49m\u001b[43mhandler\u001b[49m\u001b[43m=\u001b[49m\u001b[43mhandler\u001b[49m\u001b[43m,\u001b[49m\n\u001b[32m    997\u001b[39m \u001b[43m        \u001b[49m\u001b[43mobject_type\u001b[49m\u001b[43m=\u001b[49m\u001b[43mTempObjectType\u001b[49m\u001b[43m.\u001b[49m\u001b[43mPROCEDURE\u001b[49m\u001b[43m,\u001b[49m\n\u001b[32m    998\u001b[39m \u001b[43m        \u001b[49m\u001b[43mobject_name\u001b[49m\u001b[43m=\u001b[49m\u001b[43msproc_name\u001b[49m\u001b[43m,\u001b[49m\n\u001b[32m    999\u001b[39m \u001b[43m        \u001b[49m\u001b[43mall_imports\u001b[49m\u001b[43m=\u001b[49m\u001b[43mall_imports\u001b[49m\u001b[43m,\u001b[49m\n\u001b[32m   1000\u001b[39m \u001b[43m        \u001b[49m\u001b[43mall_packages\u001b[49m\u001b[43m=\u001b[49m\u001b[43mall_packages\u001b[49m\u001b[43m,\u001b[49m\n\u001b[32m   1001\u001b[39m \u001b[43m        \u001b[49m\u001b[43mraw_imports\u001b[49m\u001b[43m=\u001b[49m\u001b[43mimports\u001b[49m\u001b[43m,\u001b[49m\n\u001b[32m   1002\u001b[39m \u001b[43m        \u001b[49m\u001b[43mregistration_type\u001b[49m\u001b[43m=\u001b[49m\u001b[43mRegistrationType\u001b[49m\u001b[43m.\u001b[49m\u001b[43mSPROC\u001b[49m\u001b[43m,\u001b[49m\n\u001b[32m   1003\u001b[39m \u001b[43m        \u001b[49m\u001b[43mis_permanent\u001b[49m\u001b[43m=\u001b[49m\u001b[43mis_permanent\u001b[49m\u001b[43m,\u001b[49m\n\u001b[32m   1004\u001b[39m \u001b[43m        \u001b[49m\u001b[43mreplace\u001b[49m\u001b[43m=\u001b[49m\u001b[43mreplace\u001b[49m\u001b[43m,\u001b[49m\n\u001b[32m   1005\u001b[39m \u001b[43m        \u001b[49m\u001b[43mif_not_exists\u001b[49m\u001b[43m=\u001b[49m\u001b[43mif_not_exists\u001b[49m\u001b[43m,\u001b[49m\n\u001b[32m   1006\u001b[39m \u001b[43m        \u001b[49m\u001b[43minline_python_code\u001b[49m\u001b[43m=\u001b[49m\u001b[43mcode\u001b[49m\u001b[43m,\u001b[49m\n\u001b[32m   1007\u001b[39m \u001b[43m        \u001b[49m\u001b[43mexecute_as\u001b[49m\u001b[43m=\u001b[49m\u001b[43mexecute_as\u001b[49m\u001b[43m,\u001b[49m\n\u001b[32m   1008\u001b[39m \u001b[43m        \u001b[49m\u001b[43mapi_call_source\u001b[49m\u001b[43m=\u001b[49m\u001b[43mapi_call_source\u001b[49m\u001b[43m,\u001b[49m\n\u001b[32m   1009\u001b[39m \u001b[43m        \u001b[49m\u001b[43mstrict\u001b[49m\u001b[43m=\u001b[49m\u001b[43mstrict\u001b[49m\u001b[43m,\u001b[49m\n\u001b[32m   1010\u001b[39m \u001b[43m        \u001b[49m\u001b[43mexternal_access_integrations\u001b[49m\u001b[43m=\u001b[49m\u001b[43mexternal_access_integrations\u001b[49m\u001b[43m,\u001b[49m\n\u001b[32m   1011\u001b[39m \u001b[43m        \u001b[49m\u001b[43msecrets\u001b[49m\u001b[43m=\u001b[49m\u001b[43msecrets\u001b[49m\u001b[43m,\u001b[49m\n\u001b[32m   1012\u001b[39m \u001b[43m        \u001b[49m\u001b[43mstatement_params\u001b[49m\u001b[43m=\u001b[49m\u001b[43mstatement_params\u001b[49m\u001b[43m,\u001b[49m\n\u001b[32m   1013\u001b[39m \u001b[43m        \u001b[49m\u001b[43mcomment\u001b[49m\u001b[43m=\u001b[49m\u001b[43mcomment\u001b[49m\u001b[43m,\u001b[49m\n\u001b[32m   1014\u001b[39m \u001b[43m        \u001b[49m\u001b[43mnative_app_params\u001b[49m\u001b[43m=\u001b[49m\u001b[43mnative_app_params\u001b[49m\u001b[43m,\u001b[49m\n\u001b[32m   1015\u001b[39m \u001b[43m        \u001b[49m\u001b[43mcopy_grants\u001b[49m\u001b[43m=\u001b[49m\u001b[43mcopy_grants\u001b[49m\u001b[43m,\u001b[49m\n\u001b[32m   1016\u001b[39m \u001b[43m        \u001b[49m\u001b[43mruntime_version\u001b[49m\u001b[43m=\u001b[49m\u001b[43mruntime_version_from_requirement\u001b[49m\u001b[43m,\u001b[49m\n\u001b[32m   1017\u001b[39m \u001b[43m        \u001b[49m\u001b[43martifact_repository\u001b[49m\u001b[43m=\u001b[49m\u001b[43martifact_repository\u001b[49m\u001b[43m,\u001b[49m\n\u001b[32m   1018\u001b[39m \u001b[43m        \u001b[49m\u001b[43mresource_constraint\u001b[49m\u001b[43m=\u001b[49m\u001b[43mresource_constraint\u001b[49m\u001b[43m,\u001b[49m\n\u001b[32m   1019\u001b[39m \u001b[43m    \u001b[49m\u001b[43m)\u001b[49m\n\u001b[32m   1020\u001b[39m \u001b[38;5;66;03m# an exception might happen during registering a stored procedure\u001b[39;00m\n\u001b[32m   1021\u001b[39m \u001b[38;5;66;03m# (e.g., a dependency might not be found on the stage),\u001b[39;00m\n\u001b[32m   1022\u001b[39m \u001b[38;5;66;03m# then for a permanent stored procedure, we should delete the uploaded\u001b[39;00m\n\u001b[32m   1023\u001b[39m \u001b[38;5;66;03m# python file and raise the exception\u001b[39;00m\n\u001b[32m   1024\u001b[39m \u001b[38;5;28;01mexcept\u001b[39;00m ProgrammingError \u001b[38;5;28;01mas\u001b[39;00m pe:\n",
      "\u001b[36mFile \u001b[39m\u001b[32mc:\\Users\\sssns\\AppData\\Local\\Programs\\Python\\Python311\\Lib\\site-packages\\snowflake\\snowpark\\_internal\\udf_utils.py:1482\u001b[39m, in \u001b[36mcreate_python_udf_or_sp\u001b[39m\u001b[34m(session, func, return_type, input_args, opt_arg_defaults, handler, object_type, object_name, all_imports, all_packages, is_permanent, replace, if_not_exists, raw_imports, registration_type, inline_python_code, execute_as, api_call_source, strict, secure, external_access_integrations, secrets, immutable, statement_params, comment, native_app_params, copy_grants, runtime_version, artifact_repository, resource_constraint)\u001b[39m\n\u001b[32m   1463\u001b[39m         \u001b[38;5;28;01mreturn\u001b[39;00m\n\u001b[32m   1465\u001b[39m     create_query = \u001b[33mf\u001b[39m\u001b[33m\"\"\"\u001b[39m\n\u001b[32m   1466\u001b[39m \u001b[33mCREATE\u001b[39m\u001b[38;5;132;01m{\u001b[39;00m\u001b[33m\"\u001b[39m\u001b[33m OR REPLACE \u001b[39m\u001b[33m\"\u001b[39m\u001b[38;5;250m \u001b[39m\u001b[38;5;28;01mif\u001b[39;00m\u001b[38;5;250m \u001b[39mreplace\u001b[38;5;250m \u001b[39m\u001b[38;5;28;01melse\u001b[39;00m\u001b[38;5;250m \u001b[39m\u001b[33m\"\u001b[39m\u001b[33m\"\u001b[39m\u001b[38;5;132;01m}\u001b[39;00m\n\u001b[32m   1467\u001b[39m \u001b[38;5;132;01m{\u001b[39;00m\u001b[33m\"\u001b[39m\u001b[33m\"\u001b[39m\u001b[38;5;250m \u001b[39m\u001b[38;5;28;01mif\u001b[39;00m\u001b[38;5;250m \u001b[39mis_permanent\u001b[38;5;250m \u001b[39m\u001b[38;5;28;01melse\u001b[39;00m\u001b[38;5;250m \u001b[39m\u001b[33m\"\u001b[39m\u001b[33mTEMPORARY\u001b[39m\u001b[33m\"\u001b[39m\u001b[38;5;132;01m}\u001b[39;00m\u001b[33m \u001b[39m\u001b[38;5;132;01m{\u001b[39;00m\u001b[33m\"\u001b[39m\u001b[33mSECURE\u001b[39m\u001b[33m\"\u001b[39m\u001b[38;5;250m \u001b[39m\u001b[38;5;28;01mif\u001b[39;00m\u001b[38;5;250m \u001b[39msecure\u001b[38;5;250m \u001b[39m\u001b[38;5;28;01melse\u001b[39;00m\u001b[38;5;250m \u001b[39m\u001b[33m\"\u001b[39m\u001b[33m\"\u001b[39m\u001b[38;5;132;01m}\u001b[39;00m\u001b[33m \u001b[39m\u001b[38;5;132;01m{\u001b[39;00mobject_type.value.replace(\u001b[33m\"\u001b[39m\u001b[33m_\u001b[39m\u001b[33m\"\u001b[39m,\u001b[38;5;250m \u001b[39m\u001b[33m\"\u001b[39m\u001b[33m \u001b[39m\u001b[33m\"\u001b[39m)\u001b[38;5;132;01m}\u001b[39;00m\u001b[33m \u001b[39m\u001b[38;5;132;01m{\u001b[39;00m\u001b[33m\"\u001b[39m\u001b[33mIF NOT EXISTS\u001b[39m\u001b[33m\"\u001b[39m\u001b[38;5;250m \u001b[39m\u001b[38;5;28;01mif\u001b[39;00m\u001b[38;5;250m \u001b[39mif_not_exists\u001b[38;5;250m \u001b[39m\u001b[38;5;28;01melse\u001b[39;00m\u001b[38;5;250m \u001b[39m\u001b[33m\"\u001b[39m\u001b[33m\"\u001b[39m\u001b[38;5;132;01m}\u001b[39;00m\u001b[33m \u001b[39m\u001b[38;5;132;01m{\u001b[39;00mobject_name\u001b[38;5;132;01m}\u001b[39;00m\u001b[33m(\u001b[39m\u001b[38;5;132;01m{\u001b[39;00msql_func_args\u001b[38;5;132;01m}\u001b[39;00m\u001b[33m)\u001b[39m\n\u001b[32m   (...)\u001b[39m\u001b[32m   1480\u001b[39m \u001b[38;5;132;01m{\u001b[39;00minline_python_code_in_sql\u001b[38;5;132;01m}\u001b[39;00m\n\u001b[32m   1481\u001b[39m \u001b[33m\"\"\"\u001b[39m\n\u001b[32m-> \u001b[39m\u001b[32m1482\u001b[39m     \u001b[43msession\u001b[49m\u001b[43m.\u001b[49m\u001b[43m_run_query\u001b[49m\u001b[43m(\u001b[49m\n\u001b[32m   1483\u001b[39m \u001b[43m        \u001b[49m\u001b[43mcreate_query\u001b[49m\u001b[43m,\u001b[49m\n\u001b[32m   1484\u001b[39m \u001b[43m        \u001b[49m\u001b[43mis_ddl_on_temp_object\u001b[49m\u001b[43m=\u001b[49m\u001b[38;5;129;43;01mnot\u001b[39;49;00m\u001b[43m \u001b[49m\u001b[43mis_permanent\u001b[49m\u001b[43m,\u001b[49m\n\u001b[32m   1485\u001b[39m \u001b[43m        \u001b[49m\u001b[43mstatement_params\u001b[49m\u001b[43m=\u001b[49m\u001b[43mstatement_params\u001b[49m\u001b[43m,\u001b[49m\n\u001b[32m   1486\u001b[39m \u001b[43m    \u001b[49m\u001b[43m)\u001b[49m\n\u001b[32m   1488\u001b[39m     \u001b[38;5;28;01mif\u001b[39;00m comment \u001b[38;5;129;01mis\u001b[39;00m \u001b[38;5;129;01mnot\u001b[39;00m \u001b[38;5;28;01mNone\u001b[39;00m:\n\u001b[32m   1489\u001b[39m         object_signature_sql = \u001b[33mf\u001b[39m\u001b[33m\"\u001b[39m\u001b[38;5;132;01m{\u001b[39;00mobject_name\u001b[38;5;132;01m}\u001b[39;00m\u001b[33m(\u001b[39m\u001b[38;5;132;01m{\u001b[39;00m\u001b[33m'\u001b[39m\u001b[33m,\u001b[39m\u001b[33m'\u001b[39m.join(input_sql_types)\u001b[38;5;132;01m}\u001b[39;00m\u001b[33m)\u001b[39m\u001b[33m\"\u001b[39m\n",
      "\u001b[36mFile \u001b[39m\u001b[32mc:\\Users\\sssns\\AppData\\Local\\Programs\\Python\\Python311\\Lib\\site-packages\\snowflake\\snowpark\\session.py:2977\u001b[39m, in \u001b[36mSession._run_query\u001b[39m\u001b[34m(self, query, is_ddl_on_temp_object, log_on_exception, statement_params)\u001b[39m\n\u001b[32m   2970\u001b[39m \u001b[38;5;28;01mdef\u001b[39;00m\u001b[38;5;250m \u001b[39m\u001b[34m_run_query\u001b[39m(\n\u001b[32m   2971\u001b[39m     \u001b[38;5;28mself\u001b[39m,\n\u001b[32m   2972\u001b[39m     query: \u001b[38;5;28mstr\u001b[39m,\n\u001b[32m   (...)\u001b[39m\u001b[32m   2975\u001b[39m     statement_params: Optional[Dict[\u001b[38;5;28mstr\u001b[39m, \u001b[38;5;28mstr\u001b[39m]] = \u001b[38;5;28;01mNone\u001b[39;00m,\n\u001b[32m   2976\u001b[39m ) -> List[Any]:\n\u001b[32m-> \u001b[39m\u001b[32m2977\u001b[39m     \u001b[38;5;28;01mreturn\u001b[39;00m \u001b[38;5;28;43mself\u001b[39;49m\u001b[43m.\u001b[49m\u001b[43m_conn\u001b[49m\u001b[43m.\u001b[49m\u001b[43mrun_query\u001b[49m\u001b[43m(\u001b[49m\n\u001b[32m   2978\u001b[39m \u001b[43m        \u001b[49m\u001b[43mquery\u001b[49m\u001b[43m,\u001b[49m\n\u001b[32m   2979\u001b[39m \u001b[43m        \u001b[49m\u001b[43mis_ddl_on_temp_object\u001b[49m\u001b[43m=\u001b[49m\u001b[43mis_ddl_on_temp_object\u001b[49m\u001b[43m,\u001b[49m\n\u001b[32m   2980\u001b[39m \u001b[43m        \u001b[49m\u001b[43mlog_on_exception\u001b[49m\u001b[43m=\u001b[49m\u001b[43mlog_on_exception\u001b[49m\u001b[43m,\u001b[49m\n\u001b[32m   2981\u001b[39m \u001b[43m        \u001b[49m\u001b[43m_statement_params\u001b[49m\u001b[43m=\u001b[49m\u001b[43mstatement_params\u001b[49m\u001b[43m,\u001b[49m\n\u001b[32m   2982\u001b[39m \u001b[43m    \u001b[49m\u001b[43m)\u001b[49m[\u001b[33m\"\u001b[39m\u001b[33mdata\u001b[39m\u001b[33m\"\u001b[39m]\n",
      "\u001b[36mFile \u001b[39m\u001b[32mc:\\Users\\sssns\\AppData\\Local\\Programs\\Python\\Python311\\Lib\\site-packages\\snowflake\\snowpark\\_internal\\server_connection.py:136\u001b[39m, in \u001b[36mServerConnection._Decorator.wrap_exception.<locals>.wrap\u001b[39m\u001b[34m(*args, **kwargs)\u001b[39m\n\u001b[32m    132\u001b[39m     \u001b[38;5;28;01mraise\u001b[39;00m SnowparkClientExceptionMessages.SERVER_SESSION_EXPIRED(\n\u001b[32m    133\u001b[39m         ex.cause\n\u001b[32m    134\u001b[39m     )\n\u001b[32m    135\u001b[39m \u001b[38;5;28;01mexcept\u001b[39;00m \u001b[38;5;167;01mException\u001b[39;00m \u001b[38;5;28;01mas\u001b[39;00m ex:\n\u001b[32m--> \u001b[39m\u001b[32m136\u001b[39m     \u001b[38;5;28;01mraise\u001b[39;00m ex\n",
      "\u001b[36mFile \u001b[39m\u001b[32mc:\\Users\\sssns\\AppData\\Local\\Programs\\Python\\Python311\\Lib\\site-packages\\snowflake\\snowpark\\_internal\\server_connection.py:130\u001b[39m, in \u001b[36mServerConnection._Decorator.wrap_exception.<locals>.wrap\u001b[39m\u001b[34m(*args, **kwargs)\u001b[39m\n\u001b[32m    128\u001b[39m     \u001b[38;5;28;01mraise\u001b[39;00m SnowparkClientExceptionMessages.SERVER_SESSION_HAS_BEEN_CLOSED()\n\u001b[32m    129\u001b[39m \u001b[38;5;28;01mtry\u001b[39;00m:\n\u001b[32m--> \u001b[39m\u001b[32m130\u001b[39m     \u001b[38;5;28;01mreturn\u001b[39;00m \u001b[43mfunc\u001b[49m\u001b[43m(\u001b[49m\u001b[43m*\u001b[49m\u001b[43margs\u001b[49m\u001b[43m,\u001b[49m\u001b[43m \u001b[49m\u001b[43m*\u001b[49m\u001b[43m*\u001b[49m\u001b[43mkwargs\u001b[49m\u001b[43m)\u001b[49m\n\u001b[32m    131\u001b[39m \u001b[38;5;28;01mexcept\u001b[39;00m ReauthenticationRequest \u001b[38;5;28;01mas\u001b[39;00m ex:\n\u001b[32m    132\u001b[39m     \u001b[38;5;28;01mraise\u001b[39;00m SnowparkClientExceptionMessages.SERVER_SESSION_EXPIRED(\n\u001b[32m    133\u001b[39m         ex.cause\n\u001b[32m    134\u001b[39m     )\n",
      "\u001b[36mFile \u001b[39m\u001b[32mc:\\Users\\sssns\\AppData\\Local\\Programs\\Python\\Python311\\Lib\\site-packages\\snowflake\\snowpark\\_internal\\server_connection.py:536\u001b[39m, in \u001b[36mServerConnection.run_query\u001b[39m\u001b[34m(self, query, to_pandas, to_iter, is_ddl_on_temp_object, block, data_type, async_job_plan, log_on_exception, case_sensitive, params, num_statements, ignore_results, async_post_actions, to_arrow, **kwargs)\u001b[39m\n\u001b[32m    534\u001b[39m         query_id_log = \u001b[33mf\u001b[39m\u001b[33m\"\u001b[39m\u001b[33m [queryID: \u001b[39m\u001b[38;5;132;01m{\u001b[39;00mex.sfqid\u001b[38;5;132;01m}\u001b[39;00m\u001b[33m]\u001b[39m\u001b[33m\"\u001b[39m \u001b[38;5;28;01mif\u001b[39;00m \u001b[38;5;28mhasattr\u001b[39m(ex, \u001b[33m\"\u001b[39m\u001b[33msfqid\u001b[39m\u001b[33m\"\u001b[39m) \u001b[38;5;28;01melse\u001b[39;00m \u001b[33m\"\u001b[39m\u001b[33m\"\u001b[39m\n\u001b[32m    535\u001b[39m         logger.error(\u001b[33mf\u001b[39m\u001b[33m\"\u001b[39m\u001b[33mFailed to execute query\u001b[39m\u001b[38;5;132;01m{\u001b[39;00mquery_id_log\u001b[38;5;132;01m}\u001b[39;00m\u001b[33m \u001b[39m\u001b[38;5;132;01m{\u001b[39;00mquery\u001b[38;5;132;01m}\u001b[39;00m\u001b[38;5;130;01m\\n\u001b[39;00m\u001b[38;5;132;01m{\u001b[39;00mex\u001b[38;5;132;01m}\u001b[39;00m\u001b[33m\"\u001b[39m)\n\u001b[32m--> \u001b[39m\u001b[32m536\u001b[39m     \u001b[38;5;28;01mraise\u001b[39;00m ex\n\u001b[32m    538\u001b[39m \u001b[38;5;66;03m# fetch_pandas_all/batches() only works for SELECT statements\u001b[39;00m\n\u001b[32m    539\u001b[39m \u001b[38;5;66;03m# We call fetchall() if fetch_pandas_all/batches() fails,\u001b[39;00m\n\u001b[32m    540\u001b[39m \u001b[38;5;66;03m# because when the query plan has multiple queries, it will\u001b[39;00m\n\u001b[32m    541\u001b[39m \u001b[38;5;66;03m# have non-select statements, and it shouldn't fail if the user\u001b[39;00m\n\u001b[32m    542\u001b[39m \u001b[38;5;66;03m# calls to_pandas() to execute the query.\u001b[39;00m\n\u001b[32m    543\u001b[39m \u001b[38;5;28;01mif\u001b[39;00m block:\n",
      "\u001b[36mFile \u001b[39m\u001b[32mc:\\Users\\sssns\\AppData\\Local\\Programs\\Python\\Python311\\Lib\\site-packages\\snowflake\\snowpark\\_internal\\server_connection.py:521\u001b[39m, in \u001b[36mServerConnection.run_query\u001b[39m\u001b[34m(self, query, to_pandas, to_iter, is_ddl_on_temp_object, block, data_type, async_job_plan, log_on_exception, case_sensitive, params, num_statements, ignore_results, async_post_actions, to_arrow, **kwargs)\u001b[39m\n\u001b[32m    519\u001b[39m     cached_analyze_attributes.clear_cache()\n\u001b[32m    520\u001b[39m \u001b[38;5;28;01mif\u001b[39;00m block:\n\u001b[32m--> \u001b[39m\u001b[32m521\u001b[39m     results_cursor = \u001b[38;5;28;43mself\u001b[39;49m\u001b[43m.\u001b[49m\u001b[43mexecute_and_notify_query_listener\u001b[49m\u001b[43m(\u001b[49m\n\u001b[32m    522\u001b[39m \u001b[43m        \u001b[49m\u001b[43mquery\u001b[49m\u001b[43m,\u001b[49m\u001b[43m \u001b[49m\u001b[43mparams\u001b[49m\u001b[43m=\u001b[49m\u001b[43mparams\u001b[49m\u001b[43m,\u001b[49m\u001b[43m \u001b[49m\u001b[43m*\u001b[49m\u001b[43m*\u001b[49m\u001b[43mkwargs\u001b[49m\n\u001b[32m    523\u001b[39m \u001b[43m    \u001b[49m\u001b[43m)\u001b[49m\n\u001b[32m    524\u001b[39m     logger.debug(\u001b[33mf\u001b[39m\u001b[33m\"\u001b[39m\u001b[33mExecute query [queryID: \u001b[39m\u001b[38;5;132;01m{\u001b[39;00mresults_cursor.sfqid\u001b[38;5;132;01m}\u001b[39;00m\u001b[33m] \u001b[39m\u001b[38;5;132;01m{\u001b[39;00mquery\u001b[38;5;132;01m}\u001b[39;00m\u001b[33m\"\u001b[39m)\n\u001b[32m    525\u001b[39m \u001b[38;5;28;01melse\u001b[39;00m:\n",
      "\u001b[36mFile \u001b[39m\u001b[32mc:\\Users\\sssns\\AppData\\Local\\Programs\\Python\\Python311\\Lib\\site-packages\\snowflake\\ml\\_internal\\telemetry.py:207\u001b[39m, in \u001b[36m_StatementParamsPatchManager._patch_with_statement_params.<locals>.wrapper\u001b[39m\u001b[34m(*args, **kwargs)\u001b[39m\n\u001b[32m    204\u001b[39m kwargs[param_name] = context_params\n\u001b[32m    206\u001b[39m \u001b[38;5;28;01mtry\u001b[39;00m:\n\u001b[32m--> \u001b[39m\u001b[32m207\u001b[39m     \u001b[38;5;28;01mreturn\u001b[39;00m \u001b[43mfunc\u001b[49m\u001b[43m(\u001b[49m\u001b[43m*\u001b[49m\u001b[43margs\u001b[49m\u001b[43m,\u001b[49m\u001b[43m \u001b[49m\u001b[43m*\u001b[49m\u001b[43m*\u001b[49m\u001b[43mkwargs\u001b[49m\u001b[43m)\u001b[49m\n\u001b[32m    208\u001b[39m \u001b[38;5;28;01mexcept\u001b[39;00m \u001b[38;5;167;01mTypeError\u001b[39;00m \u001b[38;5;28;01mas\u001b[39;00m e:\n\u001b[32m    209\u001b[39m     \u001b[38;5;28;01mif\u001b[39;00m \u001b[38;5;28mstr\u001b[39m(e).endswith(\u001b[33mf\u001b[39m\u001b[33m\"\u001b[39m\u001b[33munexpected keyword argument \u001b[39m\u001b[33m'\u001b[39m\u001b[38;5;132;01m{\u001b[39;00mparam_name\u001b[38;5;132;01m}\u001b[39;00m\u001b[33m'\u001b[39m\u001b[33m\"\u001b[39m):\n\u001b[32m    210\u001b[39m         \u001b[38;5;66;03m# TODO: Log warning that this patch is invalid\u001b[39;00m\n\u001b[32m    211\u001b[39m         \u001b[38;5;66;03m# Unwrap function for future invocations\u001b[39;00m\n",
      "\u001b[36mFile \u001b[39m\u001b[32mc:\\Users\\sssns\\AppData\\Local\\Programs\\Python\\Python311\\Lib\\site-packages\\snowflake\\snowpark\\_internal\\server_connection.py:451\u001b[39m, in \u001b[36mServerConnection.execute_and_notify_query_listener\u001b[39m\u001b[34m(self, query, **kwargs)\u001b[39m\n\u001b[32m    447\u001b[39m     err_query = ex.query \u001b[38;5;28;01mif\u001b[39;00m \u001b[38;5;28misinstance\u001b[39m(ex, Error) \u001b[38;5;28;01melse\u001b[39;00m query\n\u001b[32m    448\u001b[39m     \u001b[38;5;28mself\u001b[39m.notify_query_listeners(\n\u001b[32m    449\u001b[39m         QueryRecord(sfqid, err_query, \u001b[38;5;28;01mFalse\u001b[39;00m), is_error=\u001b[38;5;28;01mTrue\u001b[39;00m, **notify_kwargs\n\u001b[32m    450\u001b[39m     )\n\u001b[32m--> \u001b[39m\u001b[32m451\u001b[39m     \u001b[38;5;28;01mraise\u001b[39;00m ex\n\u001b[32m    453\u001b[39m notify_kwargs[\u001b[33m\"\u001b[39m\u001b[33mrequestId\u001b[39m\u001b[33m\"\u001b[39m] = \u001b[38;5;28mstr\u001b[39m(results_cursor._request_id)\n\u001b[32m    454\u001b[39m \u001b[38;5;28mself\u001b[39m.notify_query_listeners(\n\u001b[32m    455\u001b[39m     QueryRecord(results_cursor.sfqid, results_cursor.query), **notify_kwargs\n\u001b[32m    456\u001b[39m )\n",
      "\u001b[36mFile \u001b[39m\u001b[32mc:\\Users\\sssns\\AppData\\Local\\Programs\\Python\\Python311\\Lib\\site-packages\\snowflake\\snowpark\\_internal\\server_connection.py:442\u001b[39m, in \u001b[36mServerConnection.execute_and_notify_query_listener\u001b[39m\u001b[34m(self, query, **kwargs)\u001b[39m\n\u001b[32m    440\u001b[39m         notify_kwargs[\u001b[33m\"\u001b[39m\u001b[33mdataframe_uuid\u001b[39m\u001b[33m\"\u001b[39m] = statement_params[\u001b[33m\"\u001b[39m\u001b[33m_PLAN_UUID\u001b[39m\u001b[33m\"\u001b[39m]\n\u001b[32m    441\u001b[39m \u001b[38;5;28;01mtry\u001b[39;00m:\n\u001b[32m--> \u001b[39m\u001b[32m442\u001b[39m     results_cursor = \u001b[38;5;28;43mself\u001b[39;49m\u001b[43m.\u001b[49m\u001b[43m_cursor\u001b[49m\u001b[43m.\u001b[49m\u001b[43mexecute\u001b[49m\u001b[43m(\u001b[49m\u001b[43mquery\u001b[49m\u001b[43m,\u001b[49m\u001b[43m \u001b[49m\u001b[43m*\u001b[49m\u001b[43m*\u001b[49m\u001b[43mkwargs\u001b[49m\u001b[43m)\u001b[49m\n\u001b[32m    443\u001b[39m \u001b[38;5;28;01mexcept\u001b[39;00m \u001b[38;5;167;01mException\u001b[39;00m \u001b[38;5;28;01mas\u001b[39;00m ex:\n\u001b[32m    444\u001b[39m     notify_kwargs[\u001b[33m\"\u001b[39m\u001b[33mrequestId\u001b[39m\u001b[33m\"\u001b[39m] = \u001b[38;5;28;01mNone\u001b[39;00m\n",
      "\u001b[36mFile \u001b[39m\u001b[32mc:\\Users\\sssns\\AppData\\Local\\Programs\\Python\\Python311\\Lib\\site-packages\\snowflake\\connector\\cursor.py:1134\u001b[39m, in \u001b[36mSnowflakeCursor.execute\u001b[39m\u001b[34m(self, command, params, _bind_stage, timeout, _exec_async, _no_retry, _do_reset, _put_callback, _put_azure_callback, _put_callback_output_stream, _get_callback, _get_azure_callback, _get_callback_output_stream, _show_progress_bar, _statement_params, _is_internal, _describe_only, _no_results, _is_put_get, _raise_put_get_error, _force_put_overwrite, _skip_upload_on_content_match, file_stream, num_statements, _force_qmark_paramstyle, _dataframe_ast)\u001b[39m\n\u001b[32m   1130\u001b[39m     is_integrity_error = (\n\u001b[32m   1131\u001b[39m         code == \u001b[33m\"\u001b[39m\u001b[33m100072\u001b[39m\u001b[33m\"\u001b[39m\n\u001b[32m   1132\u001b[39m     )  \u001b[38;5;66;03m# NULL result in a non-nullable column\u001b[39;00m\n\u001b[32m   1133\u001b[39m     error_class = IntegrityError \u001b[38;5;28;01mif\u001b[39;00m is_integrity_error \u001b[38;5;28;01melse\u001b[39;00m ProgrammingError\n\u001b[32m-> \u001b[39m\u001b[32m1134\u001b[39m     \u001b[43mError\u001b[49m\u001b[43m.\u001b[49m\u001b[43merrorhandler_wrapper\u001b[49m\u001b[43m(\u001b[49m\u001b[38;5;28;43mself\u001b[39;49m\u001b[43m.\u001b[49m\u001b[43mconnection\u001b[49m\u001b[43m,\u001b[49m\u001b[43m \u001b[49m\u001b[38;5;28;43mself\u001b[39;49m\u001b[43m,\u001b[49m\u001b[43m \u001b[49m\u001b[43merror_class\u001b[49m\u001b[43m,\u001b[49m\u001b[43m \u001b[49m\u001b[43merrvalue\u001b[49m\u001b[43m)\u001b[49m\n\u001b[32m   1135\u001b[39m \u001b[38;5;28;01mreturn\u001b[39;00m \u001b[38;5;28mself\u001b[39m\n",
      "\u001b[36mFile \u001b[39m\u001b[32mc:\\Users\\sssns\\AppData\\Local\\Programs\\Python\\Python311\\Lib\\site-packages\\snowflake\\connector\\errors.py:286\u001b[39m, in \u001b[36mError.errorhandler_wrapper\u001b[39m\u001b[34m(connection, cursor, error_class, error_value)\u001b[39m\n\u001b[32m    263\u001b[39m \u001b[38;5;129m@staticmethod\u001b[39m\n\u001b[32m    264\u001b[39m \u001b[38;5;28;01mdef\u001b[39;00m\u001b[38;5;250m \u001b[39m\u001b[34merrorhandler_wrapper\u001b[39m(\n\u001b[32m    265\u001b[39m     connection: SnowflakeConnection | \u001b[38;5;28;01mNone\u001b[39;00m,\n\u001b[32m   (...)\u001b[39m\u001b[32m    268\u001b[39m     error_value: \u001b[38;5;28mdict\u001b[39m[\u001b[38;5;28mstr\u001b[39m, Any],\n\u001b[32m    269\u001b[39m ) -> \u001b[38;5;28;01mNone\u001b[39;00m:\n\u001b[32m    270\u001b[39m \u001b[38;5;250m    \u001b[39m\u001b[33;03m\"\"\"Error handler wrapper that calls the errorhandler method.\u001b[39;00m\n\u001b[32m    271\u001b[39m \n\u001b[32m    272\u001b[39m \u001b[33;03m    Args:\u001b[39;00m\n\u001b[32m   (...)\u001b[39m\u001b[32m    283\u001b[39m \u001b[33;03m        exception to the first handler in that order.\u001b[39;00m\n\u001b[32m    284\u001b[39m \u001b[33;03m    \"\"\"\u001b[39;00m\n\u001b[32m--> \u001b[39m\u001b[32m286\u001b[39m     handed_over = \u001b[43mError\u001b[49m\u001b[43m.\u001b[49m\u001b[43mhand_to_other_handler\u001b[49m\u001b[43m(\u001b[49m\n\u001b[32m    287\u001b[39m \u001b[43m        \u001b[49m\u001b[43mconnection\u001b[49m\u001b[43m,\u001b[49m\n\u001b[32m    288\u001b[39m \u001b[43m        \u001b[49m\u001b[43mcursor\u001b[49m\u001b[43m,\u001b[49m\n\u001b[32m    289\u001b[39m \u001b[43m        \u001b[49m\u001b[43merror_class\u001b[49m\u001b[43m,\u001b[49m\n\u001b[32m    290\u001b[39m \u001b[43m        \u001b[49m\u001b[43merror_value\u001b[49m\u001b[43m,\u001b[49m\n\u001b[32m    291\u001b[39m \u001b[43m    \u001b[49m\u001b[43m)\u001b[49m\n\u001b[32m    292\u001b[39m     \u001b[38;5;28;01mif\u001b[39;00m \u001b[38;5;129;01mnot\u001b[39;00m handed_over:\n\u001b[32m    293\u001b[39m         \u001b[38;5;28;01mraise\u001b[39;00m Error.errorhandler_make_exception(\n\u001b[32m    294\u001b[39m             error_class,\n\u001b[32m    295\u001b[39m             error_value,\n\u001b[32m    296\u001b[39m         )\n",
      "\u001b[36mFile \u001b[39m\u001b[32mc:\\Users\\sssns\\AppData\\Local\\Programs\\Python\\Python311\\Lib\\site-packages\\snowflake\\connector\\errors.py:341\u001b[39m, in \u001b[36mError.hand_to_other_handler\u001b[39m\u001b[34m(connection, cursor, error_class, error_value)\u001b[39m\n\u001b[32m    339\u001b[39m \u001b[38;5;28;01mif\u001b[39;00m cursor \u001b[38;5;129;01mis\u001b[39;00m \u001b[38;5;129;01mnot\u001b[39;00m \u001b[38;5;28;01mNone\u001b[39;00m:\n\u001b[32m    340\u001b[39m     cursor.messages.append((error_class, error_value))\n\u001b[32m--> \u001b[39m\u001b[32m341\u001b[39m     \u001b[43mcursor\u001b[49m\u001b[43m.\u001b[49m\u001b[43merrorhandler\u001b[49m\u001b[43m(\u001b[49m\u001b[43mconnection\u001b[49m\u001b[43m,\u001b[49m\u001b[43m \u001b[49m\u001b[43mcursor\u001b[49m\u001b[43m,\u001b[49m\u001b[43m \u001b[49m\u001b[43merror_class\u001b[49m\u001b[43m,\u001b[49m\u001b[43m \u001b[49m\u001b[43merror_value\u001b[49m\u001b[43m)\u001b[49m\n\u001b[32m    342\u001b[39m     \u001b[38;5;28;01mreturn\u001b[39;00m \u001b[38;5;28;01mTrue\u001b[39;00m\n\u001b[32m    343\u001b[39m \u001b[38;5;28;01melif\u001b[39;00m connection \u001b[38;5;129;01mis\u001b[39;00m \u001b[38;5;129;01mnot\u001b[39;00m \u001b[38;5;28;01mNone\u001b[39;00m:\n",
      "\u001b[36mFile \u001b[39m\u001b[32mc:\\Users\\sssns\\AppData\\Local\\Programs\\Python\\Python311\\Lib\\site-packages\\snowflake\\connector\\errors.py:217\u001b[39m, in \u001b[36mError.default_errorhandler\u001b[39m\u001b[34m(connection, cursor, error_class, error_value)\u001b[39m\n\u001b[32m    215\u001b[39m errno = error_value.get(\u001b[33m\"\u001b[39m\u001b[33merrno\u001b[39m\u001b[33m\"\u001b[39m)\n\u001b[32m    216\u001b[39m done_format_msg = error_value.get(\u001b[33m\"\u001b[39m\u001b[33mdone_format_msg\u001b[39m\u001b[33m\"\u001b[39m)\n\u001b[32m--> \u001b[39m\u001b[32m217\u001b[39m \u001b[38;5;28;01mraise\u001b[39;00m error_class(\n\u001b[32m    218\u001b[39m     msg=error_value.get(\u001b[33m\"\u001b[39m\u001b[33mmsg\u001b[39m\u001b[33m\"\u001b[39m),\n\u001b[32m    219\u001b[39m     errno=\u001b[38;5;28;01mNone\u001b[39;00m \u001b[38;5;28;01mif\u001b[39;00m errno \u001b[38;5;129;01mis\u001b[39;00m \u001b[38;5;28;01mNone\u001b[39;00m \u001b[38;5;28;01melse\u001b[39;00m \u001b[38;5;28mint\u001b[39m(errno),\n\u001b[32m    220\u001b[39m     sqlstate=error_value.get(\u001b[33m\"\u001b[39m\u001b[33msqlstate\u001b[39m\u001b[33m\"\u001b[39m),\n\u001b[32m    221\u001b[39m     sfqid=error_value.get(\u001b[33m\"\u001b[39m\u001b[33msfqid\u001b[39m\u001b[33m\"\u001b[39m),\n\u001b[32m    222\u001b[39m     query=error_value.get(\u001b[33m\"\u001b[39m\u001b[33mquery\u001b[39m\u001b[33m\"\u001b[39m),\n\u001b[32m    223\u001b[39m     done_format_msg=(\n\u001b[32m    224\u001b[39m         \u001b[38;5;28;01mNone\u001b[39;00m \u001b[38;5;28;01mif\u001b[39;00m done_format_msg \u001b[38;5;129;01mis\u001b[39;00m \u001b[38;5;28;01mNone\u001b[39;00m \u001b[38;5;28;01melse\u001b[39;00m \u001b[38;5;28mbool\u001b[39m(done_format_msg)\n\u001b[32m    225\u001b[39m     ),\n\u001b[32m    226\u001b[39m     connection=connection,\n\u001b[32m    227\u001b[39m     cursor=cursor,\n\u001b[32m    228\u001b[39m )\n",
      "\u001b[31mSnowparkSQLException\u001b[39m: (1304): 01bf81f0-0002-29a6-0002-57760001666e: 391546 (XX000): SQL compilation error: Cannot create a Python function with the specified packages. Please check your packages specification and try again. 'One or more package conflicts were detected.'. Hint: These packages are available in other python runtimes:[\"snowflake-snowpark-python\"->[3.8, 3.9, 3.10, 3.12, 3.13], \"cloudpickle==3.1.1\"->[3.9, 3.10, 3.12, 3.13], \"snowflake-telemetry-python\"->[3.8, 3.9, 3.10, 3.12], \"numpy==2.3.3\"->[3.12, 3.13], \"xgboost==2.1.4\"->[3.9, 3.10, 3.12, 3.13], \"scikit-learn==1.6.1\"->[3.9, 3.10, 3.12, 3.13]]."
     ]
    }
   ],
   "source": [
    "xgboost_model.fit(train_snowpark_df)"
   ]
  },
  {
   "cell_type": "code",
   "execution_count": 215,
   "id": "417e503c",
   "metadata": {},
   "outputs": [
    {
     "ename": "RuntimeError",
     "evalue": "(2102) Estimator XGBClassifier not fitted before calling score method.",
     "output_type": "error",
     "traceback": [
      "\u001b[31m---------------------------------------------------------------------------\u001b[39m",
      "\u001b[31mSnowflakeMLException\u001b[39m                      Traceback (most recent call last)",
      "\u001b[36mFile \u001b[39m\u001b[32mc:\\Users\\sssns\\AppData\\Local\\Programs\\Python\\Python311\\Lib\\site-packages\\snowflake\\ml\\_internal\\telemetry.py:565\u001b[39m, in \u001b[36msend_api_usage_telemetry.<locals>.decorator.<locals>.wrap\u001b[39m\u001b[34m(*args, **kwargs)\u001b[39m\n\u001b[32m    564\u001b[39m \u001b[38;5;28;01mtry\u001b[39;00m:\n\u001b[32m--> \u001b[39m\u001b[32m565\u001b[39m     \u001b[38;5;28;01mreturn\u001b[39;00m ctx.run(execute_func_with_statement_params)\n\u001b[32m    566\u001b[39m \u001b[38;5;28;01mexcept\u001b[39;00m \u001b[38;5;167;01mException\u001b[39;00m \u001b[38;5;28;01mas\u001b[39;00m e:\n",
      "\u001b[36mFile \u001b[39m\u001b[32mc:\\Users\\sssns\\AppData\\Local\\Programs\\Python\\Python311\\Lib\\site-packages\\snowflake\\ml\\_internal\\telemetry.py:533\u001b[39m, in \u001b[36msend_api_usage_telemetry.<locals>.decorator.<locals>.wrap.<locals>.execute_func_with_statement_params\u001b[39m\u001b[34m()\u001b[39m\n\u001b[32m    532\u001b[39m _patch_manager.set_statement_params(statement_params)\n\u001b[32m--> \u001b[39m\u001b[32m533\u001b[39m result = \u001b[43mfunc\u001b[49m\u001b[43m(\u001b[49m\u001b[43m*\u001b[49m\u001b[43margs\u001b[49m\u001b[43m,\u001b[49m\u001b[43m \u001b[49m\u001b[43m*\u001b[49m\u001b[43m*\u001b[49m\u001b[43mkwargs\u001b[49m\u001b[43m)\u001b[49m\n\u001b[32m    534\u001b[39m \u001b[38;5;28;01mreturn\u001b[39;00m update_stmt_params_if_snowpark_df(result, statement_params)\n",
      "\u001b[36mFile \u001b[39m\u001b[32mc:\\Users\\sssns\\AppData\\Local\\Programs\\Python\\Python311\\Lib\\site-packages\\snowflake\\ml\\modeling\\xgboost\\xgb_classifier.py:1229\u001b[39m, in \u001b[36mXGBClassifier.score\u001b[39m\u001b[34m(self, dataset)\u001b[39m\n\u001b[32m   1228\u001b[39m \u001b[38;5;28;01mif\u001b[39;00m \u001b[38;5;28misinstance\u001b[39m(dataset, DataFrame):\n\u001b[32m-> \u001b[39m\u001b[32m1229\u001b[39m     \u001b[38;5;28;43mself\u001b[39;49m\u001b[43m.\u001b[49m\u001b[43m_batch_inference_validate_snowpark\u001b[49m\u001b[43m(\u001b[49m\u001b[43mdataset\u001b[49m\u001b[43m=\u001b[49m\u001b[43mdataset\u001b[49m\u001b[43m,\u001b[49m\u001b[43m \u001b[49m\u001b[43minference_method\u001b[49m\u001b[43m=\u001b[49m\u001b[33;43m\"\u001b[39;49m\u001b[33;43mscore\u001b[39;49m\u001b[33;43m\"\u001b[39;49m\u001b[43m)\u001b[49m\n\u001b[32m   1230\u001b[39m     \u001b[38;5;28mself\u001b[39m._deps = \u001b[38;5;28mself\u001b[39m._get_dependencies()\n",
      "\u001b[36mFile \u001b[39m\u001b[32mc:\\Users\\sssns\\AppData\\Local\\Programs\\Python\\Python311\\Lib\\site-packages\\snowflake\\ml\\modeling\\xgboost\\xgb_classifier.py:575\u001b[39m, in \u001b[36mXGBClassifier._batch_inference_validate_snowpark\u001b[39m\u001b[34m(self, dataset, inference_method)\u001b[39m\n\u001b[32m    574\u001b[39m \u001b[38;5;28;01mif\u001b[39;00m \u001b[38;5;129;01mnot\u001b[39;00m \u001b[38;5;28mself\u001b[39m._is_fitted:\n\u001b[32m--> \u001b[39m\u001b[32m575\u001b[39m     \u001b[38;5;28;01mraise\u001b[39;00m exceptions.SnowflakeMLException(\n\u001b[32m    576\u001b[39m         error_code=error_codes.METHOD_NOT_ALLOWED,\n\u001b[32m    577\u001b[39m         original_exception=\u001b[38;5;167;01mRuntimeError\u001b[39;00m(\n\u001b[32m    578\u001b[39m             \u001b[33mf\u001b[39m\u001b[33m\"\u001b[39m\u001b[33mEstimator \u001b[39m\u001b[38;5;132;01m{\u001b[39;00m\u001b[38;5;28mself\u001b[39m.\u001b[34m__class__\u001b[39m.\u001b[34m__name__\u001b[39m\u001b[38;5;132;01m}\u001b[39;00m\u001b[33m not fitted before calling \u001b[39m\u001b[38;5;132;01m{\u001b[39;00minference_method\u001b[38;5;132;01m}\u001b[39;00m\u001b[33m method.\u001b[39m\u001b[33m\"\u001b[39m\n\u001b[32m    579\u001b[39m         ),\n\u001b[32m    580\u001b[39m     )\n\u001b[32m    582\u001b[39m session = dataset._session\n",
      "\u001b[31mSnowflakeMLException\u001b[39m: RuntimeError('(2102) Estimator XGBClassifier not fitted before calling score method.')",
      "\nThe above exception was the direct cause of the following exception:\n",
      "\u001b[31mRuntimeError\u001b[39m                              Traceback (most recent call last)",
      "\u001b[36mCell\u001b[39m\u001b[36m \u001b[39m\u001b[32mIn[215]\u001b[39m\u001b[32m, line 2\u001b[39m\n\u001b[32m      1\u001b[39m \u001b[38;5;66;03m# check the accuracy using scikit-learn's score functionality through Snowpark ML\u001b[39;00m\n\u001b[32m----> \u001b[39m\u001b[32m2\u001b[39m accuracy = \u001b[43mxgboost_model\u001b[49m\u001b[43m.\u001b[49m\u001b[43mscore\u001b[49m\u001b[43m(\u001b[49m\u001b[43mtest_snowpark_df\u001b[49m\u001b[43m)\u001b[49m\n\u001b[32m      4\u001b[39m \u001b[38;5;28mprint\u001b[39m(\u001b[33m\"\u001b[39m\u001b[33mAccuracy: \u001b[39m\u001b[38;5;132;01m%.2f\u001b[39;00m\u001b[38;5;132;01m%%\u001b[39;00m\u001b[33m\"\u001b[39m % (accuracy * \u001b[32m100.0\u001b[39m))\n",
      "\u001b[36mFile \u001b[39m\u001b[32mc:\\Users\\sssns\\AppData\\Local\\Programs\\Python\\Python311\\Lib\\site-packages\\snowflake\\ml\\_internal\\telemetry.py:597\u001b[39m, in \u001b[36msend_api_usage_telemetry.<locals>.decorator.<locals>.wrap\u001b[39m\u001b[34m(*args, **kwargs)\u001b[39m\n\u001b[32m    595\u001b[39m         \u001b[38;5;28;01mraise\u001b[39;00m me.original_exception \u001b[38;5;28;01mfrom\u001b[39;00m\u001b[38;5;250m \u001b[39m\u001b[38;5;28;01mNone\u001b[39;00m\n\u001b[32m    596\u001b[39m     \u001b[38;5;28;01melse\u001b[39;00m:\n\u001b[32m--> \u001b[39m\u001b[32m597\u001b[39m         \u001b[38;5;28;01mraise\u001b[39;00m me.original_exception \u001b[38;5;28;01mfrom\u001b[39;00m\u001b[38;5;250m \u001b[39m\u001b[34;01me\u001b[39;00m\n\u001b[32m    598\u001b[39m \u001b[38;5;28;01mfinally\u001b[39;00m:\n\u001b[32m    599\u001b[39m     telemetry_args[\u001b[33m\"\u001b[39m\u001b[33mduration\u001b[39m\u001b[33m\"\u001b[39m] = time.perf_counter() - start_time  \u001b[38;5;66;03m# type: ignore[assignment]\u001b[39;00m\n",
      "\u001b[31mRuntimeError\u001b[39m: (2102) Estimator XGBClassifier not fitted before calling score method."
     ]
    }
   ],
   "source": [
    "\n",
    "# check the accuracy using scikit-learn's score functionality through Snowpark ML\n",
    "accuracy = xgboost_model.score(test_snowpark_df)\n",
    "\n",
    "print(\"Accuracy: %.2f%%\" % (accuracy * 100.0))"
   ]
  }
 ],
 "metadata": {
  "kernelspec": {
   "display_name": "Python 3",
   "language": "python",
   "name": "python3"
  },
  "language_info": {
   "codemirror_mode": {
    "name": "ipython",
    "version": 3
   },
   "file_extension": ".py",
   "mimetype": "text/x-python",
   "name": "python",
   "nbconvert_exporter": "python",
   "pygments_lexer": "ipython3",
   "version": "3.11.9"
  }
 },
 "nbformat": 4,
 "nbformat_minor": 5
}
