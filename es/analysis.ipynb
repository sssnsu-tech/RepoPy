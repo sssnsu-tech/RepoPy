{
 "cells": [
  {
   "cell_type": "code",
   "execution_count": 152,
   "id": "45bf621b",
   "metadata": {},
   "outputs": [],
   "source": [
    "import pandas as pd\n",
    "import numpy as np\n",
    "import matplotlib.pyplot as plt"
   ]
  },
  {
   "cell_type": "code",
   "execution_count": 153,
   "id": "db7334fc",
   "metadata": {},
   "outputs": [],
   "source": [
    "#Load\n",
    "csv_path = \"C:\\\\Users\\\\sssns\\\\Desktop\\\\New\\\\10.09.2025\\\\E_sim\\\\Case Study\\\\Case Study/my_dataset.csv\"\n",
    "df = pd.read_csv(csv_path)\n"
   ]
  },
  {
   "cell_type": "code",
   "execution_count": 154,
   "id": "a7efdfe5",
   "metadata": {},
   "outputs": [
    {
     "data": {
      "text/plain": [
       "UserID          0\n",
       "Day             0\n",
       "Sessions        0\n",
       "Duration        0\n",
       "Transactions    0\n",
       "Spent           0\n",
       "Revenue         0\n",
       "OS              0\n",
       "Country         0\n",
       "dtype: int64"
      ]
     },
     "execution_count": 154,
     "metadata": {},
     "output_type": "execute_result"
    }
   ],
   "source": [
    "df.isnull().sum()"
   ]
  },
  {
   "cell_type": "code",
   "execution_count": 155,
   "id": "46c3b126",
   "metadata": {},
   "outputs": [
    {
     "data": {
      "text/html": [
       "<div>\n",
       "<style scoped>\n",
       "    .dataframe tbody tr th:only-of-type {\n",
       "        vertical-align: middle;\n",
       "    }\n",
       "\n",
       "    .dataframe tbody tr th {\n",
       "        vertical-align: top;\n",
       "    }\n",
       "\n",
       "    .dataframe thead th {\n",
       "        text-align: right;\n",
       "    }\n",
       "</style>\n",
       "<table border=\"1\" class=\"dataframe\">\n",
       "  <thead>\n",
       "    <tr style=\"text-align: right;\">\n",
       "      <th></th>\n",
       "      <th>UserID</th>\n",
       "      <th>Day</th>\n",
       "      <th>Sessions</th>\n",
       "      <th>Duration</th>\n",
       "      <th>Transactions</th>\n",
       "      <th>Spent</th>\n",
       "      <th>Revenue</th>\n",
       "      <th>OS</th>\n",
       "      <th>Country</th>\n",
       "    </tr>\n",
       "  </thead>\n",
       "  <tbody>\n",
       "    <tr>\n",
       "      <th>0</th>\n",
       "      <td>99610</td>\n",
       "      <td>05.03.2024</td>\n",
       "      <td>2</td>\n",
       "      <td>83</td>\n",
       "      <td>1</td>\n",
       "      <td>1.386057</td>\n",
       "      <td>6.928618</td>\n",
       "      <td>iOS</td>\n",
       "      <td>France</td>\n",
       "    </tr>\n",
       "    <tr>\n",
       "      <th>1</th>\n",
       "      <td>99610</td>\n",
       "      <td>07.03.2024</td>\n",
       "      <td>3</td>\n",
       "      <td>97</td>\n",
       "      <td>1</td>\n",
       "      <td>0.000000</td>\n",
       "      <td>9.576498</td>\n",
       "      <td>iOS</td>\n",
       "      <td>France</td>\n",
       "    </tr>\n",
       "    <tr>\n",
       "      <th>2</th>\n",
       "      <td>99610</td>\n",
       "      <td>09.03.2024</td>\n",
       "      <td>1</td>\n",
       "      <td>50</td>\n",
       "      <td>0</td>\n",
       "      <td>0.000000</td>\n",
       "      <td>0.000000</td>\n",
       "      <td>iOS</td>\n",
       "      <td>France</td>\n",
       "    </tr>\n",
       "    <tr>\n",
       "      <th>3</th>\n",
       "      <td>99610</td>\n",
       "      <td>11.03.2024</td>\n",
       "      <td>4</td>\n",
       "      <td>153</td>\n",
       "      <td>0</td>\n",
       "      <td>0.000000</td>\n",
       "      <td>0.000000</td>\n",
       "      <td>iOS</td>\n",
       "      <td>France</td>\n",
       "    </tr>\n",
       "    <tr>\n",
       "      <th>4</th>\n",
       "      <td>99610</td>\n",
       "      <td>13.03.2024</td>\n",
       "      <td>2</td>\n",
       "      <td>54</td>\n",
       "      <td>0</td>\n",
       "      <td>0.000000</td>\n",
       "      <td>0.000000</td>\n",
       "      <td>iOS</td>\n",
       "      <td>France</td>\n",
       "    </tr>\n",
       "  </tbody>\n",
       "</table>\n",
       "</div>"
      ],
      "text/plain": [
       "   UserID         Day  Sessions  Duration  Transactions     Spent   Revenue  \\\n",
       "0   99610  05.03.2024         2        83             1  1.386057  6.928618   \n",
       "1   99610  07.03.2024         3        97             1  0.000000  9.576498   \n",
       "2   99610  09.03.2024         1        50             0  0.000000  0.000000   \n",
       "3   99610  11.03.2024         4       153             0  0.000000  0.000000   \n",
       "4   99610  13.03.2024         2        54             0  0.000000  0.000000   \n",
       "\n",
       "    OS Country  \n",
       "0  iOS  France  \n",
       "1  iOS  France  \n",
       "2  iOS  France  \n",
       "3  iOS  France  \n",
       "4  iOS  France  "
      ]
     },
     "execution_count": 155,
     "metadata": {},
     "output_type": "execute_result"
    }
   ],
   "source": [
    "df.head(5)"
   ]
  },
  {
   "cell_type": "code",
   "execution_count": 156,
   "id": "58e17f51",
   "metadata": {},
   "outputs": [
    {
     "data": {
      "text/plain": [
       "array([0.        , 0.32752609, 0.32924626, 0.38454577, 0.51488161,\n",
       "       0.55470253, 0.57352317, 0.6314594 , 0.72455732, 0.79357986,\n",
       "       0.85161409, 1.06206083, 1.1906093 , 1.21059194, 1.38605739,\n",
       "       1.41180264, 1.5291888 , 1.55033229, 1.59323287, 1.68561801,\n",
       "       1.86439145, 1.98269511, 2.0919905 , 2.12903457, 2.25557024,\n",
       "       2.26794653, 2.35163713, 2.40007274, 2.43633335, 2.54760134,\n",
       "       2.56213387, 2.62191587, 2.68223008, 2.70884579, 2.71890922,\n",
       "       2.76043493, 2.83007304, 2.86174866, 3.00427967, 3.21085299,\n",
       "       3.23716691, 3.43501546, 3.50941918, 3.55694317, 3.57452691,\n",
       "       3.67572042, 3.67925049, 3.90433862, 3.97448421, 3.99997604,\n",
       "       4.11065203, 4.19773252, 4.26792894, 4.3127562 , 4.39150811,\n",
       "       4.74644941, 4.86355376, 4.94524847, 4.98740299, 5.28187527,\n",
       "       5.41834951, 5.42483137, 5.47794215, 5.49600398, 5.50574862,\n",
       "       5.52533279, 5.54472365, 5.84881871, 5.99000096, 5.99254315,\n",
       "       6.16073951, 6.2090367 , 6.45222747, 6.82820679, 7.05734604,\n",
       "       7.21759326, 7.37954092, 7.57330018, 7.70360484, 7.9545348 ,\n",
       "       8.07100347, 8.07618659, 8.20338597, 8.36654602, 8.55800646,\n",
       "       8.59495547, 8.67009884, 8.76757847, 8.84892475, 8.9146955 ,\n",
       "       9.03003862, 9.03104551, 9.07528425, 9.20139192, 9.85959353,\n",
       "       9.88562196, 9.96287275])"
      ]
     },
     "execution_count": 156,
     "metadata": {},
     "output_type": "execute_result"
    }
   ],
   "source": [
    "df['Spent'].sort_values(ascending=True).unique()"
   ]
  },
  {
   "cell_type": "code",
   "execution_count": 162,
   "id": "59d276c4",
   "metadata": {},
   "outputs": [
    {
     "name": "stderr",
     "output_type": "stream",
     "text": [
      "C:\\Users\\sssns\\AppData\\Local\\Temp\\ipykernel_6708\\3673043745.py:1: FutureWarning: A value is trying to be set on a copy of a DataFrame or Series through chained assignment using an inplace method.\n",
      "The behavior will change in pandas 3.0. This inplace method will never work because the intermediate object on which we are setting values always behaves as a copy.\n",
      "\n",
      "For example, when doing 'df[col].method(value, inplace=True)', try using 'df.method({col: value}, inplace=True)' or df[col] = df[col].method(value) instead, to perform the operation inplace on the original object.\n",
      "\n",
      "\n",
      "  df['Day'].fillna('1753-01-01', inplace=True)\n"
     ]
    }
   ],
   "source": [
    "df['Day'].fillna('1753-01-01', inplace=True)\n",
    "df['Day'] = pd.to_datetime(df['Day'], errors='coerce')\n"
   ]
  },
  {
   "cell_type": "code",
   "execution_count": 164,
   "id": "63cf5370",
   "metadata": {},
   "outputs": [
    {
     "data": {
      "text/html": [
       "<div>\n",
       "<style scoped>\n",
       "    .dataframe tbody tr th:only-of-type {\n",
       "        vertical-align: middle;\n",
       "    }\n",
       "\n",
       "    .dataframe tbody tr th {\n",
       "        vertical-align: top;\n",
       "    }\n",
       "\n",
       "    .dataframe thead th {\n",
       "        text-align: right;\n",
       "    }\n",
       "</style>\n",
       "<table border=\"1\" class=\"dataframe\">\n",
       "  <thead>\n",
       "    <tr style=\"text-align: right;\">\n",
       "      <th></th>\n",
       "      <th>UserID</th>\n",
       "      <th>Day</th>\n",
       "      <th>Sessions</th>\n",
       "      <th>Duration</th>\n",
       "      <th>Transactions</th>\n",
       "      <th>Spent</th>\n",
       "      <th>Revenue</th>\n",
       "      <th>OS</th>\n",
       "      <th>Country</th>\n",
       "    </tr>\n",
       "  </thead>\n",
       "  <tbody>\n",
       "    <tr>\n",
       "      <th>0</th>\n",
       "      <td>99610</td>\n",
       "      <td>2024-05-03</td>\n",
       "      <td>2</td>\n",
       "      <td>83</td>\n",
       "      <td>1</td>\n",
       "      <td>1.386057</td>\n",
       "      <td>6.928618</td>\n",
       "      <td>iOS</td>\n",
       "      <td>France</td>\n",
       "    </tr>\n",
       "    <tr>\n",
       "      <th>1</th>\n",
       "      <td>99610</td>\n",
       "      <td>2024-07-03</td>\n",
       "      <td>3</td>\n",
       "      <td>97</td>\n",
       "      <td>1</td>\n",
       "      <td>0.000000</td>\n",
       "      <td>9.576498</td>\n",
       "      <td>iOS</td>\n",
       "      <td>France</td>\n",
       "    </tr>\n",
       "    <tr>\n",
       "      <th>2</th>\n",
       "      <td>99610</td>\n",
       "      <td>2024-09-03</td>\n",
       "      <td>1</td>\n",
       "      <td>50</td>\n",
       "      <td>0</td>\n",
       "      <td>0.000000</td>\n",
       "      <td>0.000000</td>\n",
       "      <td>iOS</td>\n",
       "      <td>France</td>\n",
       "    </tr>\n",
       "    <tr>\n",
       "      <th>3</th>\n",
       "      <td>99610</td>\n",
       "      <td>2024-11-03</td>\n",
       "      <td>4</td>\n",
       "      <td>153</td>\n",
       "      <td>0</td>\n",
       "      <td>0.000000</td>\n",
       "      <td>0.000000</td>\n",
       "      <td>iOS</td>\n",
       "      <td>France</td>\n",
       "    </tr>\n",
       "    <tr>\n",
       "      <th>4</th>\n",
       "      <td>99610</td>\n",
       "      <td>1753-01-01</td>\n",
       "      <td>2</td>\n",
       "      <td>54</td>\n",
       "      <td>0</td>\n",
       "      <td>0.000000</td>\n",
       "      <td>0.000000</td>\n",
       "      <td>iOS</td>\n",
       "      <td>France</td>\n",
       "    </tr>\n",
       "  </tbody>\n",
       "</table>\n",
       "</div>"
      ],
      "text/plain": [
       "   UserID        Day  Sessions  Duration  Transactions     Spent   Revenue  \\\n",
       "0   99610 2024-05-03         2        83             1  1.386057  6.928618   \n",
       "1   99610 2024-07-03         3        97             1  0.000000  9.576498   \n",
       "2   99610 2024-09-03         1        50             0  0.000000  0.000000   \n",
       "3   99610 2024-11-03         4       153             0  0.000000  0.000000   \n",
       "4   99610 1753-01-01         2        54             0  0.000000  0.000000   \n",
       "\n",
       "    OS Country  \n",
       "0  iOS  France  \n",
       "1  iOS  France  \n",
       "2  iOS  France  \n",
       "3  iOS  France  \n",
       "4  iOS  France  "
      ]
     },
     "execution_count": 164,
     "metadata": {},
     "output_type": "execute_result"
    }
   ],
   "source": [
    "df.head(5)\n"
   ]
  },
  {
   "cell_type": "code",
   "execution_count": 165,
   "id": "120f6da7",
   "metadata": {},
   "outputs": [
    {
     "name": "stdout",
     "output_type": "stream",
     "text": [
      "<class 'pandas.core.frame.DataFrame'>\n",
      "RangeIndex: 1171 entries, 0 to 1170\n",
      "Data columns (total 9 columns):\n",
      " #   Column        Non-Null Count  Dtype         \n",
      "---  ------        --------------  -----         \n",
      " 0   UserID        1171 non-null   int64         \n",
      " 1   Day           1171 non-null   datetime64[ns]\n",
      " 2   Sessions      1171 non-null   int64         \n",
      " 3   Duration      1171 non-null   int64         \n",
      " 4   Transactions  1171 non-null   int64         \n",
      " 5   Spent         1171 non-null   float64       \n",
      " 6   Revenue       1171 non-null   float64       \n",
      " 7   OS            1171 non-null   object        \n",
      " 8   Country       1171 non-null   object        \n",
      "dtypes: datetime64[ns](1), float64(2), int64(4), object(2)\n",
      "memory usage: 82.5+ KB\n"
     ]
    }
   ],
   "source": [
    "df.info()"
   ]
  },
  {
   "cell_type": "code",
   "execution_count": 167,
   "id": "e84668dc",
   "metadata": {},
   "outputs": [],
   "source": [
    "df['Month'] = df['Day'].dt.month\n",
    "df['Year'] = df['Day'].dt.year\n",
    "df['Weekday'] = df['Day'].dt.day_name()\n",
    "df['YearMonth'] = df['Day'].dt.year.round(0).astype(str) + '-' + df['Day'].dt.month.round(0).astype(str).str.zfill(2)"
   ]
  },
  {
   "cell_type": "code",
   "execution_count": null,
   "id": "4f1eb7ca",
   "metadata": {},
   "outputs": [],
   "source": []
  },
  {
   "cell_type": "code",
   "execution_count": null,
   "id": "142e9d1e",
   "metadata": {},
   "outputs": [],
   "source": []
  },
  {
   "cell_type": "code",
   "execution_count": null,
   "id": "08ca3442",
   "metadata": {},
   "outputs": [],
   "source": []
  },
  {
   "cell_type": "code",
   "execution_count": null,
   "id": "1ec5d035",
   "metadata": {},
   "outputs": [],
   "source": [
    "df['YearMonth'] = df['Day'].dt.year.astype(str) + '-' + df['Day'].dt.month.astype(str).str.zfill(2)\n",
    "df_plot = df.withColumn('YearMonth', when(col('Day').isNotNull(), date_format(col('Day'), 'yyyy-MM')).otherwise(None))\n",
    "monthly = df.groupby(['YearMonth']).agg(\n",
    "    sessions=('Sessions','sum'),\n",
    "    transactions=('Transactions','sum'),\n",
    "    revenue=('Revenue','sum')\n",
    ").sort_index().reset_index()\n",
    "print(monthly.head().to_string(index=False))\n",
    "\n",
    "# Plot monthly revenue\n",
    "plt.figure(figsize=(10,4))\n",
    "plt.plot(monthly['YearMonth'],  monthly['revenue'])\n",
    "plt.title('Monthly total revenue')\n",
    "plt.xlabel('Month-Year')\n",
    "plt.ylabel('Revenue (USD)')\n",
    "plt.xticks(rotation=45)\n",
    "plt.tight_layout()\n",
    "plt.show()"
   ]
  },
  {
   "cell_type": "code",
   "execution_count": null,
   "id": "8034ab45",
   "metadata": {},
   "outputs": [],
   "source": [
    "\n",
    "print('Shape:', df.shape)\n",
    "print('\\nMissing values per column:')\n",
    "print(df.isnull().sum())\n"
   ]
  },
  {
   "cell_type": "code",
   "execution_count": 3,
   "id": "806d4ad3",
   "metadata": {},
   "outputs": [
    {
     "name": "stdout",
     "output_type": "stream",
     "text": [
      " UserID        Day  Sessions  Duration  Transactions    Spent  Revenue  OS Country\n",
      "  99610 05.03.2024         2        83             1 1.386057 6.928618 iOS  France\n",
      "  99610 07.03.2024         3        97             1 0.000000 9.576498 iOS  France\n",
      "  99610 09.03.2024         1        50             0 0.000000 0.000000 iOS  France\n",
      "  99610 11.03.2024         4       153             0 0.000000 0.000000 iOS  France\n",
      "  99610 13.03.2024         2        54             0 0.000000 0.000000 iOS  France\n"
     ]
    }
   ],
   "source": [
    "# Ensure numeric columns\n",
    "numeric_cols = ['Sessions','Duration','Transactions','Spent','Revenue']\n",
    "for c in numeric_cols:\n",
    "    df[c] = pd.to_numeric(df[c], errors='coerce')\n",
    "\n",
    "# Basic cleaning: drop rows without UserID or Day\n",
    "df = df.dropna(subset=['UserID','Day'])\n",
    "\n",
    "# Quick head\n",
    "print(df.head().to_string(index=False))\n"
   ]
  },
  {
   "cell_type": "code",
   "execution_count": 4,
   "id": "c163d4ab",
   "metadata": {},
   "outputs": [
    {
     "name": "stdout",
     "output_type": "stream",
     "text": [
      "Distinct users: 96\n"
     ]
    }
   ],
   "source": [
    "# 1) Distinct users\n",
    "distinct_users = df['UserID'].nunique()\n",
    "print('Distinct users:', distinct_users)\n"
   ]
  },
  {
   "cell_type": "code",
   "execution_count": 5,
   "id": "28c70f1f",
   "metadata": {},
   "outputs": [
    {
     "name": "stdout",
     "output_type": "stream",
     "text": [
      "Total sessions: 2241\n",
      "Total transactions: 242\n",
      "Total revenue (USD): 1166.0772512258045\n",
      "Total spent (USD): 429.1234318631766\n",
      "Average sessions per row: 1.9137489325362937\n",
      "Average session duration (s): 55.734415029888986\n"
     ]
    }
   ],
   "source": [
    "# 2) Totals and averages\n",
    "total_sessions = df['Sessions'].sum()\n",
    "total_transactions = df['Transactions'].sum()\n",
    "total_revenue = df['Revenue'].sum()\n",
    "total_spent = df['Spent'].sum()\n",
    "avg_sessions_per_row = df['Sessions'].mean()\n",
    "avg_duration = df['Duration'].mean()\n",
    "\n",
    "print('Total sessions:', total_sessions)\n",
    "print('Total transactions:', total_transactions)\n",
    "print('Total revenue (USD):', total_revenue)\n",
    "print('Total spent (USD):', total_spent)\n",
    "print('Average sessions per row:', avg_sessions_per_row)\n",
    "print('Average session duration (s):', avg_duration)\n"
   ]
  },
  {
   "cell_type": "code",
   "execution_count": 6,
   "id": "3b0913cb",
   "metadata": {},
   "outputs": [
    {
     "name": "stdout",
     "output_type": "stream",
     "text": [
      "Country  users  sessions  transactions    revenue      spent\n",
      " France     28       643            65 315.960704 119.277151\n",
      "  Italy     32       750            90 440.313926 141.509061\n",
      "  Spain     36       848            87 409.802621 168.337220\n"
     ]
    }
   ],
   "source": [
    "# 3) Sessions / users / transactions by country\n",
    "by_country = df.groupby('Country').agg(\n",
    "    users=('UserID', 'nunique'),\n",
    "    sessions=('Sessions','sum'),\n",
    "    transactions=('Transactions','sum'),\n",
    "    revenue=('Revenue','sum'),\n",
    "    spent=('Spent','sum')\n",
    ").reset_index()\n",
    "print(by_country.to_string(index=False))\n"
   ]
  },
  {
   "cell_type": "code",
   "execution_count": 7,
   "id": "d74dbc74",
   "metadata": {},
   "outputs": [
    {
     "name": "stdout",
     "output_type": "stream",
     "text": [
      "     OS  users  sessions  transactions    revenue\n",
      "Android     49      1230           133 643.919801\n",
      "    iOS     47      1011           109 522.157450\n"
     ]
    }
   ],
   "source": [
    "# 4) OS breakdown\n",
    "by_os = df.groupby('OS').agg(\n",
    "    users=('UserID','nunique'),\n",
    "    sessions=('Sessions','sum'),\n",
    "    transactions=('Transactions','sum'),\n",
    "    revenue=('Revenue','sum')\n",
    ").reset_index()\n",
    "print(by_os.to_string(index=False))\n"
   ]
  },
  {
   "cell_type": "code",
   "execution_count": 8,
   "id": "ab21a07a",
   "metadata": {},
   "outputs": [
    {
     "name": "stdout",
     "output_type": "stream",
     "text": [
      "Overall conversion (transactions / sessions): 0.10798750557786703\n",
      "\n",
      "Conversion by country:\n",
      "Country  transactions  sessions  conversion\n",
      " France            65       643    0.101089\n",
      "  Italy            90       750    0.120000\n",
      "  Spain            87       848    0.102594\n"
     ]
    }
   ],
   "source": [
    "# 5) Conversion metrics\n",
    "# Define conversion as transactions / sessions (if sessions > 0)\n",
    "conv_overall = total_transactions / total_sessions if total_sessions>0 else np.nan\n",
    "conv_by_country = (df.groupby('Country').agg(transactions=('Transactions','sum'), sessions=('Sessions','sum'))\n",
    "                   .assign(conversion=lambda x: x['transactions'] / x['sessions'].replace(0, np.nan)).reset_index())\n",
    "print('Overall conversion (transactions / sessions):', conv_overall)\n",
    "print('\\nConversion by country:')\n",
    "print(conv_by_country.to_string(index=False))\n"
   ]
  },
  {
   "cell_type": "code",
   "execution_count": 9,
   "id": "a04e7ef9",
   "metadata": {},
   "outputs": [
    {
     "name": "stdout",
     "output_type": "stream",
     "text": [
      "ARPU (mean revenue per user): 12.14663803360213\n",
      "ARPPU (mean revenue among paying users): 14.396015447232154\n",
      "Number of paying users: 81\n"
     ]
    }
   ],
   "source": [
    "# 6) Revenue per user (ARPU) and revenue per paying user\n",
    "revenue_per_user = df.groupby('UserID')['Revenue'].sum().reset_index()\n",
    "ARPU = revenue_per_user['Revenue'].mean()\n",
    "\n",
    "paying_users = revenue_per_user[revenue_per_user['Revenue']>0]\n",
    "ARPPU = paying_users['Revenue'].mean() if len(paying_users)>0 else 0\n",
    "\n",
    "print('ARPU (mean revenue per user):', ARPU)\n",
    "print('ARPPU (mean revenue among paying users):', ARPPU)\n",
    "print('Number of paying users:', len(paying_users))\n"
   ]
  },
  {
   "cell_type": "code",
   "execution_count": null,
   "id": "ee409495",
   "metadata": {},
   "outputs": [
    {
     "name": "stdout",
     "output_type": "stream",
     "text": [
      "  YearMonth  sessions  transactions    revenue\n",
      " 2024.0-1.0       149            15 104.574317\n",
      "2024.0-10.0        66            10  35.558735\n",
      "2024.0-11.0        74             8  37.640205\n",
      "2024.0-12.0        63            11  39.766367\n",
      " 2024.0-2.0        73             7  20.603956\n"
     ]
    },
    {
     "data": {
      "image/png": "[encoded data removed]",
      "text/plain": [
       "<Figure size 1000x400 with 1 Axes>"
      ]
     },
     "metadata": {},
     "output_type": "display_data"
    }
   ],
   "source": [
    "df['YearMonth'] = df['Day'].dt.year.astype(str) + '-' + df['Day'].dt.month.astype(str).str.zfill(2)\n",
    "df_plot = df.withColumn('YearMonth', when(col('Day').isNotNull(), date_format(col('Day'), 'yyyy-MM')).otherwise(None))\n",
    "monthly = df.groupby(['YearMonth']).agg(\n",
    "    sessions=('Sessions','sum'),\n",
    "    transactions=('Transactions','sum'),\n",
    "    revenue=('Revenue','sum')\n",
    ").sort_index().reset_index()\n",
    "print(monthly.head().to_string(index=False))\n",
    "\n",
    "# Plot monthly revenue\n",
    "plt.figure(figsize=(10,4))\n",
    "plt.plot(monthly['YearMonth'],  monthly['revenue'])\n",
    "plt.title('Monthly total revenue')\n",
    "plt.xlabel('Month-Year')\n",
    "plt.ylabel('Revenue (USD)')\n",
    "plt.xticks(rotation=45)\n",
    "plt.tight_layout()\n",
    "plt.show()\n"
   ]
  },
  {
   "cell_type": "code",
   "execution_count": 11,
   "id": "21da04aa",
   "metadata": {},
   "outputs": [
    {
     "data": {
      "image/png": "[encoded data removed]",
      "text/plain": [
       "<Figure size 800x400 with 1 Axes>"
      ]
     },
     "metadata": {},
     "output_type": "display_data"
    }
   ],
   "source": [
    "# 8) Bar chart: revenue by country\n",
    "country_rev = by_country.sort_values('revenue', ascending=False)\n",
    "plt.figure(figsize=(8,4))\n",
    "plt.bar(country_rev['Country'], country_rev['revenue'])\n",
    "plt.title('Revenue by Country')\n",
    "plt.xlabel('Country')\n",
    "plt.ylabel('Revenue (USD)')\n",
    "plt.tight_layout()\n",
    "plt.show()\n"
   ]
  },
  {
   "cell_type": "code",
   "execution_count": 12,
   "id": "4545dd40",
   "metadata": {},
   "outputs": [
    {
     "data": {
      "image/png": "[encoded data removed]",
      "text/plain": [
       "<Figure size 800x400 with 1 Axes>"
      ]
     },
     "metadata": {},
     "output_type": "display_data"
    }
   ],
   "source": [
    "# 9) Bar chart: distinct users by country\n",
    "country_users = by_country.sort_values('users', ascending=False)\n",
    "plt.figure(figsize=(8,4))\n",
    "plt.bar(country_users['Country'], country_users['users'])\n",
    "plt.title('Distinct users by Country')\n",
    "plt.xlabel('Country')\n",
    "plt.ylabel('Users')\n",
    "plt.tight_layout()\n",
    "plt.show()\n"
   ]
  },
  {
   "cell_type": "code",
   "execution_count": 13,
   "id": "c6dd25f1",
   "metadata": {},
   "outputs": [
    {
     "data": {
      "image/png": "[encoded data removed]",
      "text/plain": [
       "<Figure size 600x400 with 1 Axes>"
      ]
     },
     "metadata": {},
     "output_type": "display_data"
    }
   ],
   "source": [
    "# 10) OS share (pie-like bar) - show as bar\n",
    "os_share = by_os.sort_values('users', ascending=False)\n",
    "plt.figure(figsize=(6,4))\n",
    "plt.bar(os_share['OS'], os_share['users'])\n",
    "plt.title('Users by OS')\n",
    "plt.xlabel('OS')\n",
    "plt.ylabel('Users')\n",
    "plt.tight_layout()\n",
    "plt.show()\n"
   ]
  },
  {
   "cell_type": "code",
   "execution_count": 14,
   "id": "ecf42503",
   "metadata": {},
   "outputs": [
    {
     "data": {
      "image/png": "[encoded data removed]",
      "text/plain": [
       "<Figure size 800x400 with 1 Axes>"
      ]
     },
     "metadata": {},
     "output_type": "display_data"
    }
   ],
   "source": [
    "# 11) Distribution of session durations (histogram)\n",
    "plt.figure(figsize=(8,4))\n",
    "plt.hist(df['Duration'].dropna(), bins=50)\n",
    "plt.title('Session Duration Distribution (seconds)')\n",
    "plt.xlabel('Duration (s)')\n",
    "plt.ylabel('Count')\n",
    "plt.tight_layout()\n",
    "plt.show()\n"
   ]
  },
  {
   "cell_type": "code",
   "execution_count": 15,
   "id": "b3b2b60c",
   "metadata": {},
   "outputs": [
    {
     "data": {
      "image/png": "[encoded data removed]",
      "text/plain": [
       "<Figure size 600x500 with 1 Axes>"
      ]
     },
     "metadata": {},
     "output_type": "display_data"
    }
   ],
   "source": [
    "# 12) Scatter: total spent vs revenue aggregated by UserID\n",
    "user_agg = df.groupby('UserID').agg(spent=('Spent','sum'), revenue=('Revenue','sum'), sessions=('Sessions','sum')).reset_index()\n",
    "plt.figure(figsize=(6,5))\n",
    "plt.scatter(user_agg['spent'], user_agg['revenue'])\n",
    "plt.title('User: Spent vs Revenue')\n",
    "plt.xlabel('Total Spent (USD)')\n",
    "plt.ylabel('Total Revenue (USD)')\n",
    "plt.tight_layout()\n",
    "plt.show()\n"
   ]
  },
  {
   "cell_type": "code",
   "execution_count": 16,
   "id": "e9d26521",
   "metadata": {},
   "outputs": [
    {
     "name": "stdout",
     "output_type": "stream",
     "text": [
      " UserID    spent   revenue  sessions\n",
      "  31396 8.767578 42.840096        59\n",
      "  11966 2.400073 41.196872        42\n",
      "  71241 6.209037 38.601581        49\n",
      "  53384 5.505749 34.498733        39\n",
      "  82481 0.514882 34.254866        30\n",
      "  30475 2.436333 32.736830        42\n",
      "  36217 8.670099 31.128853        38\n",
      "  66380 2.621916 30.371053        24\n",
      "  90680 6.452227 30.271621        32\n",
      "  36969 0.327526 28.735821        38\n"
     ]
    }
   ],
   "source": [
    "# 13) Top 10 users by revenue\n",
    "top_users = user_agg.sort_values('revenue', ascending=False).head(10)\n",
    "print(top_users.to_string(index=False))\n"
   ]
  }
 ],
 "metadata": {
  "kernelspec": {
   "display_name": "Python 3",
   "language": "python",
   "name": "python3"
  },
  "language_info": {
   "codemirror_mode": {
    "name": "ipython",
    "version": 3
   },
   "file_extension": ".py",
   "mimetype": "text/x-python",
   "name": "python",
   "nbconvert_exporter": "python",
   "pygments_lexer": "ipython3",
   "version": "3.11.9"
  }
 },
 "nbformat": 4,
 "nbformat_minor": 5
}
