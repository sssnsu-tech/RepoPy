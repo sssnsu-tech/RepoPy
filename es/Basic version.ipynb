{
 "cells": [
  {
   "cell_type": "code",
   "execution_count": null,
   "id": "45bf621b",
   "metadata": {},
   "outputs": [],
   "source": [
    "import pandas as pd\n",
    "import numpy as np\n",
    "import matplotlib.pyplot as plt\n",
    "\n",
    "# Load dataset\n",
    "csv_path = '/mnt/data/my_dataset.csv'\n",
    "df = pd.read_csv(csv_path, parse_dates=['Day'])\n",
    "# Ensure columns are named as expected\n",
    "print('Loaded', csv_path)\n",
    "print('Shape:', df.shape)\n",
    "print('\\nColumn dtypes:')\n",
    "print(df.dtypes)\n",
    "print('\\nMissing values per column:')\n",
    "print(df.isnull().sum())\n"
   ]
  },
  {
   "cell_type": "code",
   "execution_count": null,
   "id": "806d4ad3",
   "metadata": {},
   "outputs": [],
   "source": [
    "# Ensure numeric columns\n",
    "numeric_cols = ['Sessions','Duration','Transactions','Spent','Revenue']\n",
    "for c in numeric_cols:\n",
    "    df[c] = pd.to_numeric(df[c], errors='coerce')\n",
    "\n",
    "# Basic cleaning: drop rows without UserID or Day\n",
    "df = df.dropna(subset=['UserID','Day'])\n",
    "\n",
    "# Quick head\n",
    "print(df.head().to_string(index=False))\n"
   ]
  },
  {
   "cell_type": "code",
   "execution_count": null,
   "id": "c163d4ab",
   "metadata": {},
   "outputs": [],
   "source": [
    "# 1) Distinct users\n",
    "distinct_users = df['UserID'].nunique()\n",
    "print('Distinct users:', distinct_users)\n"
   ]
  },
  {
   "cell_type": "code",
   "execution_count": null,
   "id": "28c70f1f",
   "metadata": {},
   "outputs": [],
   "source": [
    "# 2) Totals and averages\n",
    "total_sessions = df['Sessions'].sum()\n",
    "total_transactions = df['Transactions'].sum()\n",
    "total_revenue = df['Revenue'].sum()\n",
    "total_spent = df['Spent'].sum()\n",
    "avg_sessions_per_row = df['Sessions'].mean()\n",
    "avg_duration = df['Duration'].mean()\n",
    "\n",
    "print('Total sessions:', total_sessions)\n",
    "print('Total transactions:', total_transactions)\n",
    "print('Total revenue (USD):', total_revenue)\n",
    "print('Total spent (USD):', total_spent)\n",
    "print('Average sessions per row:', avg_sessions_per_row)\n",
    "print('Average session duration (s):', avg_duration)\n"
   ]
  },
  {
   "cell_type": "code",
   "execution_count": null,
   "id": "3b0913cb",
   "metadata": {},
   "outputs": [],
   "source": [
    "# 3) Sessions / users / transactions by country\n",
    "by_country = df.groupby('Country').agg(\n",
    "    users=('UserID', 'nunique'),\n",
    "    sessions=('Sessions','sum'),\n",
    "    transactions=('Transactions','sum'),\n",
    "    revenue=('Revenue','sum'),\n",
    "    spent=('Spent','sum')\n",
    ").reset_index()\n",
    "print(by_country.to_string(index=False))\n"
   ]
  },
  {
   "cell_type": "code",
   "execution_count": null,
   "id": "d74dbc74",
   "metadata": {},
   "outputs": [],
   "source": [
    "# 4) OS breakdown\n",
    "by_os = df.groupby('OS').agg(\n",
    "    users=('UserID','nunique'),\n",
    "    sessions=('Sessions','sum'),\n",
    "    transactions=('Transactions','sum'),\n",
    "    revenue=('Revenue','sum')\n",
    ").reset_index()\n",
    "print(by_os.to_string(index=False))\n"
   ]
  },
  {
   "cell_type": "code",
   "execution_count": null,
   "id": "ab21a07a",
   "metadata": {},
   "outputs": [],
   "source": [
    "# 5) Conversion metrics\n",
    "# Define conversion as transactions / sessions (if sessions > 0)\n",
    "conv_overall = total_transactions / total_sessions if total_sessions>0 else np.nan\n",
    "conv_by_country = (df.groupby('Country').agg(transactions=('Transactions','sum'), sessions=('Sessions','sum'))\n",
    "                   .assign(conversion=lambda x: x['transactions'] / x['sessions'].replace(0, np.nan)).reset_index())\n",
    "print('Overall conversion (transactions / sessions):', conv_overall)\n",
    "print('\\nConversion by country:')\n",
    "print(conv_by_country.to_string(index=False))\n"
   ]
  },
  {
   "cell_type": "code",
   "execution_count": null,
   "id": "a04e7ef9",
   "metadata": {},
   "outputs": [],
   "source": [
    "# 6) Revenue per user (ARPU) and revenue per paying user\n",
    "revenue_per_user = df.groupby('UserID')['Revenue'].sum().reset_index()\n",
    "ARPU = revenue_per_user['Revenue'].mean()\n",
    "\n",
    "paying_users = revenue_per_user[revenue_per_user['Revenue']>0]\n",
    "ARPPU = paying_users['Revenue'].mean() if len(paying_users)>0 else 0\n",
    "\n",
    "print('ARPU (mean revenue per user):', ARPU)\n",
    "print('ARPPU (mean revenue among paying users):', ARPPU)\n",
    "print('Number of paying users:', len(paying_users))\n"
   ]
  },
  {
   "cell_type": "code",
   "execution_count": null,
   "id": "9ac7466d",
   "metadata": {},
   "outputs": [],
   "source": [
    "# 7) Daily time series: total revenue and sessions per day\n",
    "daily = df.groupby('Day').agg(\n",
    "    sessions=('Sessions','sum'),\n",
    "    transactions=('Transactions','sum'),\n",
    "    revenue=('Revenue','sum')\n",
    ").sort_index().reset_index()\n",
    "print(daily.head().to_string(index=False))\n",
    "\n",
    "# Plot daily revenue\n",
    "plt.figure(figsize=(10,4))\n",
    "plt.plot(daily['Day'], daily['revenue'])\n",
    "plt.title('Daily total revenue')\n",
    "plt.xlabel('Day')\n",
    "plt.ylabel('Revenue (USD)')\n",
    "plt.tight_layout()\n",
    "plt.show()\n"
   ]
  },
  {
   "cell_type": "code",
   "execution_count": null,
   "id": "21da04aa",
   "metadata": {},
   "outputs": [],
   "source": [
    "# 8) Bar chart: revenue by country\n",
    "country_rev = by_country.sort_values('revenue', ascending=False)\n",
    "plt.figure(figsize=(8,4))\n",
    "plt.bar(country_rev['Country'], country_rev['revenue'])\n",
    "plt.title('Revenue by Country')\n",
    "plt.xlabel('Country')\n",
    "plt.ylabel('Revenue (USD)')\n",
    "plt.tight_layout()\n",
    "plt.show()\n"
   ]
  },
  {
   "cell_type": "code",
   "execution_count": null,
   "id": "4545dd40",
   "metadata": {},
   "outputs": [],
   "source": [
    "# 9) Bar chart: distinct users by country\n",
    "country_users = by_country.sort_values('users', ascending=False)\n",
    "plt.figure(figsize=(8,4))\n",
    "plt.bar(country_users['Country'], country_users['users'])\n",
    "plt.title('Distinct users by Country')\n",
    "plt.xlabel('Country')\n",
    "plt.ylabel('Users')\n",
    "plt.tight_layout()\n",
    "plt.show()\n"
   ]
  },
  {
   "cell_type": "code",
   "execution_count": null,
   "id": "c6dd25f1",
   "metadata": {},
   "outputs": [],
   "source": [
    "# 10) OS share (pie-like bar) - show as bar\n",
    "os_share = by_os.sort_values('users', ascending=False)\n",
    "plt.figure(figsize=(6,4))\n",
    "plt.bar(os_share['OS'], os_share['users'])\n",
    "plt.title('Users by OS')\n",
    "plt.xlabel('OS')\n",
    "plt.ylabel('Users')\n",
    "plt.tight_layout()\n",
    "plt.show()\n"
   ]
  },
  {
   "cell_type": "code",
   "execution_count": null,
   "id": "ecf42503",
   "metadata": {},
   "outputs": [],
   "source": [
    "# 11) Distribution of session durations (histogram)\n",
    "plt.figure(figsize=(8,4))\n",
    "plt.hist(df['Duration'].dropna(), bins=50)\n",
    "plt.title('Session Duration Distribution (seconds)')\n",
    "plt.xlabel('Duration (s)')\n",
    "plt.ylabel('Count')\n",
    "plt.tight_layout()\n",
    "plt.show()\n"
   ]
  },
  {
   "cell_type": "code",
   "execution_count": null,
   "id": "b3b2b60c",
   "metadata": {},
   "outputs": [],
   "source": [
    "# 12) Scatter: total spent vs revenue aggregated by UserID\n",
    "user_agg = df.groupby('UserID').agg(spent=('Spent','sum'), revenue=('Revenue','sum'), sessions=('Sessions','sum')).reset_index()\n",
    "plt.figure(figsize=(6,5))\n",
    "plt.scatter(user_agg['spent'], user_agg['revenue'])\n",
    "plt.title('User: Spent vs Revenue')\n",
    "plt.xlabel('Total Spent (USD)')\n",
    "plt.ylabel('Total Revenue (USD)')\n",
    "plt.tight_layout()\n",
    "plt.show()\n"
   ]
  },
  {
   "cell_type": "code",
   "execution_count": null,
   "id": "e9d26521",
   "metadata": {},
   "outputs": [],
   "source": [
    "# 13) Top 10 users by revenue\n",
    "top_users = user_agg.sort_values('revenue', ascending=False).head(10)\n",
    "print(top_users.to_string(index=False))\n"
   ]
  },
  {
   "cell_type": "code",
   "execution_count": null,
   "id": "3e16c925",
   "metadata": {},
   "outputs": [],
   "source": [
    "# 14) Save summary tables to CSVs (optional outputs)\n",
    "out_dir = '/mnt/data/analysis_outputs'\n",
    "os.makedirs(out_dir, exist_ok=True)\n",
    "by_country.to_csv(os.path.join(out_dir, 'by_country.csv'), index=False)\n",
    "by_os.to_csv(os.path.join(out_dir, 'by_os.csv'), index=False)\n",
    "daily.to_csv(os.path.join(out_dir, 'daily.csv'), index=False)\n",
    "user_agg.to_csv(os.path.join(out_dir, 'user_agg.csv'), index=False)\n",
    "print('Saved summary CSVs to', out_dir)\n"
   ]
  }
 ],
 "metadata": {},
 "nbformat": 4,
 "nbformat_minor": 5
}
